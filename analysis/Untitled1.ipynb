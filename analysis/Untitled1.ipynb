{
 "cells": [
  {
   "cell_type": "code",
   "execution_count": 49,
   "metadata": {
    "collapsed": true
   },
   "outputs": [],
   "source": [
    "import math\n",
    "from gensim.corpora.mmcorpus import MmCorpus\n",
    "import gensim"
   ]
  },
  {
   "cell_type": "code",
   "execution_count": 2,
   "metadata": {
    "collapsed": false
   },
   "outputs": [
    {
     "data": {
      "text/plain": [
       "5"
      ]
     },
     "execution_count": 2,
     "metadata": {},
     "output_type": "execute_result"
    }
   ],
   "source": [
    "abs(-5)"
   ]
  },
  {
   "cell_type": "code",
   "execution_count": 11,
   "metadata": {
    "collapsed": true
   },
   "outputs": [],
   "source": [
    "def findclosest(number_to_find,elements):\n",
    "    start = 0\n",
    "    end = len(elements)\n",
    "    \n",
    "    while (start <=end):\n",
    "        mid = (start+end)/2\n",
    "        mid_num = elements[mid]\n",
    "        \n",
    "        if (mid_num ==number_to_find): #element found\n",
    "            return mid_num\n",
    "        if start ==end: #only one element\n",
    "            return elements[start]\n",
    "        \n",
    "        lower_range=abs(elements[mid-1] - number_to_find)\n",
    "        upper_range=abs(elements[mid+1]-number_to_find)\n",
    "        \n",
    "        if lower_range<upper_range:\n",
    "            end=mid-1\n",
    "        else:\n",
    "            start=mid+1\n",
    "        print (start,end)\n",
    "        "
   ]
  },
  {
   "cell_type": "code",
   "execution_count": 16,
   "metadata": {
    "collapsed": true
   },
   "outputs": [],
   "source": [
    "elements=[1,2,3,4,5,6]\n",
    "num_to_find=-5"
   ]
  },
  {
   "cell_type": "code",
   "execution_count": 15,
   "metadata": {
    "collapsed": false
   },
   "outputs": [
    {
     "name": "stdout",
     "output_type": "stream",
     "text": [
      "(0, 2)\n",
      "(0, 0)\n",
      "1\n"
     ]
    }
   ],
   "source": [
    "print(findclosest(num_to_find,elements))"
   ]
  },
  {
   "cell_type": "code",
   "execution_count": 17,
   "metadata": {
    "collapsed": true
   },
   "outputs": [],
   "source": [
    "from textblob import TextBlob"
   ]
  },
  {
   "cell_type": "code",
   "execution_count": 18,
   "metadata": {
    "collapsed": true
   },
   "outputs": [],
   "source": [
    "wiki = TextBlob(\"Python is a high-level, general-purpose programming language.\")"
   ]
  },
  {
   "cell_type": "code",
   "execution_count": 19,
   "metadata": {
    "collapsed": false
   },
   "outputs": [
    {
     "data": {
      "text/plain": [
       "[(u'Python', u'NNP'),\n",
       " (u'is', u'VBZ'),\n",
       " (u'a', u'DT'),\n",
       " (u'high-level', u'JJ'),\n",
       " (u'general-purpose', u'JJ'),\n",
       " (u'programming', u'NN'),\n",
       " (u'language', u'NN')]"
      ]
     },
     "execution_count": 19,
     "metadata": {},
     "output_type": "execute_result"
    }
   ],
   "source": [
    "wiki.tags"
   ]
  },
  {
   "cell_type": "code",
   "execution_count": 26,
   "metadata": {
    "collapsed": true
   },
   "outputs": [],
   "source": [
    "valid_pos= [\"FW\",\"NN\",\"NNS\",\"NNP\",\"NNPS\",\"VB\",\"VBZ\",\"VBP\",\"VBD\",\"VBN\",\"VBG\",\"JJ\",\"JJR\",\"JJS\"]\n",
    "valid_pos= [\"FW\",\"NN\",\"NNS\",\"NNP\",\"NNPS\",\"VB\",\"VBZ\",\"VBP\",\"VBD\",\"VBN\",\"VBG\"]\n",
    "\n",
    "vali_pos_set=set(valid_pos)"
   ]
  },
  {
   "cell_type": "code",
   "execution_count": 27,
   "metadata": {
    "collapsed": false
   },
   "outputs": [
    {
     "data": {
      "text/plain": [
       "u'Python is programming language'"
      ]
     },
     "execution_count": 27,
     "metadata": {},
     "output_type": "execute_result"
    }
   ],
   "source": [
    "\" \".join([ res[0] for res in wiki.tags if res[1] in vali_pos_set])"
   ]
  },
  {
   "cell_type": "code",
   "execution_count": 28,
   "metadata": {
    "collapsed": true
   },
   "outputs": [],
   "source": [
    "from textblob import TextBlob\n"
   ]
  },
  {
   "cell_type": "code",
   "execution_count": 29,
   "metadata": {
    "collapsed": false
   },
   "outputs": [
    {
     "data": {
      "text/plain": [
       "u\"I n't quite sure directory would explode\""
      ]
     },
     "execution_count": 29,
     "metadata": {},
     "output_type": "execute_result"
    }
   ],
   "source": [
    "\" \".join([u'I',\n",
    " u\"n't\",\n",
    " u'quite',\n",
    " u'sure',\n",
    " u'directory',\n",
    " u'would',\n",
    " u'explode'])"
   ]
  },
  {
   "cell_type": "code",
   "execution_count": 34,
   "metadata": {
    "collapsed": false
   },
   "outputs": [],
   "source": [
    "t=TextBlob(\"I am n't quite sure directory would explode\").tags\n"
   ]
  },
  {
   "cell_type": "code",
   "execution_count": 35,
   "metadata": {
    "collapsed": false
   },
   "outputs": [
    {
     "data": {
      "text/plain": [
       "[(u'I', u'PRP'),\n",
       " (u'am', u'VBP'),\n",
       " (u'n', u'NN'),\n",
       " (u\"'\", u'POS'),\n",
       " (u't', u'NN'),\n",
       " (u'quite', u'RB'),\n",
       " (u'sure', u'JJ'),\n",
       " (u'directory', u'NN'),\n",
       " (u'would', u'MD'),\n",
       " (u'explode', u'VB')]"
      ]
     },
     "execution_count": 35,
     "metadata": {},
     "output_type": "execute_result"
    }
   ],
   "source": [
    "t"
   ]
  },
  {
   "cell_type": "code",
   "execution_count": 36,
   "metadata": {
    "collapsed": false
   },
   "outputs": [
    {
     "data": {
      "text/plain": [
       "u'am n t directory explode'"
      ]
     },
     "execution_count": 36,
     "metadata": {},
     "output_type": "execute_result"
    }
   ],
   "source": [
    "valid_pos= [\"FW\",\"NN\",\"NNS\",\"NNP\",\"NNPS\",\"VB\",\"VBZ\",\"VBP\",\"VBD\",\"VBN\",\"VBG\"]\n",
    "\n",
    "vali_pos_set=set(valid_pos)\n",
    "\n",
    "\" \".join([ res[0] for res in t if res[1] in vali_pos_set])\n"
   ]
  },
  {
   "cell_type": "code",
   "execution_count": 37,
   "metadata": {
    "collapsed": true
   },
   "outputs": [],
   "source": [
    "import nltk"
   ]
  },
  {
   "cell_type": "code",
   "execution_count": 39,
   "metadata": {
    "collapsed": false
   },
   "outputs": [
    {
     "data": {
      "text/plain": [
       "[u'i',\n",
       " u'me',\n",
       " u'my',\n",
       " u'myself',\n",
       " u'we',\n",
       " u'our',\n",
       " u'ours',\n",
       " u'ourselves',\n",
       " u'you',\n",
       " u'your',\n",
       " u'yours',\n",
       " u'yourself',\n",
       " u'yourselves',\n",
       " u'he',\n",
       " u'him',\n",
       " u'his',\n",
       " u'himself',\n",
       " u'she',\n",
       " u'her',\n",
       " u'hers',\n",
       " u'herself',\n",
       " u'it',\n",
       " u'its',\n",
       " u'itself',\n",
       " u'they',\n",
       " u'them',\n",
       " u'their',\n",
       " u'theirs',\n",
       " u'themselves',\n",
       " u'what',\n",
       " u'which',\n",
       " u'who',\n",
       " u'whom',\n",
       " u'this',\n",
       " u'that',\n",
       " u'these',\n",
       " u'those',\n",
       " u'am',\n",
       " u'is',\n",
       " u'are',\n",
       " u'was',\n",
       " u'were',\n",
       " u'be',\n",
       " u'been',\n",
       " u'being',\n",
       " u'have',\n",
       " u'has',\n",
       " u'had',\n",
       " u'having',\n",
       " u'do',\n",
       " u'does',\n",
       " u'did',\n",
       " u'doing',\n",
       " u'a',\n",
       " u'an',\n",
       " u'the',\n",
       " u'and',\n",
       " u'but',\n",
       " u'if',\n",
       " u'or',\n",
       " u'because',\n",
       " u'as',\n",
       " u'until',\n",
       " u'while',\n",
       " u'of',\n",
       " u'at',\n",
       " u'by',\n",
       " u'for',\n",
       " u'with',\n",
       " u'about',\n",
       " u'against',\n",
       " u'between',\n",
       " u'into',\n",
       " u'through',\n",
       " u'during',\n",
       " u'before',\n",
       " u'after',\n",
       " u'above',\n",
       " u'below',\n",
       " u'to',\n",
       " u'from',\n",
       " u'up',\n",
       " u'down',\n",
       " u'in',\n",
       " u'out',\n",
       " u'on',\n",
       " u'off',\n",
       " u'over',\n",
       " u'under',\n",
       " u'again',\n",
       " u'further',\n",
       " u'then',\n",
       " u'once',\n",
       " u'here',\n",
       " u'there',\n",
       " u'when',\n",
       " u'where',\n",
       " u'why',\n",
       " u'how',\n",
       " u'all',\n",
       " u'any',\n",
       " u'both',\n",
       " u'each',\n",
       " u'few',\n",
       " u'more',\n",
       " u'most',\n",
       " u'other',\n",
       " u'some',\n",
       " u'such',\n",
       " u'no',\n",
       " u'nor',\n",
       " u'not',\n",
       " u'only',\n",
       " u'own',\n",
       " u'same',\n",
       " u'so',\n",
       " u'than',\n",
       " u'too',\n",
       " u'very',\n",
       " u's',\n",
       " u't',\n",
       " u'can',\n",
       " u'will',\n",
       " u'just',\n",
       " u'don',\n",
       " u'should',\n",
       " u'now']"
      ]
     },
     "execution_count": 39,
     "metadata": {},
     "output_type": "execute_result"
    }
   ],
   "source": [
    "nltk.corpus.stopwords.words('english')"
   ]
  },
  {
   "cell_type": "code",
   "execution_count": 41,
   "metadata": {
    "collapsed": true
   },
   "outputs": [],
   "source": [
    "s=set(nltk.corpus.stopwords.words('english'))"
   ]
  },
  {
   "cell_type": "code",
   "execution_count": 46,
   "metadata": {
    "collapsed": false
   },
   "outputs": [
    {
     "data": {
      "text/plain": [
       "True"
      ]
     },
     "execution_count": 46,
     "metadata": {},
     "output_type": "execute_result"
    }
   ],
   "source": [
    "'it' in s"
   ]
  },
  {
   "cell_type": "code",
   "execution_count": 47,
   "metadata": {
    "collapsed": false
   },
   "outputs": [
    {
     "data": {
      "text/plain": [
       "'it'"
      ]
     },
     "execution_count": 47,
     "metadata": {},
     "output_type": "execute_result"
    }
   ],
   "source": [
    "\"It\".lower()"
   ]
  },
  {
   "cell_type": "code",
   "execution_count": 54,
   "metadata": {
    "collapsed": true
   },
   "outputs": [],
   "source": [
    "num_topics=20\n",
    "model_serialized_path='lda_topic_%s.lda'%(num_topics)\n"
   ]
  },
  {
   "cell_type": "code",
   "execution_count": 55,
   "metadata": {
    "collapsed": false
   },
   "outputs": [],
   "source": [
    "lda = gensim.models.LdaMulticore.load(model_serialized_path)"
   ]
  },
  {
   "cell_type": "code",
   "execution_count": 56,
   "metadata": {
    "collapsed": false
   },
   "outputs": [
    {
     "name": "stdout",
     "output_type": "stream",
     "text": [
      " Volume in drive E has no label.\n",
      " Volume Serial Number is 19C7-A2B3\n",
      "\n",
      " Directory of E:\\metis\\ds4_fletcher\n",
      "\n",
      "08/20/2015  02:32 PM    <DIR>          .\n",
      "08/20/2015  02:32 PM    <DIR>          ..\n",
      "08/17/2015  11:44 PM               799 .gitignore\n",
      "08/20/2015  02:32 PM    <DIR>          .idea\n",
      "08/20/2015  09:30 AM    <DIR>          .ipynb_checkpoints\n",
      "08/20/2015  06:51 AM    <DIR>          data\n",
      "08/17/2015  10:10 PM               565 ds4_fletcher.iml\n",
      "08/17/2015  03:17 PM            35,872 graphlab.ipynb\n",
      "08/20/2015  02:32 PM             6,073 helper.py\n",
      "08/20/2015  08:36 AM             4,950 helper.pyc\n",
      "08/20/2015  02:01 PM           240,048 lda_topic_20.lda\n",
      "08/20/2015  02:01 PM           201,087 lda_topic_20.lda.state\n",
      "08/20/2015  05:18 AM             5,268 makedb.py\n",
      "08/19/2015  03:55 AM               196 runserver.py\n",
      "08/20/2015  02:32 PM            24,080 superuser_disk.ipynb\n",
      "08/20/2015  02:32 PM            51,643 superuser_inmemory.ipynb\n",
      "08/20/2015  03:49 AM             1,803 Untitled.ipynb\n",
      "08/20/2015  02:31 PM            20,107 Untitled1.ipynb\n",
      "08/20/2015  02:32 PM    <DIR>          visualizations\n",
      "              13 File(s)        592,491 bytes\n",
      "               6 Dir(s)  634,266,927,104 bytes free\n"
     ]
    }
   ],
   "source": [
    "ls"
   ]
  },
  {
   "cell_type": "code",
   "execution_count": 53,
   "metadata": {
    "collapsed": false
   },
   "outputs": [
    {
     "data": {
      "text/plain": [
       "u'E:\\\\metis\\\\ds4_fletcher'"
      ]
     },
     "execution_count": 53,
     "metadata": {},
     "output_type": "execute_result"
    }
   ],
   "source": [
    "pwd"
   ]
  },
  {
   "cell_type": "code",
   "execution_count": 57,
   "metadata": {
    "collapsed": false
   },
   "outputs": [
    {
     "data": {
      "text/plain": [
       "[u'0.019*fan + 0.018*CPU + 0.012*use + 0.011*speed + 0.011*like + 0.010*lot + 0.010*tab + 0.009*drive + 0.008*much + 0.008*time',\n",
       " u'0.015*would + 0.013*Windows + 0.013*new + 0.013*PC + 0.011*one + 0.010*could + 0.010*use + 0.009*drive + 0.008*data + 0.008*hard',\n",
       " u'0.024*sudo + 0.016*su + 0.014*user + 0.014*root + 0.012*want + 0.012*shell + 0.010*using + 0.009*see + 0.009*new + 0.008*like',\n",
       " u'0.016*use + 0.010*Mac + 0.010*like + 0.010*software + 0.009*works + 0.009*computer + 0.009*monitor + 0.009*sync + 0.009*get + 0.008*one',\n",
       " u'0.024*use + 0.016*computer + 0.016*using + 0.015*work + 0.012*way + 0.012*want + 0.012*get + 0.010*one + 0.010*email + 0.009*web',\n",
       " u'0.025*use + 0.021*screen + 0.014*also + 0.012*memory + 0.012*would + 0.011*like + 0.009*card + 0.008*email + 0.008*using + 0.007*one',\n",
       " u'0.013*use + 0.011*option + 0.009*also + 0.009*Windows + 0.009*driver + 0.009*menu + 0.009*one + 0.009*install + 0.008*kernel + 0.008*could',\n",
       " u'0.019*get + 0.017*use + 0.016*like + 0.015*disk + 0.011*way + 0.011*free + 0.008*work + 0.008*good + 0.008*probably + 0.008*using',\n",
       " u'0.015*Windows + 0.013*file + 0.011*also + 0.011*work + 0.010*get + 0.009*system + 0.009*try + 0.009*network + 0.008*different + 0.008*USB',\n",
       " u'0.016*drive + 0.014*use + 0.013*computer + 0.013*files + 0.012*like + 0.010*work + 0.010*system + 0.009*video + 0.009*one + 0.008*want']"
      ]
     },
     "execution_count": 57,
     "metadata": {},
     "output_type": "execute_result"
    }
   ],
   "source": [
    "lda.show_topics()"
   ]
  },
  {
   "cell_type": "code",
   "execution_count": 59,
   "metadata": {
    "collapsed": true
   },
   "outputs": [],
   "source": [
    "?lda.show_topics"
   ]
  },
  {
   "cell_type": "code",
   "execution_count": 60,
   "metadata": {
    "collapsed": false
   },
   "outputs": [
    {
     "data": {
      "text/plain": [
       "20"
      ]
     },
     "execution_count": 60,
     "metadata": {},
     "output_type": "execute_result"
    }
   ],
   "source": []
  },
  {
   "cell_type": "code",
   "execution_count": 81,
   "metadata": {
    "collapsed": false
   },
   "outputs": [],
   "source": [
    "num_topics = lda.num_topics\n",
    "ll=lda.show_topics(num_topics=num_topics, num_words=10,formatted=False)"
   ]
  },
  {
   "cell_type": "code",
   "execution_count": 64,
   "metadata": {
    "collapsed": false
   },
   "outputs": [
    {
     "data": {
      "text/plain": [
       "[(0.01919214873763567, u'fan'),\n",
       " (0.017592227920861125, u'CPU'),\n",
       " (0.012475996048687014, u'use'),\n",
       " (0.010791145546537579, u'speed'),\n",
       " (0.010727810365968709, u'like'),\n",
       " (0.010233949878663006, u'lot'),\n",
       " (0.0099317133414274748, u'tab'),\n",
       " (0.0091672709107901845, u'drive'),\n",
       " (0.0079962722462902855, u'much'),\n",
       " (0.0079711230392005214, u'time')]"
      ]
     },
     "execution_count": 64,
     "metadata": {},
     "output_type": "execute_result"
    }
   ],
   "source": [
    "ll=lda.show_topic(0)\n",
    "ll"
   ]
  },
  {
   "cell_type": "code",
   "execution_count": 65,
   "metadata": {
    "collapsed": false
   },
   "outputs": [
    {
     "data": {
      "text/plain": [
       "[(0.01919214873763567, u'fan'),\n",
       " (0.017592227920861125, u'CPU'),\n",
       " (0.012475996048687014, u'use'),\n",
       " (0.010791145546537579, u'speed'),\n",
       " (0.010727810365968709, u'like'),\n",
       " (0.010233949878663006, u'lot'),\n",
       " (0.0099317133414274748, u'tab'),\n",
       " (0.0091672709107901845, u'drive'),\n",
       " (0.0079962722462902855, u'much'),\n",
       " (0.0079711230392005214, u'time')]"
      ]
     },
     "execution_count": 65,
     "metadata": {},
     "output_type": "execute_result"
    }
   ],
   "source": [
    "ll[0:15]"
   ]
  },
  {
   "cell_type": "code",
   "execution_count": 73,
   "metadata": {
    "collapsed": false
   },
   "outputs": [
    {
     "data": {
      "text/plain": [
       "u'fan'"
      ]
     },
     "execution_count": 73,
     "metadata": {},
     "output_type": "execute_result"
    }
   ],
   "source": [
    "ll[0][1]"
   ]
  },
  {
   "cell_type": "code",
   "execution_count": 76,
   "metadata": {
    "collapsed": false
   },
   "outputs": [],
   "source": [
    "def create_topic_output(topic_id,counts):\n",
    "    t_out={}\n",
    "    t_out['topic_id']=topic_id\n",
    "    top_5_words=[item[1] for item in counts]\n",
    "    t_out['name']=' '.join(top_5_words)\n",
    "    counts_map=[]\n",
    "    for item in counts:\n",
    "        counts_map.append({'text':item[1] , 'weight':item[0]})\n",
    "    t_out['counts']=counts_map\n",
    "    return t_out\n",
    "\n",
    "    "
   ]
  },
  {
   "cell_type": "code",
   "execution_count": 78,
   "metadata": {
    "collapsed": false
   },
   "outputs": [
    {
     "data": {
      "text/plain": [
       "{'counts': [{'text': u'fan', 'weight': 0.01919214873763567},\n",
       "  {'text': u'CPU', 'weight': 0.017592227920861125},\n",
       "  {'text': u'use', 'weight': 0.012475996048687014},\n",
       "  {'text': u'speed', 'weight': 0.010791145546537579},\n",
       "  {'text': u'like', 'weight': 0.010727810365968709},\n",
       "  {'text': u'lot', 'weight': 0.010233949878663006},\n",
       "  {'text': u'tab', 'weight': 0.0099317133414274748},\n",
       "  {'text': u'drive', 'weight': 0.0091672709107901845},\n",
       "  {'text': u'much', 'weight': 0.0079962722462902855},\n",
       "  {'text': u'time', 'weight': 0.0079711230392005214}],\n",
       " 'name': u'fan CPU use speed like lot tab drive much time',\n",
       " 'topic_id': 0}"
      ]
     },
     "execution_count": 78,
     "metadata": {},
     "output_type": "execute_result"
    }
   ],
   "source": [
    "create_topic_output(0,ll)"
   ]
  },
  {
   "cell_type": "code",
   "execution_count": 79,
   "metadata": {
    "collapsed": false
   },
   "outputs": [
    {
     "name": "stdout",
     "output_type": "stream",
     "text": [
      "(0, (0.01919214873763567, u'fan'))\n",
      "(1, (0.017592227920861125, u'CPU'))\n",
      "(2, (0.012475996048687014, u'use'))\n",
      "(3, (0.010791145546537579, u'speed'))\n",
      "(4, (0.010727810365968709, u'like'))\n",
      "(5, (0.010233949878663006, u'lot'))\n",
      "(6, (0.0099317133414274748, u'tab'))\n",
      "(7, (0.0091672709107901845, u'drive'))\n",
      "(8, (0.0079962722462902855, u'much'))\n",
      "(9, (0.0079711230392005214, u'time'))\n"
     ]
    }
   ],
   "source": [
    "for idx,t in enumerate(ll):\n",
    "    print (idx,t)"
   ]
  },
  {
   "cell_type": "code",
   "execution_count": 82,
   "metadata": {
    "collapsed": false
   },
   "outputs": [],
   "source": [
    "topic_outs=[]\n",
    "for idx,t in enumerate(ll):\n",
    "    to=create_topic_output(idx,t)\n",
    "    topic_outs.append(to)\n"
   ]
  },
  {
   "cell_type": "code",
   "execution_count": 83,
   "metadata": {
    "collapsed": false
   },
   "outputs": [
    {
     "data": {
      "text/plain": [
       "[{'counts': [{'text': u'fan', 'weight': 0.01919214873763567},\n",
       "   {'text': u'CPU', 'weight': 0.017592227920861125},\n",
       "   {'text': u'use', 'weight': 0.012475996048687014},\n",
       "   {'text': u'speed', 'weight': 0.010791145546537579},\n",
       "   {'text': u'like', 'weight': 0.010727810365968709},\n",
       "   {'text': u'lot', 'weight': 0.010233949878663006},\n",
       "   {'text': u'tab', 'weight': 0.0099317133414274748},\n",
       "   {'text': u'drive', 'weight': 0.0091672709107901845},\n",
       "   {'text': u'much', 'weight': 0.0079962722462902855},\n",
       "   {'text': u'time', 'weight': 0.0079711230392005214}],\n",
       "  'name': u'fan CPU use speed like lot tab drive much time',\n",
       "  'topic_id': 0},\n",
       " {'counts': [{'text': u'Windows', 'weight': 0.015181629951956946},\n",
       "   {'text': u'file', 'weight': 0.013085449830647454},\n",
       "   {'text': u'also', 'weight': 0.010669193766360269},\n",
       "   {'text': u'work', 'weight': 0.010616447790830571},\n",
       "   {'text': u'get', 'weight': 0.0096118551708463396},\n",
       "   {'text': u'system', 'weight': 0.0094193146028966491},\n",
       "   {'text': u'try', 'weight': 0.0094044340265452882},\n",
       "   {'text': u'network', 'weight': 0.0086014071286753344},\n",
       "   {'text': u'different', 'weight': 0.0080865178229161342},\n",
       "   {'text': u'USB', 'weight': 0.0079821446355028778}],\n",
       "  'name': u'Windows file also work get system try network different USB',\n",
       "  'topic_id': 1},\n",
       " {'counts': [{'text': u'search', 'weight': 0.022880943237889147},\n",
       "   {'text': u'use', 'weight': 0.018949615094851723},\n",
       "   {'text': u'used', 'weight': 0.011753255934698116},\n",
       "   {'text': u'network', 'weight': 0.0098040628798586327},\n",
       "   {'text': u'time', 'weight': 0.0097723768330174876},\n",
       "   {'text': u'system', 'weight': 0.0093578581140894065},\n",
       "   {'text': u'laptop', 'weight': 0.0084875396850189987},\n",
       "   {'text': u'Windows', 'weight': 0.0079756135592259792},\n",
       "   {'text': u'would', 'weight': 0.0071007689480735202},\n",
       "   {'text': u'server', 'weight': 0.006960180564295539}],\n",
       "  'name': u'search use used network time system laptop Windows would server',\n",
       "  'topic_id': 2},\n",
       " {'counts': [{'text': u'Windows', 'weight': 0.052230952992997209},\n",
       "   {'text': u'install', 'weight': 0.017450339038864005},\n",
       "   {'text': u'version', 'weight': 0.013575055857336586},\n",
       "   {'text': u'Vista', 'weight': 0.013361740680690766},\n",
       "   {'text': u'like', 'weight': 0.013061615815396225},\n",
       "   {'text': u'http', 'weight': 0.011810124018937872},\n",
       "   {'text': u'folder', 'weight': 0.010263459476121516},\n",
       "   {'text': u'RC', 'weight': 0.0099755767956444304},\n",
       "   {'text': u'clean', 'weight': 0.0098776357782103131},\n",
       "   {'text': u'disk', 'weight': 0.0096662825897941059}],\n",
       "  'name': u'Windows install version Vista like http folder RC clean disk',\n",
       "  'topic_id': 3},\n",
       " {'counts': [{'text': u'use', 'weight': 0.025220602900559646},\n",
       "   {'text': u'screen', 'weight': 0.021366463544211581},\n",
       "   {'text': u'also', 'weight': 0.013929461085296534},\n",
       "   {'text': u'memory', 'weight': 0.011835707855492286},\n",
       "   {'text': u'would', 'weight': 0.011637350686699088},\n",
       "   {'text': u'like', 'weight': 0.011384364695687897},\n",
       "   {'text': u'card', 'weight': 0.0088485457245317412},\n",
       "   {'text': u'email', 'weight': 0.0084638076118363926},\n",
       "   {'text': u'using', 'weight': 0.0078227094766734045},\n",
       "   {'text': u'one', 'weight': 0.0073761453714664155}],\n",
       "  'name': u'use screen also memory would like card email using one',\n",
       "  'topic_id': 4},\n",
       " {'counts': [{'text': u'Windows', 'weight': 0.020657591741484765},\n",
       "   {'text': u'use', 'weight': 0.019967459269147388},\n",
       "   {'text': u'Vista', 'weight': 0.017584974210333833},\n",
       "   {'text': u'user', 'weight': 0.012066630923809642},\n",
       "   {'text': u'need', 'weight': 0.01156275990953224},\n",
       "   {'text': u'run', 'weight': 0.010062933071794407},\n",
       "   {'text': u'like', 'weight': 0.0098315213184967023},\n",
       "   {'text': u'PC', 'weight': 0.0097193514228901025},\n",
       "   {'text': u'tried', 'weight': 0.0073582170918666577},\n",
       "   {'text': u'home', 'weight': 0.0071412297456656167}],\n",
       "  'name': u'Windows use Vista user need run like PC tried home',\n",
       "  'topic_id': 5},\n",
       " {'counts': [{'text': u'use', 'weight': 0.016056382438835757},\n",
       "   {'text': u'Mac', 'weight': 0.010051838808552174},\n",
       "   {'text': u'like', 'weight': 0.0095833488334637704},\n",
       "   {'text': u'software', 'weight': 0.0095061238052235736},\n",
       "   {'text': u'works', 'weight': 0.0093196031052263529},\n",
       "   {'text': u'computer', 'weight': 0.0087775169720525018},\n",
       "   {'text': u'monitor', 'weight': 0.0086794879183912949},\n",
       "   {'text': u'sync', 'weight': 0.0086548234600868426},\n",
       "   {'text': u'get', 'weight': 0.0085046993368962844},\n",
       "   {'text': u'one', 'weight': 0.008196771887471142}],\n",
       "  'name': u'use Mac like software works computer monitor sync get one',\n",
       "  'topic_id': 6},\n",
       " {'counts': [{'text': u'drive', 'weight': 0.016105638792072399},\n",
       "   {'text': u'use', 'weight': 0.013596437015204165},\n",
       "   {'text': u'computer', 'weight': 0.012815905155904356},\n",
       "   {'text': u'files', 'weight': 0.01269644679324425},\n",
       "   {'text': u'like', 'weight': 0.012220136319626419},\n",
       "   {'text': u'work', 'weight': 0.009782865782562624},\n",
       "   {'text': u'system', 'weight': 0.0096312396278142708},\n",
       "   {'text': u'video', 'weight': 0.0093525511266014331},\n",
       "   {'text': u'one', 'weight': 0.0085583012662978301},\n",
       "   {'text': u'want', 'weight': 0.0083963550857389831}],\n",
       "  'name': u'drive use computer files like work system video one want',\n",
       "  'topic_id': 7},\n",
       " {'counts': [{'text': u'use', 'weight': 0.023397420025695576},\n",
       "   {'text': u'Windows', 'weight': 0.019574369059076356},\n",
       "   {'text': u'PDF', 'weight': 0.011335336589454899},\n",
       "   {'text': u'Mac', 'weight': 0.011078598857283762},\n",
       "   {'text': u'Google', 'weight': 0.010047273761253948},\n",
       "   {'text': u'would', 'weight': 0.010033126675308254},\n",
       "   {'text': u'like', 'weight': 0.0095687885982242531},\n",
       "   {'text': u'registry', 'weight': 0.0078305191991322257},\n",
       "   {'text': u'want', 'weight': 0.0077766748666902473},\n",
       "   {'text': u'using', 'weight': 0.0073881792854189766}],\n",
       "  'name': u'use Windows PDF Mac Google would like registry want using',\n",
       "  'topic_id': 8},\n",
       " {'counts': [{'text': u'use', 'weight': 0.016592843949073174},\n",
       "   {'text': u'drive', 'weight': 0.01237657175405112},\n",
       "   {'text': u'Ubuntu', 'weight': 0.011500949643966548},\n",
       "   {'text': u'like', 'weight': 0.010669269724762844},\n",
       "   {'text': u'Windows', 'weight': 0.010620874666395063},\n",
       "   {'text': u'computer', 'weight': 0.0096938453438617598},\n",
       "   {'text': u'want', 'weight': 0.009323345064933198},\n",
       "   {'text': u'Linux', 'weight': 0.0093085516541595598},\n",
       "   {'text': u'OS', 'weight': 0.0091410928721825432},\n",
       "   {'text': u'one', 'weight': 0.0085938226264272305}],\n",
       "  'name': u'use drive Ubuntu like Windows computer want Linux OS one',\n",
       "  'topic_id': 9},\n",
       " {'counts': [{'text': u'use', 'weight': 0.012903984574362775},\n",
       "   {'text': u'option', 'weight': 0.011062385188863754},\n",
       "   {'text': u'also', 'weight': 0.0094547668419985628},\n",
       "   {'text': u'Windows', 'weight': 0.0092895026970974143},\n",
       "   {'text': u'driver', 'weight': 0.0088463970201922686},\n",
       "   {'text': u'menu', 'weight': 0.0088266764850182516},\n",
       "   {'text': u'one', 'weight': 0.0087159350666939656},\n",
       "   {'text': u'install', 'weight': 0.0086214190985023902},\n",
       "   {'text': u'kernel', 'weight': 0.0084115407157734998},\n",
       "   {'text': u'could', 'weight': 0.0081905490593285561}],\n",
       "  'name': u'use option also Windows driver menu one install kernel could',\n",
       "  'topic_id': 10},\n",
       " {'counts': [{'text': u'Windows', 'weight': 0.014819564359575906},\n",
       "   {'text': u'using', 'weight': 0.014191081709889837},\n",
       "   {'text': u'Gmail', 'weight': 0.013697285383985507},\n",
       "   {'text': u'better', 'weight': 0.013597676948725566},\n",
       "   {'text': u'like', 'weight': 0.013221020203683658},\n",
       "   {'text': u'power', 'weight': 0.011939269484333329},\n",
       "   {'text': u'use', 'weight': 0.011838733785140826},\n",
       "   {'text': u'application', 'weight': 0.011525140448753605},\n",
       "   {'text': u'set', 'weight': 0.0084471597454964346},\n",
       "   {'text': u'settings', 'weight': 0.0080803267538432175}],\n",
       "  'name': u'Windows using Gmail better like power use application set settings',\n",
       "  'topic_id': 11},\n",
       " {'counts': [{'text': u'Windows', 'weight': 0.016767077185704426},\n",
       "   {'text': u'like', 'weight': 0.010826416329782229},\n",
       "   {'text': u'sure', 'weight': 0.010089103053706963},\n",
       "   {'text': u'go', 'weight': 0.009691886830312595},\n",
       "   {'text': u'make', 'weight': 0.0089465725331308293},\n",
       "   {'text': u'problem', 'weight': 0.008641393885807036},\n",
       "   {'text': u'want', 'weight': 0.0081559680380928826},\n",
       "   {'text': u'look', 'weight': 0.00811470578740499},\n",
       "   {'text': u'system', 'weight': 0.008084758702773755},\n",
       "   {'text': u'use', 'weight': 0.0078795448196440025}],\n",
       "  'name': u'Windows like sure go make problem want look system use',\n",
       "  'topic_id': 12},\n",
       " {'counts': [{'text': u'would', 'weight': 0.017023183892228875},\n",
       "   {'text': u'Flash', 'weight': 0.016686930078657802},\n",
       "   {'text': u'use', 'weight': 0.012584184033641877},\n",
       "   {'text': u'browser', 'weight': 0.011314658993277396},\n",
       "   {'text': u'network', 'weight': 0.010416209296449692},\n",
       "   {'text': u'using', 'weight': 0.009874292249316954},\n",
       "   {'text': u'file', 'weight': 0.0092842574507706836},\n",
       "   {'text': u'third-party', 'weight': 0.0092675480585442307},\n",
       "   {'text': u'Center', 'weight': 0.0092634743101225984},\n",
       "   {'text': u'Media', 'weight': 0.0092583956563506691}],\n",
       "  'name': u'would Flash use browser network using file third-party Center Media',\n",
       "  'topic_id': 13},\n",
       " {'counts': [{'text': u'Windows', 'weight': 0.026835012768311507},\n",
       "   {'text': u'would', 'weight': 0.014410750252962604},\n",
       "   {'text': u'need', 'weight': 0.01063775159527976},\n",
       "   {'text': u'like', 'weight': 0.0096807603915832919},\n",
       "   {'text': u'iTunes', 'weight': 0.009427678892785684},\n",
       "   {'text': u'files', 'weight': 0.0093174385680822452},\n",
       "   {'text': u'XP', 'weight': 0.0085843924741305869},\n",
       "   {'text': u'registry', 'weight': 0.0085191209762867457},\n",
       "   {'text': u'file', 'weight': 0.0079030065673409006},\n",
       "   {'text': u'top', 'weight': 0.0078724307757620272}],\n",
       "  'name': u'Windows would need like iTunes files XP registry file top',\n",
       "  'topic_id': 14},\n",
       " {'counts': [{'text': u'use', 'weight': 0.023667845373820176},\n",
       "   {'text': u'computer', 'weight': 0.016239821032700712},\n",
       "   {'text': u'using', 'weight': 0.016063656623261962},\n",
       "   {'text': u'work', 'weight': 0.01454880100692523},\n",
       "   {'text': u'way', 'weight': 0.012372859320450574},\n",
       "   {'text': u'want', 'weight': 0.012245290803284082},\n",
       "   {'text': u'get', 'weight': 0.011553655870846441},\n",
       "   {'text': u'one', 'weight': 0.010145281350479006},\n",
       "   {'text': u'email', 'weight': 0.0099768194022647073},\n",
       "   {'text': u'web', 'weight': 0.0091178545477317175}],\n",
       "  'name': u'use computer using work way want get one email web',\n",
       "  'topic_id': 15},\n",
       " {'counts': [{'text': u'USB', 'weight': 0.022547516924758513},\n",
       "   {'text': u'drive', 'weight': 0.022027113629595734},\n",
       "   {'text': u'use', 'weight': 0.014776629148338809},\n",
       "   {'text': u'know', 'weight': 0.012827169734949377},\n",
       "   {'text': u'work', 'weight': 0.011049984075720276},\n",
       "   {'text': u'using', 'weight': 0.010302134770047416},\n",
       "   {'text': u'usually', 'weight': 0.0097533741884677418},\n",
       "   {'text': u'Ubuntu', 'weight': 0.0096118189333725835},\n",
       "   {'text': u'boot', 'weight': 0.008919200291050906},\n",
       "   {'text': u'like', 'weight': 0.0085727149030338286}],\n",
       "  'name': u'USB drive use know work using usually Ubuntu boot like',\n",
       "  'topic_id': 16},\n",
       " {'counts': [{'text': u'would', 'weight': 0.01491543153693964},\n",
       "   {'text': u'Windows', 'weight': 0.013358317278366883},\n",
       "   {'text': u'new', 'weight': 0.013315075981209835},\n",
       "   {'text': u'PC', 'weight': 0.012560845547924176},\n",
       "   {'text': u'one', 'weight': 0.010529137107938482},\n",
       "   {'text': u'could', 'weight': 0.010096536092065353},\n",
       "   {'text': u'use', 'weight': 0.0099931458866774295},\n",
       "   {'text': u'drive', 'weight': 0.0087527250209698763},\n",
       "   {'text': u'data', 'weight': 0.0079242501226452818},\n",
       "   {'text': u'hard', 'weight': 0.0078054215472949627}],\n",
       "  'name': u'would Windows new PC one could use drive data hard',\n",
       "  'topic_id': 17},\n",
       " {'counts': [{'text': u'get', 'weight': 0.019212583994950065},\n",
       "   {'text': u'use', 'weight': 0.017090552890593521},\n",
       "   {'text': u'like', 'weight': 0.016150946549711779},\n",
       "   {'text': u'disk', 'weight': 0.015488994924413852},\n",
       "   {'text': u'way', 'weight': 0.011037820000220695},\n",
       "   {'text': u'free', 'weight': 0.010933730836108869},\n",
       "   {'text': u'work', 'weight': 0.0083448500182299046},\n",
       "   {'text': u'good', 'weight': 0.0080060633692229551},\n",
       "   {'text': u'probably', 'weight': 0.0079489179994014988},\n",
       "   {'text': u'using', 'weight': 0.0078637011972693995}],\n",
       "  'name': u'get use like disk way free work good probably using',\n",
       "  'topic_id': 18},\n",
       " {'counts': [{'text': u'sudo', 'weight': 0.024096883854712096},\n",
       "   {'text': u'su', 'weight': 0.016220546041196222},\n",
       "   {'text': u'user', 'weight': 0.014471904437275314},\n",
       "   {'text': u'root', 'weight': 0.014258843725150648},\n",
       "   {'text': u'want', 'weight': 0.012373715445728248},\n",
       "   {'text': u'shell', 'weight': 0.012309462030871533},\n",
       "   {'text': u'using', 'weight': 0.0096540856919438024},\n",
       "   {'text': u'see', 'weight': 0.0090459621859092145},\n",
       "   {'text': u'new', 'weight': 0.0085564744796071263},\n",
       "   {'text': u'like', 'weight': 0.0081379913228564436}],\n",
       "  'name': u'sudo su user root want shell using see new like',\n",
       "  'topic_id': 19}]"
      ]
     },
     "execution_count": 83,
     "metadata": {},
     "output_type": "execute_result"
    }
   ],
   "source": [
    "topic_outs"
   ]
  },
  {
   "cell_type": "code",
   "execution_count": 84,
   "metadata": {
    "collapsed": false
   },
   "outputs": [
    {
     "data": {
      "text/plain": [
       "[(0.01919214873763567, u'fan'),\n",
       " (0.017592227920861125, u'CPU'),\n",
       " (0.012475996048687014, u'use'),\n",
       " (0.010791145546537579, u'speed'),\n",
       " (0.010727810365968709, u'like'),\n",
       " (0.010233949878663006, u'lot'),\n",
       " (0.0099317133414274748, u'tab'),\n",
       " (0.0091672709107901845, u'drive'),\n",
       " (0.0079962722462902855, u'much'),\n",
       " (0.0079711230392005214, u'time')]"
      ]
     },
     "execution_count": 84,
     "metadata": {},
     "output_type": "execute_result"
    }
   ],
   "source": [
    "lda.show_topic(0)"
   ]
  },
  {
   "cell_type": "code",
   "execution_count": 85,
   "metadata": {
    "collapsed": true
   },
   "outputs": [],
   "source": [
    "def my_cust_function(n):\n",
    "    topic = my_function(n['text'])\n",
    "    return topic"
   ]
  },
  {
   "cell_type": "code",
   "execution_count": null,
   "metadata": {
    "collapsed": true
   },
   "outputs": [],
   "source": [
    "df['topic']= df.apply(my)"
   ]
  },
  {
   "cell_type": "code",
   "execution_count": null,
   "metadata": {
    "collapsed": true
   },
   "outputs": [],
   "source": [
    "lda[]"
   ]
  }
 ],
 "metadata": {
  "kernelspec": {
   "display_name": "Python 2",
   "language": "python",
   "name": "python2"
  },
  "language_info": {
   "codemirror_mode": {
    "name": "ipython",
    "version": 2
   },
   "file_extension": ".py",
   "mimetype": "text/x-python",
   "name": "python",
   "nbconvert_exporter": "python",
   "pygments_lexer": "ipython2",
   "version": "2.7.10"
  }
 },
 "nbformat": 4,
 "nbformat_minor": 0
}
