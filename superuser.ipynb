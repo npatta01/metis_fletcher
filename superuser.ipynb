{
 "cells": [
  {
   "cell_type": "code",
   "execution_count": 1,
   "metadata": {
    "collapsed": true
   },
   "outputs": [],
   "source": [
    "import xmltodict\n",
    "import io\n",
    "import xml.etree.ElementTree as ET\n",
    "import pandas as pd\n",
    "import helper\n",
    "from sklearn.feature_extraction.text import CountVectorizer"
   ]
  },
  {
   "cell_type": "code",
   "execution_count": 2,
   "metadata": {
    "collapsed": true
   },
   "outputs": [],
   "source": [
    "%load_ext autoreload\n",
    "%autoreload 2"
   ]
  },
  {
   "cell_type": "code",
   "execution_count": 3,
   "metadata": {
    "collapsed": false,
    "scrolled": true
   },
   "outputs": [
    {
     "name": "stdout",
     "output_type": "stream",
     "text": [
      " Volume in drive E has no label.\n",
      " Volume Serial Number is 19C7-A2B3\n",
      "\n",
      " Directory of E:\\metis\\ds4_fletcher\\data\n",
      "\n",
      "08/17/2015  12:55 PM    <DIR>          .\n",
      "08/17/2015  12:55 PM    <DIR>          ..\n",
      "03/09/2015  06:04 PM        60,201,826 Badges.xml\n",
      "03/09/2015  06:04 PM       238,716,194 Comments.xml\n",
      "03/09/2015  06:05 PM     1,144,804,160 PostHistory.xml\n",
      "03/09/2015  06:06 PM         6,192,845 PostLinks.xml\n",
      "03/09/2015  06:06 PM       736,314,717 Posts.xml\n",
      "03/09/2015  06:06 PM           367,147 Tags.xml\n",
      "03/09/2015  06:06 PM       100,081,558 Users.xml\n",
      "03/09/2015  06:07 PM       210,233,404 Votes.xml\n",
      "               8 File(s)  2,496,911,851 bytes\n",
      "               2 Dir(s)  638,832,103,424 bytes free\n"
     ]
    }
   ],
   "source": [
    "ls data"
   ]
  },
  {
   "cell_type": "code",
   "execution_count": 4,
   "metadata": {
    "collapsed": true
   },
   "outputs": [],
   "source": [
    "tree = ET.parse('data\\Tags.xml')\n",
    "root = tree.getroot()"
   ]
  },
  {
   "cell_type": "code",
   "execution_count": 5,
   "metadata": {
    "collapsed": false
   },
   "outputs": [
    {
     "data": {
      "text/plain": [
       "'tags'"
      ]
     },
     "execution_count": 5,
     "metadata": {},
     "output_type": "execute_result"
    }
   ],
   "source": [
    "root.tag"
   ]
  },
  {
   "cell_type": "code",
   "execution_count": null,
   "metadata": {
    "collapsed": false
   },
   "outputs": [],
   "source": []
  },
  {
   "cell_type": "code",
   "execution_count": 6,
   "metadata": {
    "collapsed": false
   },
   "outputs": [],
   "source": [
    "tags_df = helper.get_xml_file_as_df('data\\Tags.xml',max_num_children=100)"
   ]
  },
  {
   "cell_type": "code",
   "execution_count": 7,
   "metadata": {
    "collapsed": false
   },
   "outputs": [
    {
     "data": {
      "text/html": [
       "<div>\n",
       "<table border=\"1\" class=\"dataframe\">\n",
       "  <thead>\n",
       "    <tr style=\"text-align: right;\">\n",
       "      <th></th>\n",
       "      <th>Count</th>\n",
       "      <th>ExcerptPostId</th>\n",
       "      <th>Id</th>\n",
       "      <th>TagName</th>\n",
       "      <th>WikiPostId</th>\n",
       "    </tr>\n",
       "  </thead>\n",
       "  <tbody>\n",
       "    <tr>\n",
       "      <th>0</th>\n",
       "      <td>206</td>\n",
       "      <td>392824</td>\n",
       "      <td>203</td>\n",
       "      <td>firmware</td>\n",
       "      <td>392823</td>\n",
       "    </tr>\n",
       "    <tr>\n",
       "      <th>1</th>\n",
       "      <td>993</td>\n",
       "      <td>320795</td>\n",
       "      <td>204</td>\n",
       "      <td>upgrade</td>\n",
       "      <td>320794</td>\n",
       "    </tr>\n",
       "    <tr>\n",
       "      <th>2</th>\n",
       "      <td>13643</td>\n",
       "      <td>244736</td>\n",
       "      <td>205</td>\n",
       "      <td>networking</td>\n",
       "      <td>244735</td>\n",
       "    </tr>\n",
       "    <tr>\n",
       "      <th>3</th>\n",
       "      <td>3468</td>\n",
       "      <td>257013</td>\n",
       "      <td>206</td>\n",
       "      <td>audio</td>\n",
       "      <td>257012</td>\n",
       "    </tr>\n",
       "    <tr>\n",
       "      <th>4</th>\n",
       "      <td>2825</td>\n",
       "      <td>256215</td>\n",
       "      <td>207</td>\n",
       "      <td>video</td>\n",
       "      <td>256214</td>\n",
       "    </tr>\n",
       "  </tbody>\n",
       "</table>\n",
       "</div>"
      ],
      "text/plain": [
       "   Count ExcerptPostId   Id     TagName WikiPostId\n",
       "0    206        392824  203    firmware     392823\n",
       "1    993        320795  204     upgrade     320794\n",
       "2  13643        244736  205  networking     244735\n",
       "3   3468        257013  206       audio     257012\n",
       "4   2825        256215  207       video     256214"
      ]
     },
     "execution_count": 7,
     "metadata": {},
     "output_type": "execute_result"
    }
   ],
   "source": [
    "tags_df.head()"
   ]
  },
  {
   "cell_type": "code",
   "execution_count": 8,
   "metadata": {
    "collapsed": true
   },
   "outputs": [],
   "source": [
    "posts_df = helper.get_xml_file_as_df('data\\Posts.xml',max_num_children=1000)"
   ]
  },
  {
   "cell_type": "code",
   "execution_count": 9,
   "metadata": {
    "collapsed": false
   },
   "outputs": [
    {
     "data": {
      "text/html": [
       "<div>\n",
       "<table border=\"1\" class=\"dataframe\">\n",
       "  <thead>\n",
       "    <tr style=\"text-align: right;\">\n",
       "      <th></th>\n",
       "      <th>AcceptedAnswerId</th>\n",
       "      <th>AnswerCount</th>\n",
       "      <th>Body</th>\n",
       "      <th>ClosedDate</th>\n",
       "      <th>CommentCount</th>\n",
       "      <th>CommunityOwnedDate</th>\n",
       "      <th>CreationDate</th>\n",
       "      <th>FavoriteCount</th>\n",
       "      <th>Id</th>\n",
       "      <th>LastActivityDate</th>\n",
       "      <th>...</th>\n",
       "      <th>LastEditorDisplayName</th>\n",
       "      <th>LastEditorUserId</th>\n",
       "      <th>OwnerDisplayName</th>\n",
       "      <th>OwnerUserId</th>\n",
       "      <th>ParentId</th>\n",
       "      <th>PostTypeId</th>\n",
       "      <th>Score</th>\n",
       "      <th>Tags</th>\n",
       "      <th>Title</th>\n",
       "      <th>ViewCount</th>\n",
       "    </tr>\n",
       "  </thead>\n",
       "  <tbody>\n",
       "    <tr>\n",
       "      <th>0</th>\n",
       "      <td>727273</td>\n",
       "      <td>10</td>\n",
       "      <td>&lt;p&gt;A Vista virtual machine I use only has a 10...</td>\n",
       "      <td>NaN</td>\n",
       "      <td>9</td>\n",
       "      <td>NaN</td>\n",
       "      <td>2009-07-15T06:27:46.723</td>\n",
       "      <td>69</td>\n",
       "      <td>1</td>\n",
       "      <td>2014-10-18T07:23:25.843</td>\n",
       "      <td>...</td>\n",
       "      <td>NaN</td>\n",
       "      <td>73637</td>\n",
       "      <td>NaN</td>\n",
       "      <td>1</td>\n",
       "      <td>NaN</td>\n",
       "      <td>1</td>\n",
       "      <td>132</td>\n",
       "      <td>&lt;windows&gt;&lt;disk-space&gt;&lt;winsxs&gt;</td>\n",
       "      <td>Why does the /winsxs folder grow so large, and...</td>\n",
       "      <td>70584</td>\n",
       "    </tr>\n",
       "    <tr>\n",
       "      <th>1</th>\n",
       "      <td>NaN</td>\n",
       "      <td>6</td>\n",
       "      <td>&lt;p&gt;I used to record important technical meetin...</td>\n",
       "      <td>NaN</td>\n",
       "      <td>0</td>\n",
       "      <td>NaN</td>\n",
       "      <td>2009-07-08T16:32:47.817</td>\n",
       "      <td>3</td>\n",
       "      <td>24</td>\n",
       "      <td>2012-08-08T21:06:48.087</td>\n",
       "      <td>...</td>\n",
       "      <td>NaN</td>\n",
       "      <td>36744</td>\n",
       "      <td>essamSALAH</td>\n",
       "      <td>NaN</td>\n",
       "      <td>NaN</td>\n",
       "      <td>1</td>\n",
       "      <td>5</td>\n",
       "      <td>&lt;audio&gt;&lt;audio-recording&gt;&lt;camtasia&gt;</td>\n",
       "      <td>How can I remove noise from an audio recording?</td>\n",
       "      <td>3654</td>\n",
       "    </tr>\n",
       "    <tr>\n",
       "      <th>2</th>\n",
       "      <td>NaN</td>\n",
       "      <td>NaN</td>\n",
       "      <td>&lt;p&gt;You could use a filter on the recording. If...</td>\n",
       "      <td>NaN</td>\n",
       "      <td>0</td>\n",
       "      <td>NaN</td>\n",
       "      <td>2009-07-08T16:34:52.867</td>\n",
       "      <td>NaN</td>\n",
       "      <td>25</td>\n",
       "      <td>2009-07-15T06:48:44.300</td>\n",
       "      <td>...</td>\n",
       "      <td>NaN</td>\n",
       "      <td>NaN</td>\n",
       "      <td>Burkhard</td>\n",
       "      <td>9637</td>\n",
       "      <td>24</td>\n",
       "      <td>2</td>\n",
       "      <td>0</td>\n",
       "      <td>NaN</td>\n",
       "      <td>NaN</td>\n",
       "      <td>NaN</td>\n",
       "    </tr>\n",
       "    <tr>\n",
       "      <th>3</th>\n",
       "      <td>NaN</td>\n",
       "      <td>NaN</td>\n",
       "      <td>&lt;p&gt;try out something like:&lt;/p&gt;\\n\\n&lt;p&gt;audible (...</td>\n",
       "      <td>NaN</td>\n",
       "      <td>0</td>\n",
       "      <td>NaN</td>\n",
       "      <td>2009-07-08T16:59:00.587</td>\n",
       "      <td>NaN</td>\n",
       "      <td>26</td>\n",
       "      <td>2009-07-15T06:48:44.300</td>\n",
       "      <td>...</td>\n",
       "      <td>NaN</td>\n",
       "      <td>NaN</td>\n",
       "      <td>Jas Panesar</td>\n",
       "      <td>23242</td>\n",
       "      <td>24</td>\n",
       "      <td>2</td>\n",
       "      <td>0</td>\n",
       "      <td>NaN</td>\n",
       "      <td>NaN</td>\n",
       "      <td>NaN</td>\n",
       "    </tr>\n",
       "    <tr>\n",
       "      <th>4</th>\n",
       "      <td>NaN</td>\n",
       "      <td>NaN</td>\n",
       "      <td>&lt;p&gt;You definitely need some sort of software t...</td>\n",
       "      <td>NaN</td>\n",
       "      <td>1</td>\n",
       "      <td>NaN</td>\n",
       "      <td>2009-07-08T17:15:59.477</td>\n",
       "      <td>NaN</td>\n",
       "      <td>27</td>\n",
       "      <td>2009-07-15T06:48:44.300</td>\n",
       "      <td>...</td>\n",
       "      <td>NaN</td>\n",
       "      <td>NaN</td>\n",
       "      <td>T Pops</td>\n",
       "      <td>45675</td>\n",
       "      <td>24</td>\n",
       "      <td>2</td>\n",
       "      <td>0</td>\n",
       "      <td>NaN</td>\n",
       "      <td>NaN</td>\n",
       "      <td>NaN</td>\n",
       "    </tr>\n",
       "  </tbody>\n",
       "</table>\n",
       "<p>5 rows × 21 columns</p>\n",
       "</div>"
      ],
      "text/plain": [
       "  AcceptedAnswerId AnswerCount  \\\n",
       "0           727273          10   \n",
       "1              NaN           6   \n",
       "2              NaN         NaN   \n",
       "3              NaN         NaN   \n",
       "4              NaN         NaN   \n",
       "\n",
       "                                                Body ClosedDate CommentCount  \\\n",
       "0  <p>A Vista virtual machine I use only has a 10...        NaN            9   \n",
       "1  <p>I used to record important technical meetin...        NaN            0   \n",
       "2  <p>You could use a filter on the recording. If...        NaN            0   \n",
       "3  <p>try out something like:</p>\\n\\n<p>audible (...        NaN            0   \n",
       "4  <p>You definitely need some sort of software t...        NaN            1   \n",
       "\n",
       "  CommunityOwnedDate             CreationDate FavoriteCount  Id  \\\n",
       "0                NaN  2009-07-15T06:27:46.723            69   1   \n",
       "1                NaN  2009-07-08T16:32:47.817             3  24   \n",
       "2                NaN  2009-07-08T16:34:52.867           NaN  25   \n",
       "3                NaN  2009-07-08T16:59:00.587           NaN  26   \n",
       "4                NaN  2009-07-08T17:15:59.477           NaN  27   \n",
       "\n",
       "          LastActivityDate    ...    LastEditorDisplayName LastEditorUserId  \\\n",
       "0  2014-10-18T07:23:25.843    ...                      NaN            73637   \n",
       "1  2012-08-08T21:06:48.087    ...                      NaN            36744   \n",
       "2  2009-07-15T06:48:44.300    ...                      NaN              NaN   \n",
       "3  2009-07-15T06:48:44.300    ...                      NaN              NaN   \n",
       "4  2009-07-15T06:48:44.300    ...                      NaN              NaN   \n",
       "\n",
       "  OwnerDisplayName OwnerUserId ParentId PostTypeId Score  \\\n",
       "0              NaN           1      NaN          1   132   \n",
       "1       essamSALAH         NaN      NaN          1     5   \n",
       "2         Burkhard        9637       24          2     0   \n",
       "3      Jas Panesar       23242       24          2     0   \n",
       "4           T Pops       45675       24          2     0   \n",
       "\n",
       "                                 Tags  \\\n",
       "0       <windows><disk-space><winsxs>   \n",
       "1  <audio><audio-recording><camtasia>   \n",
       "2                                 NaN   \n",
       "3                                 NaN   \n",
       "4                                 NaN   \n",
       "\n",
       "                                               Title ViewCount  \n",
       "0  Why does the /winsxs folder grow so large, and...     70584  \n",
       "1    How can I remove noise from an audio recording?      3654  \n",
       "2                                                NaN       NaN  \n",
       "3                                                NaN       NaN  \n",
       "4                                                NaN       NaN  \n",
       "\n",
       "[5 rows x 21 columns]"
      ]
     },
     "execution_count": 9,
     "metadata": {},
     "output_type": "execute_result"
    }
   ],
   "source": [
    "posts_df.head()"
   ]
  },
  {
   "cell_type": "code",
   "execution_count": 10,
   "metadata": {
    "collapsed": false
   },
   "outputs": [
    {
     "data": {
      "text/plain": [
       "Index([u'AcceptedAnswerId', u'AnswerCount', u'Body', u'ClosedDate',\n",
       "       u'CommentCount', u'CommunityOwnedDate', u'CreationDate',\n",
       "       u'FavoriteCount', u'Id', u'LastActivityDate', u'LastEditDate',\n",
       "       u'LastEditorDisplayName', u'LastEditorUserId', u'OwnerDisplayName',\n",
       "       u'OwnerUserId', u'ParentId', u'PostTypeId', u'Score', u'Tags', u'Title',\n",
       "       u'ViewCount'],\n",
       "      dtype='object')"
      ]
     },
     "execution_count": 10,
     "metadata": {},
     "output_type": "execute_result"
    }
   ],
   "source": [
    "posts_df.columns"
   ]
  },
  {
   "cell_type": "code",
   "execution_count": 11,
   "metadata": {
    "collapsed": false
   },
   "outputs": [],
   "source": [
    "posts_df['BodyCleaned']=posts_df['Body'].apply(lambda x : helper.strip_tags(x))"
   ]
  },
  {
   "cell_type": "code",
   "execution_count": 12,
   "metadata": {
    "collapsed": false
   },
   "outputs": [
    {
     "data": {
      "text/html": [
       "<div>\n",
       "<table border=\"1\" class=\"dataframe\">\n",
       "  <thead>\n",
       "    <tr style=\"text-align: right;\">\n",
       "      <th></th>\n",
       "      <th>AcceptedAnswerId</th>\n",
       "      <th>AnswerCount</th>\n",
       "      <th>Body</th>\n",
       "      <th>ClosedDate</th>\n",
       "      <th>CommentCount</th>\n",
       "      <th>CommunityOwnedDate</th>\n",
       "      <th>CreationDate</th>\n",
       "      <th>FavoriteCount</th>\n",
       "      <th>Id</th>\n",
       "      <th>LastActivityDate</th>\n",
       "      <th>...</th>\n",
       "      <th>LastEditorUserId</th>\n",
       "      <th>OwnerDisplayName</th>\n",
       "      <th>OwnerUserId</th>\n",
       "      <th>ParentId</th>\n",
       "      <th>PostTypeId</th>\n",
       "      <th>Score</th>\n",
       "      <th>Tags</th>\n",
       "      <th>Title</th>\n",
       "      <th>ViewCount</th>\n",
       "      <th>BodyCleaned</th>\n",
       "    </tr>\n",
       "  </thead>\n",
       "  <tbody>\n",
       "    <tr>\n",
       "      <th>0</th>\n",
       "      <td>727273</td>\n",
       "      <td>10</td>\n",
       "      <td>&lt;p&gt;A Vista virtual machine I use only has a 10...</td>\n",
       "      <td>NaN</td>\n",
       "      <td>9</td>\n",
       "      <td>NaN</td>\n",
       "      <td>2009-07-15T06:27:46.723</td>\n",
       "      <td>69</td>\n",
       "      <td>1</td>\n",
       "      <td>2014-10-18T07:23:25.843</td>\n",
       "      <td>...</td>\n",
       "      <td>73637</td>\n",
       "      <td>NaN</td>\n",
       "      <td>1</td>\n",
       "      <td>NaN</td>\n",
       "      <td>1</td>\n",
       "      <td>132</td>\n",
       "      <td>&lt;windows&gt;&lt;disk-space&gt;&lt;winsxs&gt;</td>\n",
       "      <td>Why does the /winsxs folder grow so large, and...</td>\n",
       "      <td>70584</td>\n",
       "      <td>A Vista virtual machine I use only has a 10 GB...</td>\n",
       "    </tr>\n",
       "    <tr>\n",
       "      <th>1</th>\n",
       "      <td>NaN</td>\n",
       "      <td>6</td>\n",
       "      <td>&lt;p&gt;I used to record important technical meetin...</td>\n",
       "      <td>NaN</td>\n",
       "      <td>0</td>\n",
       "      <td>NaN</td>\n",
       "      <td>2009-07-08T16:32:47.817</td>\n",
       "      <td>3</td>\n",
       "      <td>24</td>\n",
       "      <td>2012-08-08T21:06:48.087</td>\n",
       "      <td>...</td>\n",
       "      <td>36744</td>\n",
       "      <td>essamSALAH</td>\n",
       "      <td>NaN</td>\n",
       "      <td>NaN</td>\n",
       "      <td>1</td>\n",
       "      <td>5</td>\n",
       "      <td>&lt;audio&gt;&lt;audio-recording&gt;&lt;camtasia&gt;</td>\n",
       "      <td>How can I remove noise from an audio recording?</td>\n",
       "      <td>3654</td>\n",
       "      <td>I used to record important technical meetings ...</td>\n",
       "    </tr>\n",
       "    <tr>\n",
       "      <th>2</th>\n",
       "      <td>NaN</td>\n",
       "      <td>NaN</td>\n",
       "      <td>&lt;p&gt;You could use a filter on the recording. If...</td>\n",
       "      <td>NaN</td>\n",
       "      <td>0</td>\n",
       "      <td>NaN</td>\n",
       "      <td>2009-07-08T16:34:52.867</td>\n",
       "      <td>NaN</td>\n",
       "      <td>25</td>\n",
       "      <td>2009-07-15T06:48:44.300</td>\n",
       "      <td>...</td>\n",
       "      <td>NaN</td>\n",
       "      <td>Burkhard</td>\n",
       "      <td>9637</td>\n",
       "      <td>24</td>\n",
       "      <td>2</td>\n",
       "      <td>0</td>\n",
       "      <td>NaN</td>\n",
       "      <td>NaN</td>\n",
       "      <td>NaN</td>\n",
       "      <td>You could use a filter on the recording. If I ...</td>\n",
       "    </tr>\n",
       "    <tr>\n",
       "      <th>3</th>\n",
       "      <td>NaN</td>\n",
       "      <td>NaN</td>\n",
       "      <td>&lt;p&gt;try out something like:&lt;/p&gt;\\n\\n&lt;p&gt;audible (...</td>\n",
       "      <td>NaN</td>\n",
       "      <td>0</td>\n",
       "      <td>NaN</td>\n",
       "      <td>2009-07-08T16:59:00.587</td>\n",
       "      <td>NaN</td>\n",
       "      <td>26</td>\n",
       "      <td>2009-07-15T06:48:44.300</td>\n",
       "      <td>...</td>\n",
       "      <td>NaN</td>\n",
       "      <td>Jas Panesar</td>\n",
       "      <td>23242</td>\n",
       "      <td>24</td>\n",
       "      <td>2</td>\n",
       "      <td>0</td>\n",
       "      <td>NaN</td>\n",
       "      <td>NaN</td>\n",
       "      <td>NaN</td>\n",
       "      <td>try out something like:\\naudible (mac)\\nsoundf...</td>\n",
       "    </tr>\n",
       "    <tr>\n",
       "      <th>4</th>\n",
       "      <td>NaN</td>\n",
       "      <td>NaN</td>\n",
       "      <td>&lt;p&gt;You definitely need some sort of software t...</td>\n",
       "      <td>NaN</td>\n",
       "      <td>1</td>\n",
       "      <td>NaN</td>\n",
       "      <td>2009-07-08T17:15:59.477</td>\n",
       "      <td>NaN</td>\n",
       "      <td>27</td>\n",
       "      <td>2009-07-15T06:48:44.300</td>\n",
       "      <td>...</td>\n",
       "      <td>NaN</td>\n",
       "      <td>T Pops</td>\n",
       "      <td>45675</td>\n",
       "      <td>24</td>\n",
       "      <td>2</td>\n",
       "      <td>0</td>\n",
       "      <td>NaN</td>\n",
       "      <td>NaN</td>\n",
       "      <td>NaN</td>\n",
       "      <td>You definitely need some sort of software to f...</td>\n",
       "    </tr>\n",
       "  </tbody>\n",
       "</table>\n",
       "<p>5 rows × 22 columns</p>\n",
       "</div>"
      ],
      "text/plain": [
       "  AcceptedAnswerId AnswerCount  \\\n",
       "0           727273          10   \n",
       "1              NaN           6   \n",
       "2              NaN         NaN   \n",
       "3              NaN         NaN   \n",
       "4              NaN         NaN   \n",
       "\n",
       "                                                Body ClosedDate CommentCount  \\\n",
       "0  <p>A Vista virtual machine I use only has a 10...        NaN            9   \n",
       "1  <p>I used to record important technical meetin...        NaN            0   \n",
       "2  <p>You could use a filter on the recording. If...        NaN            0   \n",
       "3  <p>try out something like:</p>\\n\\n<p>audible (...        NaN            0   \n",
       "4  <p>You definitely need some sort of software t...        NaN            1   \n",
       "\n",
       "  CommunityOwnedDate             CreationDate FavoriteCount  Id  \\\n",
       "0                NaN  2009-07-15T06:27:46.723            69   1   \n",
       "1                NaN  2009-07-08T16:32:47.817             3  24   \n",
       "2                NaN  2009-07-08T16:34:52.867           NaN  25   \n",
       "3                NaN  2009-07-08T16:59:00.587           NaN  26   \n",
       "4                NaN  2009-07-08T17:15:59.477           NaN  27   \n",
       "\n",
       "          LastActivityDate                        ...                          \\\n",
       "0  2014-10-18T07:23:25.843                        ...                           \n",
       "1  2012-08-08T21:06:48.087                        ...                           \n",
       "2  2009-07-15T06:48:44.300                        ...                           \n",
       "3  2009-07-15T06:48:44.300                        ...                           \n",
       "4  2009-07-15T06:48:44.300                        ...                           \n",
       "\n",
       "  LastEditorUserId OwnerDisplayName OwnerUserId ParentId PostTypeId Score  \\\n",
       "0            73637              NaN           1      NaN          1   132   \n",
       "1            36744       essamSALAH         NaN      NaN          1     5   \n",
       "2              NaN         Burkhard        9637       24          2     0   \n",
       "3              NaN      Jas Panesar       23242       24          2     0   \n",
       "4              NaN           T Pops       45675       24          2     0   \n",
       "\n",
       "                                 Tags  \\\n",
       "0       <windows><disk-space><winsxs>   \n",
       "1  <audio><audio-recording><camtasia>   \n",
       "2                                 NaN   \n",
       "3                                 NaN   \n",
       "4                                 NaN   \n",
       "\n",
       "                                               Title ViewCount  \\\n",
       "0  Why does the /winsxs folder grow so large, and...     70584   \n",
       "1    How can I remove noise from an audio recording?      3654   \n",
       "2                                                NaN       NaN   \n",
       "3                                                NaN       NaN   \n",
       "4                                                NaN       NaN   \n",
       "\n",
       "                                         BodyCleaned  \n",
       "0  A Vista virtual machine I use only has a 10 GB...  \n",
       "1  I used to record important technical meetings ...  \n",
       "2  You could use a filter on the recording. If I ...  \n",
       "3  try out something like:\\naudible (mac)\\nsoundf...  \n",
       "4  You definitely need some sort of software to f...  \n",
       "\n",
       "[5 rows x 22 columns]"
      ]
     },
     "execution_count": 12,
     "metadata": {},
     "output_type": "execute_result"
    }
   ],
   "source": [
    "posts_df.head()"
   ]
  },
  {
   "cell_type": "code",
   "execution_count": 13,
   "metadata": {
    "collapsed": false
   },
   "outputs": [
    {
     "data": {
      "text/plain": [
       "1001"
      ]
     },
     "execution_count": 13,
     "metadata": {},
     "output_type": "execute_result"
    }
   ],
   "source": [
    "len(posts_df)"
   ]
  },
  {
   "cell_type": "code",
   "execution_count": null,
   "metadata": {
    "collapsed": true
   },
   "outputs": [],
   "source": []
  }
 ],
 "metadata": {
  "kernelspec": {
   "display_name": "Python 2",
   "language": "python",
   "name": "python2"
  },
  "language_info": {
   "codemirror_mode": {
    "name": "ipython",
    "version": 2
   },
   "file_extension": ".py",
   "mimetype": "text/x-python",
   "name": "python",
   "nbconvert_exporter": "python",
   "pygments_lexer": "ipython2",
   "version": "2.7.10"
  }
 },
 "nbformat": 4,
 "nbformat_minor": 0
}
