{
 "cells": [
  {
   "cell_type": "code",
   "execution_count": 1,
   "metadata": {
    "collapsed": false
   },
   "outputs": [],
   "source": [
    "import io\n",
    "import xml.etree.ElementTree as ET\n",
    "import pandas as pd\n",
    "import helper\n",
    "from sklearn.feature_extraction.text import CountVectorizer\n",
    "import gensim\n",
    "import numpy as np\n",
    "import os\n",
    "#from gensim import corpora, models, similarities "
   ]
  },
  {
   "cell_type": "code",
   "execution_count": 2,
   "metadata": {
    "collapsed": false
   },
   "outputs": [],
   "source": [
    "%load_ext autoreload\n",
    "%autoreload 2"
   ]
  },
  {
   "cell_type": "code",
   "execution_count": 3,
   "metadata": {
    "collapsed": false
   },
   "outputs": [
    {
     "name": "stdout",
     "output_type": "stream",
     "text": [
      "Installed autotime.py. To use it, type:\n",
      "  %load_ext autotime\n"
     ]
    },
    {
     "name": "stderr",
     "output_type": "stream",
     "text": [
      "/home/jshoun01/.virtualenvs/py27/local/lib/python2.7/site-packages/IPython/core/magics/extension.py:47: UserWarning: %install_ext` is deprecated, please distribute your extension(s)as a python packages.\n",
      "  \"as a python packages.\", UserWarning)\n"
     ]
    }
   ],
   "source": [
    "%install_ext https://raw.github.com/cpcloud/ipython-autotime/master/autotime.py\n",
    "%load_ext autotime"
   ]
  },
  {
   "cell_type": "code",
   "execution_count": 4,
   "metadata": {
    "collapsed": false
   },
   "outputs": [
    {
     "name": "stdout",
     "output_type": "stream",
     "text": [
      "time: 1.04 ms\n"
     ]
    }
   ],
   "source": [
    "import logging\n",
    "logging.basicConfig(format='%(asctime)s : %(levelname)s : %(message)s', level=logging.INFO)"
   ]
  },
  {
   "cell_type": "code",
   "execution_count": 5,
   "metadata": {
    "collapsed": false,
    "scrolled": true
   },
   "outputs": [
    {
     "name": "stdout",
     "output_type": "stream",
     "text": [
      "\u001b[0m\u001b[01;36mdata\u001b[0m@\n",
      "time: 832 ms\n"
     ]
    }
   ],
   "source": [
    "ls data"
   ]
  },
  {
   "cell_type": "code",
   "execution_count": 6,
   "metadata": {
    "collapsed": false
   },
   "outputs": [
    {
     "name": "stdout",
     "output_type": "stream",
     "text": [
      "time: 145 ms\n"
     ]
    }
   ],
   "source": [
    "data_dir='data'"
   ]
  },
  {
   "cell_type": "markdown",
   "metadata": {},
   "source": [
    "## Tags"
   ]
  },
  {
   "cell_type": "code",
   "execution_count": 7,
   "metadata": {
    "collapsed": false
   },
   "outputs": [
    {
     "name": "stdout",
     "output_type": "stream",
     "text": [
      "time: 1.06 s\n"
     ]
    }
   ],
   "source": [
    "tags_df = helper.get_xml_file_as_df(os.path.join(data_dir,'Tags.xml'))"
   ]
  },
  {
   "cell_type": "code",
   "execution_count": 8,
   "metadata": {
    "collapsed": false
   },
   "outputs": [
    {
     "name": "stdout",
     "output_type": "stream",
     "text": [
      "5056\n"
     ]
    },
    {
     "data": {
      "text/html": [
       "<div>\n",
       "<table border=\"1\" class=\"dataframe\">\n",
       "  <thead>\n",
       "    <tr style=\"text-align: right;\">\n",
       "      <th></th>\n",
       "      <th>Count</th>\n",
       "      <th>ExcerptPostId</th>\n",
       "      <th>Id</th>\n",
       "      <th>TagName</th>\n",
       "      <th>WikiPostId</th>\n",
       "    </tr>\n",
       "  </thead>\n",
       "  <tbody>\n",
       "    <tr>\n",
       "      <th>0</th>\n",
       "      <td>206</td>\n",
       "      <td>392824</td>\n",
       "      <td>203</td>\n",
       "      <td>firmware</td>\n",
       "      <td>392823</td>\n",
       "    </tr>\n",
       "    <tr>\n",
       "      <th>1</th>\n",
       "      <td>993</td>\n",
       "      <td>320795</td>\n",
       "      <td>204</td>\n",
       "      <td>upgrade</td>\n",
       "      <td>320794</td>\n",
       "    </tr>\n",
       "    <tr>\n",
       "      <th>2</th>\n",
       "      <td>13643</td>\n",
       "      <td>244736</td>\n",
       "      <td>205</td>\n",
       "      <td>networking</td>\n",
       "      <td>244735</td>\n",
       "    </tr>\n",
       "    <tr>\n",
       "      <th>3</th>\n",
       "      <td>3468</td>\n",
       "      <td>257013</td>\n",
       "      <td>206</td>\n",
       "      <td>audio</td>\n",
       "      <td>257012</td>\n",
       "    </tr>\n",
       "    <tr>\n",
       "      <th>4</th>\n",
       "      <td>2825</td>\n",
       "      <td>256215</td>\n",
       "      <td>207</td>\n",
       "      <td>video</td>\n",
       "      <td>256214</td>\n",
       "    </tr>\n",
       "  </tbody>\n",
       "</table>\n",
       "</div>"
      ],
      "text/plain": [
       "   Count ExcerptPostId   Id     TagName WikiPostId\n",
       "0    206        392824  203    firmware     392823\n",
       "1    993        320795  204     upgrade     320794\n",
       "2  13643        244736  205  networking     244735\n",
       "3   3468        257013  206       audio     257012\n",
       "4   2825        256215  207       video     256214"
      ]
     },
     "execution_count": 8,
     "metadata": {},
     "output_type": "execute_result"
    },
    {
     "name": "stdout",
     "output_type": "stream",
     "text": [
      "time: 384 ms\n"
     ]
    }
   ],
   "source": [
    "print (len(tags_df))\n",
    "tags_df.head()\n"
   ]
  },
  {
   "cell_type": "code",
   "execution_count": 9,
   "metadata": {
    "collapsed": false
   },
   "outputs": [
    {
     "name": "stdout",
     "output_type": "stream",
     "text": [
      "time: 1min 45s\n"
     ]
    }
   ],
   "source": [
    "#posts_df = helper.get_xml_file_as_df(os.path.join(data_dir,'Posts.xml'),max_num_children=1000)\n",
    "posts_df = helper.get_xml_file_as_df(os.path.join(data_dir,'Posts.xml'))"
   ]
  },
  {
   "cell_type": "code",
   "execution_count": 10,
   "metadata": {
    "collapsed": false
   },
   "outputs": [
    {
     "data": {
      "text/html": [
       "<div>\n",
       "<table border=\"1\" class=\"dataframe\">\n",
       "  <thead>\n",
       "    <tr style=\"text-align: right;\">\n",
       "      <th></th>\n",
       "      <th>AcceptedAnswerId</th>\n",
       "      <th>AnswerCount</th>\n",
       "      <th>Body</th>\n",
       "      <th>ClosedDate</th>\n",
       "      <th>CommentCount</th>\n",
       "      <th>CommunityOwnedDate</th>\n",
       "      <th>CreationDate</th>\n",
       "      <th>FavoriteCount</th>\n",
       "      <th>Id</th>\n",
       "      <th>LastActivityDate</th>\n",
       "      <th>...</th>\n",
       "      <th>LastEditorDisplayName</th>\n",
       "      <th>LastEditorUserId</th>\n",
       "      <th>OwnerDisplayName</th>\n",
       "      <th>OwnerUserId</th>\n",
       "      <th>ParentId</th>\n",
       "      <th>PostTypeId</th>\n",
       "      <th>Score</th>\n",
       "      <th>Tags</th>\n",
       "      <th>Title</th>\n",
       "      <th>ViewCount</th>\n",
       "    </tr>\n",
       "  </thead>\n",
       "  <tbody>\n",
       "    <tr>\n",
       "      <th>0</th>\n",
       "      <td>727273</td>\n",
       "      <td>10</td>\n",
       "      <td>&lt;p&gt;A Vista virtual machine I use only has a 10...</td>\n",
       "      <td>NaN</td>\n",
       "      <td>9</td>\n",
       "      <td>NaN</td>\n",
       "      <td>2009-07-15T06:27:46.723</td>\n",
       "      <td>69</td>\n",
       "      <td>1</td>\n",
       "      <td>2014-10-18T07:23:25.843</td>\n",
       "      <td>...</td>\n",
       "      <td>NaN</td>\n",
       "      <td>73637</td>\n",
       "      <td>NaN</td>\n",
       "      <td>1</td>\n",
       "      <td>NaN</td>\n",
       "      <td>1</td>\n",
       "      <td>132</td>\n",
       "      <td>&lt;windows&gt;&lt;disk-space&gt;&lt;winsxs&gt;</td>\n",
       "      <td>Why does the /winsxs folder grow so large, and...</td>\n",
       "      <td>70584</td>\n",
       "    </tr>\n",
       "    <tr>\n",
       "      <th>1</th>\n",
       "      <td>NaN</td>\n",
       "      <td>6</td>\n",
       "      <td>&lt;p&gt;I used to record important technical meetin...</td>\n",
       "      <td>NaN</td>\n",
       "      <td>0</td>\n",
       "      <td>NaN</td>\n",
       "      <td>2009-07-08T16:32:47.817</td>\n",
       "      <td>3</td>\n",
       "      <td>24</td>\n",
       "      <td>2012-08-08T21:06:48.087</td>\n",
       "      <td>...</td>\n",
       "      <td>NaN</td>\n",
       "      <td>36744</td>\n",
       "      <td>essamSALAH</td>\n",
       "      <td>NaN</td>\n",
       "      <td>NaN</td>\n",
       "      <td>1</td>\n",
       "      <td>5</td>\n",
       "      <td>&lt;audio&gt;&lt;audio-recording&gt;&lt;camtasia&gt;</td>\n",
       "      <td>How can I remove noise from an audio recording?</td>\n",
       "      <td>3654</td>\n",
       "    </tr>\n",
       "    <tr>\n",
       "      <th>2</th>\n",
       "      <td>NaN</td>\n",
       "      <td>NaN</td>\n",
       "      <td>&lt;p&gt;You could use a filter on the recording. If...</td>\n",
       "      <td>NaN</td>\n",
       "      <td>0</td>\n",
       "      <td>NaN</td>\n",
       "      <td>2009-07-08T16:34:52.867</td>\n",
       "      <td>NaN</td>\n",
       "      <td>25</td>\n",
       "      <td>2009-07-15T06:48:44.300</td>\n",
       "      <td>...</td>\n",
       "      <td>NaN</td>\n",
       "      <td>NaN</td>\n",
       "      <td>Burkhard</td>\n",
       "      <td>9637</td>\n",
       "      <td>24</td>\n",
       "      <td>2</td>\n",
       "      <td>0</td>\n",
       "      <td>NaN</td>\n",
       "      <td>NaN</td>\n",
       "      <td>NaN</td>\n",
       "    </tr>\n",
       "    <tr>\n",
       "      <th>3</th>\n",
       "      <td>NaN</td>\n",
       "      <td>NaN</td>\n",
       "      <td>&lt;p&gt;try out something like:&lt;/p&gt;\\n\\n&lt;p&gt;audible (...</td>\n",
       "      <td>NaN</td>\n",
       "      <td>0</td>\n",
       "      <td>NaN</td>\n",
       "      <td>2009-07-08T16:59:00.587</td>\n",
       "      <td>NaN</td>\n",
       "      <td>26</td>\n",
       "      <td>2009-07-15T06:48:44.300</td>\n",
       "      <td>...</td>\n",
       "      <td>NaN</td>\n",
       "      <td>NaN</td>\n",
       "      <td>Jas Panesar</td>\n",
       "      <td>23242</td>\n",
       "      <td>24</td>\n",
       "      <td>2</td>\n",
       "      <td>0</td>\n",
       "      <td>NaN</td>\n",
       "      <td>NaN</td>\n",
       "      <td>NaN</td>\n",
       "    </tr>\n",
       "    <tr>\n",
       "      <th>4</th>\n",
       "      <td>NaN</td>\n",
       "      <td>NaN</td>\n",
       "      <td>&lt;p&gt;You definitely need some sort of software t...</td>\n",
       "      <td>NaN</td>\n",
       "      <td>1</td>\n",
       "      <td>NaN</td>\n",
       "      <td>2009-07-08T17:15:59.477</td>\n",
       "      <td>NaN</td>\n",
       "      <td>27</td>\n",
       "      <td>2009-07-15T06:48:44.300</td>\n",
       "      <td>...</td>\n",
       "      <td>NaN</td>\n",
       "      <td>NaN</td>\n",
       "      <td>T Pops</td>\n",
       "      <td>45675</td>\n",
       "      <td>24</td>\n",
       "      <td>2</td>\n",
       "      <td>0</td>\n",
       "      <td>NaN</td>\n",
       "      <td>NaN</td>\n",
       "      <td>NaN</td>\n",
       "    </tr>\n",
       "  </tbody>\n",
       "</table>\n",
       "<p>5 rows × 21 columns</p>\n",
       "</div>"
      ],
      "text/plain": [
       "  AcceptedAnswerId AnswerCount  \\\n",
       "0           727273          10   \n",
       "1              NaN           6   \n",
       "2              NaN         NaN   \n",
       "3              NaN         NaN   \n",
       "4              NaN         NaN   \n",
       "\n",
       "                                                Body ClosedDate CommentCount  \\\n",
       "0  <p>A Vista virtual machine I use only has a 10...        NaN            9   \n",
       "1  <p>I used to record important technical meetin...        NaN            0   \n",
       "2  <p>You could use a filter on the recording. If...        NaN            0   \n",
       "3  <p>try out something like:</p>\\n\\n<p>audible (...        NaN            0   \n",
       "4  <p>You definitely need some sort of software t...        NaN            1   \n",
       "\n",
       "  CommunityOwnedDate             CreationDate FavoriteCount  Id  \\\n",
       "0                NaN  2009-07-15T06:27:46.723            69   1   \n",
       "1                NaN  2009-07-08T16:32:47.817             3  24   \n",
       "2                NaN  2009-07-08T16:34:52.867           NaN  25   \n",
       "3                NaN  2009-07-08T16:59:00.587           NaN  26   \n",
       "4                NaN  2009-07-08T17:15:59.477           NaN  27   \n",
       "\n",
       "          LastActivityDate    ...    LastEditorDisplayName LastEditorUserId  \\\n",
       "0  2014-10-18T07:23:25.843    ...                      NaN            73637   \n",
       "1  2012-08-08T21:06:48.087    ...                      NaN            36744   \n",
       "2  2009-07-15T06:48:44.300    ...                      NaN              NaN   \n",
       "3  2009-07-15T06:48:44.300    ...                      NaN              NaN   \n",
       "4  2009-07-15T06:48:44.300    ...                      NaN              NaN   \n",
       "\n",
       "  OwnerDisplayName OwnerUserId ParentId PostTypeId Score  \\\n",
       "0              NaN           1      NaN          1   132   \n",
       "1       essamSALAH         NaN      NaN          1     5   \n",
       "2         Burkhard        9637       24          2     0   \n",
       "3      Jas Panesar       23242       24          2     0   \n",
       "4           T Pops       45675       24          2     0   \n",
       "\n",
       "                                 Tags  \\\n",
       "0       <windows><disk-space><winsxs>   \n",
       "1  <audio><audio-recording><camtasia>   \n",
       "2                                 NaN   \n",
       "3                                 NaN   \n",
       "4                                 NaN   \n",
       "\n",
       "                                               Title ViewCount  \n",
       "0  Why does the /winsxs folder grow so large, and...     70584  \n",
       "1    How can I remove noise from an audio recording?      3654  \n",
       "2                                                NaN       NaN  \n",
       "3                                                NaN       NaN  \n",
       "4                                                NaN       NaN  \n",
       "\n",
       "[5 rows x 21 columns]"
      ]
     },
     "execution_count": 10,
     "metadata": {},
     "output_type": "execute_result"
    },
    {
     "name": "stdout",
     "output_type": "stream",
     "text": [
      "time: 84 ms\n"
     ]
    }
   ],
   "source": [
    "posts_df.head()"
   ]
  },
  {
   "cell_type": "code",
   "execution_count": 11,
   "metadata": {
    "collapsed": false
   },
   "outputs": [
    {
     "data": {
      "text/plain": [
       "Index([u'AcceptedAnswerId', u'AnswerCount', u'Body', u'ClosedDate',\n",
       "       u'CommentCount', u'CommunityOwnedDate', u'CreationDate',\n",
       "       u'FavoriteCount', u'Id', u'LastActivityDate', u'LastEditDate',\n",
       "       u'LastEditorDisplayName', u'LastEditorUserId', u'OwnerDisplayName',\n",
       "       u'OwnerUserId', u'ParentId', u'PostTypeId', u'Score', u'Tags', u'Title',\n",
       "       u'ViewCount'],\n",
       "      dtype='object')"
      ]
     },
     "execution_count": 11,
     "metadata": {},
     "output_type": "execute_result"
    },
    {
     "name": "stdout",
     "output_type": "stream",
     "text": [
      "time: 388 ms\n"
     ]
    }
   ],
   "source": [
    "posts_df.columns"
   ]
  },
  {
   "cell_type": "markdown",
   "metadata": {},
   "source": [
    "## Process Text"
   ]
  },
  {
   "cell_type": "code",
   "execution_count": 12,
   "metadata": {
    "collapsed": false
   },
   "outputs": [
    {
     "name": "stdout",
     "output_type": "stream",
     "text": [
      "time: 29min 1s\n"
     ]
    }
   ],
   "source": [
    "# strip html tags\n",
    "posts_df['BodyCleaned']=posts_df['Body'].apply(lambda x : helper.strip_tags(x))\n",
    "# tokenize text\n",
    "#posts_df['BodyCleaned']=posts_df['BodyCleaned'].apply(lambda x : helper.tokenize_and_stem(x))\n",
    "posts_df['BodyCleaned']=posts_df['BodyCleaned'].apply(lambda x : helper.tokenize_and_stem(x,stemmer=None))\n",
    "\n",
    "# remove stop words\n",
    "posts_df['BodyCleaned']=posts_df['BodyCleaned'].apply(lambda x : helper.remove_stopwords(x))\n",
    "\n"
   ]
  },
  {
   "cell_type": "code",
   "execution_count": 13,
   "metadata": {
    "collapsed": false
   },
   "outputs": [
    {
     "data": {
      "text/html": [
       "<div>\n",
       "<table border=\"1\" class=\"dataframe\">\n",
       "  <thead>\n",
       "    <tr style=\"text-align: right;\">\n",
       "      <th></th>\n",
       "      <th>AcceptedAnswerId</th>\n",
       "      <th>AnswerCount</th>\n",
       "      <th>Body</th>\n",
       "      <th>ClosedDate</th>\n",
       "      <th>CommentCount</th>\n",
       "      <th>CommunityOwnedDate</th>\n",
       "      <th>CreationDate</th>\n",
       "      <th>FavoriteCount</th>\n",
       "      <th>Id</th>\n",
       "      <th>LastActivityDate</th>\n",
       "      <th>...</th>\n",
       "      <th>LastEditorUserId</th>\n",
       "      <th>OwnerDisplayName</th>\n",
       "      <th>OwnerUserId</th>\n",
       "      <th>ParentId</th>\n",
       "      <th>PostTypeId</th>\n",
       "      <th>Score</th>\n",
       "      <th>Tags</th>\n",
       "      <th>Title</th>\n",
       "      <th>ViewCount</th>\n",
       "      <th>BodyCleaned</th>\n",
       "    </tr>\n",
       "  </thead>\n",
       "  <tbody>\n",
       "    <tr>\n",
       "      <th>0</th>\n",
       "      <td>727273</td>\n",
       "      <td>10</td>\n",
       "      <td>&lt;p&gt;A Vista virtual machine I use only has a 10...</td>\n",
       "      <td>NaN</td>\n",
       "      <td>9</td>\n",
       "      <td>NaN</td>\n",
       "      <td>2009-07-15T06:27:46.723</td>\n",
       "      <td>69</td>\n",
       "      <td>1</td>\n",
       "      <td>2014-10-18T07:23:25.843</td>\n",
       "      <td>...</td>\n",
       "      <td>73637</td>\n",
       "      <td>NaN</td>\n",
       "      <td>1</td>\n",
       "      <td>NaN</td>\n",
       "      <td>1</td>\n",
       "      <td>132</td>\n",
       "      <td>&lt;windows&gt;&lt;disk-space&gt;&lt;winsxs&gt;</td>\n",
       "      <td>Why does the /winsxs folder grow so large, and...</td>\n",
       "      <td>70584</td>\n",
       "      <td>[A, Vista, virtual, machine, I, use, GB, virtu...</td>\n",
       "    </tr>\n",
       "    <tr>\n",
       "      <th>1</th>\n",
       "      <td>NaN</td>\n",
       "      <td>6</td>\n",
       "      <td>&lt;p&gt;I used to record important technical meetin...</td>\n",
       "      <td>NaN</td>\n",
       "      <td>0</td>\n",
       "      <td>NaN</td>\n",
       "      <td>2009-07-08T16:32:47.817</td>\n",
       "      <td>3</td>\n",
       "      <td>24</td>\n",
       "      <td>2012-08-08T21:06:48.087</td>\n",
       "      <td>...</td>\n",
       "      <td>36744</td>\n",
       "      <td>essamSALAH</td>\n",
       "      <td>NaN</td>\n",
       "      <td>NaN</td>\n",
       "      <td>1</td>\n",
       "      <td>5</td>\n",
       "      <td>&lt;audio&gt;&lt;audio-recording&gt;&lt;camtasia&gt;</td>\n",
       "      <td>How can I remove noise from an audio recording?</td>\n",
       "      <td>3654</td>\n",
       "      <td>[I, used, record, important, technical, meetin...</td>\n",
       "    </tr>\n",
       "    <tr>\n",
       "      <th>2</th>\n",
       "      <td>NaN</td>\n",
       "      <td>NaN</td>\n",
       "      <td>&lt;p&gt;You could use a filter on the recording. If...</td>\n",
       "      <td>NaN</td>\n",
       "      <td>0</td>\n",
       "      <td>NaN</td>\n",
       "      <td>2009-07-08T16:34:52.867</td>\n",
       "      <td>NaN</td>\n",
       "      <td>25</td>\n",
       "      <td>2009-07-15T06:48:44.300</td>\n",
       "      <td>...</td>\n",
       "      <td>NaN</td>\n",
       "      <td>Burkhard</td>\n",
       "      <td>9637</td>\n",
       "      <td>24</td>\n",
       "      <td>2</td>\n",
       "      <td>0</td>\n",
       "      <td>NaN</td>\n",
       "      <td>NaN</td>\n",
       "      <td>NaN</td>\n",
       "      <td>[You, could, use, filter, recording, If, I, re...</td>\n",
       "    </tr>\n",
       "    <tr>\n",
       "      <th>3</th>\n",
       "      <td>NaN</td>\n",
       "      <td>NaN</td>\n",
       "      <td>&lt;p&gt;try out something like:&lt;/p&gt;\\n\\n&lt;p&gt;audible (...</td>\n",
       "      <td>NaN</td>\n",
       "      <td>0</td>\n",
       "      <td>NaN</td>\n",
       "      <td>2009-07-08T16:59:00.587</td>\n",
       "      <td>NaN</td>\n",
       "      <td>26</td>\n",
       "      <td>2009-07-15T06:48:44.300</td>\n",
       "      <td>...</td>\n",
       "      <td>NaN</td>\n",
       "      <td>Jas Panesar</td>\n",
       "      <td>23242</td>\n",
       "      <td>24</td>\n",
       "      <td>2</td>\n",
       "      <td>0</td>\n",
       "      <td>NaN</td>\n",
       "      <td>NaN</td>\n",
       "      <td>NaN</td>\n",
       "      <td>[try, something, like, audible, mac, soundforg...</td>\n",
       "    </tr>\n",
       "    <tr>\n",
       "      <th>4</th>\n",
       "      <td>NaN</td>\n",
       "      <td>NaN</td>\n",
       "      <td>&lt;p&gt;You definitely need some sort of software t...</td>\n",
       "      <td>NaN</td>\n",
       "      <td>1</td>\n",
       "      <td>NaN</td>\n",
       "      <td>2009-07-08T17:15:59.477</td>\n",
       "      <td>NaN</td>\n",
       "      <td>27</td>\n",
       "      <td>2009-07-15T06:48:44.300</td>\n",
       "      <td>...</td>\n",
       "      <td>NaN</td>\n",
       "      <td>T Pops</td>\n",
       "      <td>45675</td>\n",
       "      <td>24</td>\n",
       "      <td>2</td>\n",
       "      <td>0</td>\n",
       "      <td>NaN</td>\n",
       "      <td>NaN</td>\n",
       "      <td>NaN</td>\n",
       "      <td>[You, definitely, need, sort, software, filter...</td>\n",
       "    </tr>\n",
       "  </tbody>\n",
       "</table>\n",
       "<p>5 rows × 22 columns</p>\n",
       "</div>"
      ],
      "text/plain": [
       "  AcceptedAnswerId AnswerCount  \\\n",
       "0           727273          10   \n",
       "1              NaN           6   \n",
       "2              NaN         NaN   \n",
       "3              NaN         NaN   \n",
       "4              NaN         NaN   \n",
       "\n",
       "                                                Body ClosedDate CommentCount  \\\n",
       "0  <p>A Vista virtual machine I use only has a 10...        NaN            9   \n",
       "1  <p>I used to record important technical meetin...        NaN            0   \n",
       "2  <p>You could use a filter on the recording. If...        NaN            0   \n",
       "3  <p>try out something like:</p>\\n\\n<p>audible (...        NaN            0   \n",
       "4  <p>You definitely need some sort of software t...        NaN            1   \n",
       "\n",
       "  CommunityOwnedDate             CreationDate FavoriteCount  Id  \\\n",
       "0                NaN  2009-07-15T06:27:46.723            69   1   \n",
       "1                NaN  2009-07-08T16:32:47.817             3  24   \n",
       "2                NaN  2009-07-08T16:34:52.867           NaN  25   \n",
       "3                NaN  2009-07-08T16:59:00.587           NaN  26   \n",
       "4                NaN  2009-07-08T17:15:59.477           NaN  27   \n",
       "\n",
       "          LastActivityDate                        ...                          \\\n",
       "0  2014-10-18T07:23:25.843                        ...                           \n",
       "1  2012-08-08T21:06:48.087                        ...                           \n",
       "2  2009-07-15T06:48:44.300                        ...                           \n",
       "3  2009-07-15T06:48:44.300                        ...                           \n",
       "4  2009-07-15T06:48:44.300                        ...                           \n",
       "\n",
       "  LastEditorUserId OwnerDisplayName OwnerUserId ParentId PostTypeId Score  \\\n",
       "0            73637              NaN           1      NaN          1   132   \n",
       "1            36744       essamSALAH         NaN      NaN          1     5   \n",
       "2              NaN         Burkhard        9637       24          2     0   \n",
       "3              NaN      Jas Panesar       23242       24          2     0   \n",
       "4              NaN           T Pops       45675       24          2     0   \n",
       "\n",
       "                                 Tags  \\\n",
       "0       <windows><disk-space><winsxs>   \n",
       "1  <audio><audio-recording><camtasia>   \n",
       "2                                 NaN   \n",
       "3                                 NaN   \n",
       "4                                 NaN   \n",
       "\n",
       "                                               Title ViewCount  \\\n",
       "0  Why does the /winsxs folder grow so large, and...     70584   \n",
       "1    How can I remove noise from an audio recording?      3654   \n",
       "2                                                NaN       NaN   \n",
       "3                                                NaN       NaN   \n",
       "4                                                NaN       NaN   \n",
       "\n",
       "                                         BodyCleaned  \n",
       "0  [A, Vista, virtual, machine, I, use, GB, virtu...  \n",
       "1  [I, used, record, important, technical, meetin...  \n",
       "2  [You, could, use, filter, recording, If, I, re...  \n",
       "3  [try, something, like, audible, mac, soundforg...  \n",
       "4  [You, definitely, need, sort, software, filter...  \n",
       "\n",
       "[5 rows x 22 columns]"
      ]
     },
     "execution_count": 13,
     "metadata": {},
     "output_type": "execute_result"
    },
    {
     "name": "stdout",
     "output_type": "stream",
     "text": [
      "time: 106 ms\n"
     ]
    }
   ],
   "source": [
    "posts_df.head()"
   ]
  },
  {
   "cell_type": "code",
   "execution_count": 14,
   "metadata": {
    "collapsed": false
   },
   "outputs": [
    {
     "data": {
      "text/plain": [
       "666887"
      ]
     },
     "execution_count": 14,
     "metadata": {},
     "output_type": "execute_result"
    },
    {
     "name": "stdout",
     "output_type": "stream",
     "text": [
      "time: 349 ms\n"
     ]
    }
   ],
   "source": [
    "len(posts_df)"
   ]
  },
  {
   "cell_type": "code",
   "execution_count": 15,
   "metadata": {
    "collapsed": false
   },
   "outputs": [
    {
     "name": "stdout",
     "output_type": "stream",
     "text": [
      "time: 435 ms\n"
     ]
    }
   ],
   "source": [
    "texts = posts_df['BodyCleaned']"
   ]
  },
  {
   "cell_type": "code",
   "execution_count": 16,
   "metadata": {
    "collapsed": false
   },
   "outputs": [
    {
     "name": "stdout",
     "output_type": "stream",
     "text": [
      "time: 1min 40s\n"
     ]
    }
   ],
   "source": [
    "#create a Gensim dictionary from the texts\n",
    "dictionary = gensim.corpora.Dictionary(texts)\n",
    "\n",
    "#remove extremes (similar to the min/max df step used when creating the tf-idf matrix)\n",
    "dictionary.filter_extremes(no_below=10, no_above=0.8)\n",
    "\n",
    "#convert the dictionary to a bag of words corpus for reference\n",
    "corpus = [dictionary.doc2bow(text) for text in texts]"
   ]
  },
  {
   "cell_type": "code",
   "execution_count": 17,
   "metadata": {
    "collapsed": false
   },
   "outputs": [
    {
     "data": {
      "text/plain": [
       "[(343, 2), (633, 1), (1136, 1), (1340, 2), (1356, 1)]"
      ]
     },
     "execution_count": 17,
     "metadata": {},
     "output_type": "execute_result"
    },
    {
     "name": "stdout",
     "output_type": "stream",
     "text": [
      "time: 2.42 ms\n"
     ]
    }
   ],
   "source": [
    "corpus[0][:5]"
   ]
  },
  {
   "cell_type": "code",
   "execution_count": 23,
   "metadata": {
    "collapsed": false
   },
   "outputs": [
    {
     "name": "stdout",
     "output_type": "stream",
     "text": [
      "time: 6min 11s\n"
     ]
    }
   ],
   "source": [
    "#gensim.models.LdaMulticore\n",
    "\"\"\"\n",
    "lda = gensim.models.LdaModel(corpus, num_topics=5, \n",
    "                            id2word=dictionary, \n",
    "                            update_every=5, \n",
    "                            chunksize=10000,\n",
    "                            passes=100)\n",
    "\"\"\"\n",
    "\n",
    "num_topics = 50\n",
    "\n",
    "lda = gensim.models.LdaMulticore(corpus, num_topics=50, \n",
    "                            id2word=dictionary)"
   ]
  },
  {
   "cell_type": "code",
   "execution_count": 27,
   "metadata": {
    "collapsed": false
   },
   "outputs": [
    {
     "data": {
      "text/plain": [
       "[u\"0.114*I + 0.026*key + 0.020*n't + 0.010*keys + 0.009*use + 0.009*'m + 0.009*Windows + 0.009*keyboard + 0.008*like + 0.007*way\",\n",
       " u\"0.054*folder + 0.031*files + 0.028*file + 0.021*I + 0.016*folders + 0.012*delete + 0.010*n't + 0.010*C + 0.008*If + 0.008*Windows\",\n",
       " u\"0.027*I + 0.010*n't + 0.009*'s + 0.008*use + 0.008*gpg + 0.006*would + 0.006*file + 0.006*You + 0.006*LVM + 0.006*using\",\n",
       " u\"0.028*I + 0.024*Chrome + 0.020*page + 0.018*browser + 0.018*Google + 0.014*Firefox + 0.010*use + 0.010*web + 0.010*'s + 0.008*proxy\",\n",
       " u'0.185*gt + 0.134*lt + 0.011*set + 0.008*string + 0.008*file + 0.006*name + 0.006*I + 0.005*character + 0.005*C + 0.005*The',\n",
       " u'0.024*C + 0.020*debug1 + 0.019*directory + 0.018*I + 0.017*files + 0.017*key + 0.015*file + 0.010*git + 0.009*ssh + 0.007*user',\n",
       " u\"0.036*I + 0.024*task + 0.023*n't + 0.021*registry + 0.015*Windows + 0.010*time + 0.007*shutdown + 0.006*like + 0.006*settings + 0.006*use\",\n",
       " u\"0.083*I + 0.024*n't + 0.015*problem + 0.012*time + 0.008*windows + 0.008*'ve + 0.008*would + 0.007*'s + 0.006*run + 0.005*The\",\n",
       " u\"0.132*I + 0.019*Windows + 0.016*search + 0.014*n't + 0.013*files + 0.012*download + 0.011*want + 0.011*file + 0.010*Is + 0.009*How\",\n",
       " u\"0.028*network + 0.026*router + 0.022*IP + 0.020*I + 0.018*address + 0.015*port + 0.012*connection + 0.010*'s + 0.009*connect + 0.009*internet\",\n",
       " u\"0.033*Windows + 0.032*I + 0.031*boot + 0.029*drive + 0.023*USB + 0.010*install + 0.009*n't + 0.009*BIOS + 0.008*disk + 0.007*system\",\n",
       " u'0.025*I + 0.018*column + 0.016*data + 0.015*cell + 0.013*table + 0.013*number + 0.012*formula + 0.011*value + 0.010*row + 0.009*use',\n",
       " u'0.036*I + 0.015*link + 0.013*Dropbox + 0.010*Possible + 0.009*Duplicate + 0.009*i386 + 0.008*directory + 0.008*sync + 0.007*Windows + 0.007*grub',\n",
       " u\"0.045*file + 0.020*I + 0.019*files + 0.017*image + 0.014*text + 0.010*data + 0.009*images + 0.007*save + 0.007*'s + 0.007*format\",\n",
       " u'0.025*grep + 0.013*sed + 0.012*-n + 0.011*PATH + 0.011*Task + 0.010*The + 0.009*command + 0.009*process + 0.008*variable + 0.007*output',\n",
       " u'0.018*kernel + 0.017*root + 0.010*bytes + 0.009*iptables + 0.009*tcp + 0.008*S + 0.008*-j + 0.008*-A + 0.008*ACCEPT + 0.007*Address',\n",
       " u'0.027*http + 0.018*command + 0.018*file + 0.017*script + 0.015*shell + 0.012*run + 0.011*root + 0.011*I + 0.010*use + 0.010*You',\n",
       " u'0.050*process + 0.022*I + 0.020*processes + 0.012*Process + 0.009*curl + 0.009*kill + 0.008*git + 0.008*master + 0.007*II + 0.007*Monitor',\n",
       " u\"0.037*keyboard + 0.028*I + 0.011*'s + 0.010*layout + 0.009*n't + 0.008*The + 0.007*one + 0.007*like + 0.007*would + 0.005*If\",\n",
       " u\"0.029*I + 0.027*driver + 0.026*device + 0.017*drivers + 0.014*battery + 0.012*USB + 0.012*laptop + 0.012*power + 0.009*card + 0.008*'s\",\n",
       " u'0.057*Windows + 0.016*I + 0.011*service + 0.010*C + 0.009*Control + 0.008*Server + 0.008*Microsoft + 0.006*System + 0.006*Panel + 0.006*disable',\n",
       " u'0.045*server + 0.039*DNS + 0.018*domain + 0.016*servers + 0.013*name + 0.010*I + 0.009*use + 0.008*hosts + 0.007*IP + 0.007*hostname',\n",
       " u\"0.048*file + 0.037*files + 0.017*directory + 0.016*find + 0.012*use + 0.012*copy + 0.011*backup + 0.009*The + 0.009*'s + 0.009*I\",\n",
       " u'0.053*user + 0.048*password + 0.016*login + 0.015*users + 0.014*account + 0.014*session + 0.012*username + 0.011*use + 0.011*access + 0.010*log',\n",
       " u'0.036*server + 0.036*I + 0.028*machine + 0.021*Windows + 0.016*host + 0.015*virtual + 0.015*remote + 0.014*OS + 0.013*use + 0.013*VM',\n",
       " u'0.029*click + 0.016*select + 0.012*Click + 0.011*tab + 0.010*menu + 0.009*window + 0.009*In + 0.009*new + 0.008*You + 0.008*button',\n",
       " u\"0.015*memory + 0.013*CPU + 0.012*RAM + 0.012*I + 0.010*'s + 0.009*The + 0.008*speed + 0.007*performance + 0.007*system + 0.007*n't\",\n",
       " u\"0.034*I + 0.028*print + 0.026*printer + 0.018*PDF + 0.012*'s + 0.011*The + 0.010*certificate + 0.010*page + 0.007*printing + 0.006*n't\",\n",
       " u'0.029*command + 0.021*file + 0.019*line + 0.018*echo + 0.013*script + 0.010*I + 0.008*As + 0.008*If + 0.008*End + 0.008*output',\n",
       " u\"0.045*I + 0.024*'s + 0.023*n't + 0.010*like + 0.009*know + 0.008*use + 0.007*system + 0.007*'m + 0.006*It + 0.006*payload\",\n",
       " u\"0.137*amp + 0.009*I + 0.009*n't + 0.007*You + 0.006*using + 0.006*terminal + 0.006*'s + 0.006*If + 0.005*like + 0.005*printf\",\n",
       " u\"0.208*I + 0.029*'m + 0.018*error + 0.014*tried + 0.012*using + 0.011*'ve + 0.011*get + 0.010*trying + 0.010*n't + 0.007*file\",\n",
       " u\"0.151*I + 0.013*n't + 0.012*problem + 0.012*laptop + 0.011*tried + 0.010*computer + 0.010*Windows + 0.009*'m + 0.007*fine + 0.007*'ve\",\n",
       " u\"0.033*Windows + 0.020*version + 0.012*system + 0.010*'s + 0.010*Microsoft + 0.010*software + 0.009*The + 0.009*support + 0.009*install + 0.009*use\",\n",
       " u\"0.014*Flash + 0.010*I + 0.008*n't + 0.008*player + 0.008*You + 0.007*Player + 0.007*videos + 0.007*plugin + 0.007*media + 0.006*library\",\n",
       " u'0.030*nbsp + 0.022*font + 0.015*Apache + 0.013*MySQL + 0.013*PHP + 0.012*style + 0.012*database + 0.012*mysql + 0.011*memory + 0.009*fonts',\n",
       " u\"0.072*I + 0.025*screen + 0.013*The + 0.011*problem + 0.010*n't + 0.010*'s + 0.009*issue + 0.007*Windows + 0.007*time + 0.006*seconds\",\n",
       " u\"0.036*I + 0.013*would + 0.010*cable + 0.010*n't + 0.009*one + 0.009*use + 0.009*'s + 0.009*power + 0.008*like + 0.006*need\",\n",
       " u'0.028*video + 0.025*B + 0.023*A + 0.016*I + 0.015*ms + 0.014*audio + 0.011*ffmpeg + 0.010*output + 0.009*card + 0.008*use',\n",
       " u\"0.025*color + 0.011*background + 0.010*'s + 0.009*colors + 0.008*I + 0.008*sleep + 0.008*theme + 0.007*mode + 0.007*panel + 0.007*change\",\n",
       " u'0.041*install + 0.040*I + 0.018*Ubuntu + 0.018*package + 0.018*installed + 0.015*Linux + 0.013*sudo + 0.010*apt-get + 0.010*packages + 0.009*version',\n",
       " u\"0.135*I + 0.015*email + 0.013*like + 0.012*would + 0.011*'m + 0.011*Outlook + 0.010*know + 0.009*way + 0.009*message + 0.009*n't\",\n",
       " u\"0.057*I + 0.020*Excel + 0.010*'s + 0.008*AM + 0.008*worksheet + 0.007*way + 0.007*file + 0.007*set + 0.006*The + 0.006*excel\",\n",
       " u\"0.017*'s + 0.015*n't + 0.015*If + 0.009*could + 0.008*data + 0.008*would + 0.007*may + 0.007*security + 0.007*might + 0.007*'re\",\n",
       " u\"0.028*mouse + 0.016*I + 0.011*Stream + 0.010*cursor + 0.008*button + 0.007*kb/s + 0.007*Metadata + 0.007*input + 0.006*scroll + 0.006*'s\",\n",
       " u\"0.018*channel + 0.011*Jan + 0.010*INPUT + 0.009*I + 0.008*'s + 0.008*channels + 0.007*The + 0.006*drwxr-xr-x + 0.006*You + 0.005*like\",\n",
       " u'0.047*drive + 0.039*I + 0.034*disk + 0.030*partition + 0.020*hard + 0.017*data + 0.012*space + 0.011*drives + 0.010*SSD + 0.009*partitions',\n",
       " u'0.015*Visual + 0.015*TCP + 0.014*Java + 0.014*java + 0.012*Studio + 0.012*event + 0.012*May + 0.010*time + 0.009*Event + 0.008*If',\n",
       " u'0.036*monitor + 0.035*I + 0.023*screen + 0.020*display + 0.013*resolution + 0.013*window + 0.013*monitors + 0.009*desktop + 0.007*Option + 0.007*windows',\n",
       " u\"0.035*I + 0.018*document + 0.014*IPv6 + 0.011*use + 0.010*Mar + 0.009*Word + 0.009*Nov + 0.007*N/A + 0.007*Reply + 0.007*n't\"]"
      ]
     },
     "execution_count": 27,
     "metadata": {},
     "output_type": "execute_result"
    },
    {
     "name": "stdout",
     "output_type": "stream",
     "text": [
      "time: 374 ms\n"
     ]
    }
   ],
   "source": [
    "lda.show_topics(50)"
   ]
  },
  {
   "cell_type": "code",
   "execution_count": 25,
   "metadata": {
    "collapsed": false
   },
   "outputs": [
    {
     "name": "stdout",
     "output_type": "stream",
     "text": [
      "['I', \"'s\", \"n't\", 'like', 'know', 'use', 'system', \"'m\", 'It', 'payload', 'would', 'malware', 'need', 'using', 'Windows', 'If', \"'d\", 'really', 'want', 'software']\n",
      "()\n",
      "['I', 'document', 'IPv6', 'use', 'Mar', 'Word', 'Nov', 'N/A', 'Reply', \"n't\", 'convert', 'The', 'bytes=32', 'VLC', \"'s\", 'using', 'NetworkManager', 'du', 'like', 'IPv4']\n",
      "()\n",
      "['I', 'would', 'cable', \"n't\", 'one', 'use', \"'s\", 'power', 'like', 'need', 'The', 'It', 'get', 'If', 'could', 'case', 'computer', 'You', 'signal', 'may']\n",
      "()\n",
      "['keyboard', 'I', \"'s\", 'layout', \"n't\", 'The', 'one', 'like', 'would', 'If', 'USB', 'use', 'keyboards', 'Red', 'keys', 'Vim', 'It', 'work', 'This', 'using']\n",
      "()\n",
      "['I', \"n't\", 'problem', 'laptop', 'tried', 'computer', 'Windows', \"'m\", 'fine', \"'ve\", 'The', 'My', 'using', 'get', 'When', 'PC', 'card', \"'s\", 'working', 'work']\n",
      "()\n",
      "[\"'s\", \"n't\", 'If', 'could', 'data', 'would', 'may', 'security', 'might', \"'re\", 'The', 'You', 'see', 'This', 'encrypted', 'using', 'try', 'encryption', 'It', 'computer']\n",
      "()\n",
      "['I', 'column', 'data', 'cell', 'table', 'number', 'formula', 'value', 'row', 'use', 'values', 'Excel', 'A', 'The', 'want', 'cells', 'A1', 'like', 'If', 'need']\n",
      "()\n",
      "['I', 'screen', 'The', 'problem', \"n't\", \"'s\", 'issue', 'Windows', 'time', 'seconds', 'running', 'computer', 'It', \"'m\", 'happens', 'This', 'get', \"'ve\", 'When', 'restart']\n",
      "()\n",
      "['grep', 'sed', '-n', 'PATH', 'Task', 'The', 'command', 'process', 'variable', 'output', 'I', 'Manager', 'ID', 'find', 'Device', 'tail', 'use', 'You', '-e', \"'s\"]\n",
      "()\n",
      "['process', 'I', 'processes', 'Process', 'curl', 'kill', 'git', 'master', 'II', 'Monitor', 'node', 'The', 'commit', 'using', 'PDF', 'running', 'would', \"n't\", \"'s\", 'see']\n",
      "()\n",
      "time: 735 ms\n"
     ]
    }
   ],
   "source": [
    "topics_matrix = lda.show_topics(formatted=False, num_words=20)\n",
    "topics_matrix = np.array(topics_matrix)\n",
    "\n",
    "topic_words = topics_matrix[:,:,1]\n",
    "for i in topic_words:\n",
    "    print([str(word) for word in i])\n",
    "    print()"
   ]
  },
  {
   "cell_type": "code",
   "execution_count": null,
   "metadata": {
    "collapsed": true
   },
   "outputs": [],
   "source": []
  },
  {
   "cell_type": "code",
   "execution_count": null,
   "metadata": {
    "collapsed": true
   },
   "outputs": [],
   "source": []
  },
  {
   "cell_type": "code",
   "execution_count": 26,
   "metadata": {
    "collapsed": false
   },
   "outputs": [
    {
     "data": {
      "text/plain": [
       "[u'0.045*server + 0.039*DNS + 0.018*domain + 0.016*servers + 0.013*name + 0.010*I + 0.009*use + 0.008*hosts + 0.007*IP + 0.007*hostname',\n",
       " u'0.047*drive + 0.039*I + 0.034*disk + 0.030*partition + 0.020*hard + 0.017*data + 0.012*space + 0.011*drives + 0.010*SSD + 0.009*partitions',\n",
       " u\"0.135*I + 0.015*email + 0.013*like + 0.012*would + 0.011*'m + 0.011*Outlook + 0.010*know + 0.009*way + 0.009*message + 0.009*n't\",\n",
       " u\"0.137*amp + 0.009*I + 0.009*n't + 0.007*You + 0.006*using + 0.006*terminal + 0.006*'s + 0.006*If + 0.005*like + 0.005*printf\",\n",
       " u\"0.029*I + 0.027*driver + 0.026*device + 0.017*drivers + 0.014*battery + 0.012*USB + 0.012*laptop + 0.012*power + 0.009*card + 0.008*'s\",\n",
       " u\"0.036*I + 0.024*task + 0.023*n't + 0.021*registry + 0.015*Windows + 0.010*time + 0.007*shutdown + 0.006*like + 0.006*settings + 0.006*use\",\n",
       " u'0.015*Visual + 0.015*TCP + 0.014*Java + 0.014*java + 0.012*Studio + 0.012*event + 0.012*May + 0.010*time + 0.009*Event + 0.008*If',\n",
       " u'0.024*C + 0.020*debug1 + 0.019*directory + 0.018*I + 0.017*files + 0.017*key + 0.015*file + 0.010*git + 0.009*ssh + 0.007*user',\n",
       " u\"0.083*I + 0.024*n't + 0.015*problem + 0.012*time + 0.008*windows + 0.008*'ve + 0.008*would + 0.007*'s + 0.006*run + 0.005*The\",\n",
       " u\"0.028*network + 0.026*router + 0.022*IP + 0.020*I + 0.018*address + 0.015*port + 0.012*connection + 0.010*'s + 0.009*connect + 0.009*internet\"]"
      ]
     },
     "execution_count": 26,
     "metadata": {},
     "output_type": "execute_result"
    },
    {
     "name": "stdout",
     "output_type": "stream",
     "text": [
      "time: 414 ms\n"
     ]
    }
   ],
   "source": [
    "lda.show_topics()"
   ]
  },
  {
   "cell_type": "code",
   "execution_count": null,
   "metadata": {
    "collapsed": true
   },
   "outputs": [],
   "source": []
  }
 ],
 "metadata": {
  "kernelspec": {
   "display_name": "Python 2",
   "language": "python",
   "name": "python2"
  },
  "language_info": {
   "codemirror_mode": {
    "name": "ipython",
    "version": 2
   },
   "file_extension": ".py",
   "mimetype": "text/x-python",
   "name": "python",
   "nbconvert_exporter": "python",
   "pygments_lexer": "ipython2",
   "version": "2.7.6"
  }
 },
 "nbformat": 4,
 "nbformat_minor": 0
}
