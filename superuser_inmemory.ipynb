{
 "cells": [
  {
   "cell_type": "code",
   "execution_count": 43,
   "metadata": {
    "collapsed": false
   },
   "outputs": [
    {
     "name": "stdout",
     "output_type": "stream",
     "text": [
      "time: 2.59 ms\n"
     ]
    }
   ],
   "source": [
    "import io\n",
    "import xml.etree.ElementTree as ET\n",
    "import pandas as pd\n",
    "import helper\n",
    "from sklearn.feature_extraction.text import CountVectorizer\n",
    "import gensim\n",
    "import numpy as np\n",
    "import os\n",
    "#from gensim import corpora, models, similarities "
   ]
  },
  {
   "cell_type": "code",
   "execution_count": 44,
   "metadata": {
    "collapsed": false
   },
   "outputs": [
    {
     "name": "stdout",
     "output_type": "stream",
     "text": [
      "The autoreload extension is already loaded. To reload it, use:\n",
      "  %reload_ext autoreload\n",
      "time: 732 ms\n"
     ]
    }
   ],
   "source": [
    "%load_ext autoreload\n",
    "%autoreload 2"
   ]
  },
  {
   "cell_type": "code",
   "execution_count": 45,
   "metadata": {
    "collapsed": false
   },
   "outputs": [
    {
     "name": "stdout",
     "output_type": "stream",
     "text": [
      "Installed autotime.py. To use it, type:\n",
      "  %load_ext autotime\n",
      "The autotime extension is already loaded. To reload it, use:\n",
      "  %reload_ext autotime\n",
      "time: 1.31 s\n"
     ]
    }
   ],
   "source": [
    "%install_ext https://raw.github.com/cpcloud/ipython-autotime/master/autotime.py\n",
    "%load_ext autotime"
   ]
  },
  {
   "cell_type": "code",
   "execution_count": 46,
   "metadata": {
    "collapsed": false
   },
   "outputs": [
    {
     "name": "stdout",
     "output_type": "stream",
     "text": [
      "time: 1.18 ms\n"
     ]
    },
    {
     "name": "stderr",
     "output_type": "stream",
     "text": [
      "[autoreload of autotime failed: Traceback (most recent call last):\n",
      "  File \"/home/jshoun01/.virtualenvs/py27/local/lib/python2.7/site-packages/IPython/extensions/autoreload.py\", line 247, in check\n",
      "    superreload(m, reload, self.old_objects)\n",
      "ImportError: No module named autotime\n",
      "]\n"
     ]
    }
   ],
   "source": [
    "import logging\n",
    "logging.basicConfig(format='%(asctime)s : %(levelname)s : %(message)s', level=logging.INFO)"
   ]
  },
  {
   "cell_type": "code",
   "execution_count": 47,
   "metadata": {
    "collapsed": false,
    "scrolled": true
   },
   "outputs": [
    {
     "name": "stdout",
     "output_type": "stream",
     "text": [
      "\u001b[0m\u001b[01;36mdata\u001b[0m@\n",
      "time: 546 ms\n"
     ]
    }
   ],
   "source": [
    "ls data"
   ]
  },
  {
   "cell_type": "code",
   "execution_count": 48,
   "metadata": {
    "collapsed": false
   },
   "outputs": [
    {
     "name": "stdout",
     "output_type": "stream",
     "text": [
      "time: 567 ms\n"
     ]
    }
   ],
   "source": [
    "data_dir='data'"
   ]
  },
  {
   "cell_type": "code",
   "execution_count": 49,
   "metadata": {
    "collapsed": false
   },
   "outputs": [
    {
     "name": "stdout",
     "output_type": "stream",
     "text": [
      "time: 36.2 s\n"
     ]
    }
   ],
   "source": [
    "\n",
    "posts_df = helper.get_xml_file_as_df(os.path.join(data_dir,'Posts.xml'),max_num_children=5000)\n",
    "\n",
    "#posts_df = helper.get_xml_file_as_df(os.path.join(data_dir,'Posts.xml'))"
   ]
  },
  {
   "cell_type": "code",
   "execution_count": 50,
   "metadata": {
    "collapsed": false
   },
   "outputs": [
    {
     "data": {
      "text/plain": [
       "Index([u'AcceptedAnswerId', u'AnswerCount', u'Body', u'ClosedDate',\n",
       "       u'CommentCount', u'CommunityOwnedDate', u'CreationDate',\n",
       "       u'FavoriteCount', u'Id', u'LastActivityDate', u'LastEditDate',\n",
       "       u'LastEditorDisplayName', u'LastEditorUserId', u'OwnerDisplayName',\n",
       "       u'OwnerUserId', u'ParentId', u'PostTypeId', u'Score', u'Tags', u'Title',\n",
       "       u'ViewCount'],\n",
       "      dtype='object')"
      ]
     },
     "execution_count": 50,
     "metadata": {},
     "output_type": "execute_result"
    },
    {
     "name": "stdout",
     "output_type": "stream",
     "text": [
      "time: 2.27 ms\n"
     ]
    }
   ],
   "source": [
    "posts_df.columns"
   ]
  },
  {
   "cell_type": "code",
   "execution_count": 51,
   "metadata": {
    "collapsed": false
   },
   "outputs": [
    {
     "data": {
      "text/plain": [
       "u'<p>A Vista virtual machine I use only has a 10 GB virtual hard disk -- and I\\'m worried about it running out of space over time.</p>\\n\\n<p>I used <a href=\"http://www.jam-software.com/treesize_free/\">TreeSize</a> to check for the culprits..</p>\\n\\n<p><img src=\"http://i.stack.imgur.com/uGfhQ.png\" alt=\"enter image description here\"></p>\\n\\n<p>And the primary culprit is that <strong><code>/winsxs</code> or \"Windows Side-By-Side\" folder</strong>.</p>\\n\\n<p><img src=\"http://i.stack.imgur.com/DWYOo.png\" alt=\"enter image description here\"></p>\\n\\n<p>What is the Windows Side By Side folder? Well, that\\'s <a href=\"http://blogs.technet.com/askcore/archive/2008/09/17/what-is-the-winsxs-directory-in-windows-2008-and-windows-vista-and-why-is-it-so-large.aspx\">explained pretty well here</a>.</p>\\n\\n<blockquote>\\n  <p>All of the components in the operating system are found in the WinSxS folder \\u2013 in fact we call this location the component store.  Each component has a unique name that includes the version, language, and processor architecture that it was built for.  The WinSxS folder is the only location that the component is found on the system, all other instances of the files that you see on the system are \\u201cprojected\\u201d by hard linking from the component store.  Let me repeat that last point \\u2013 there is only one instance (or full data copy) of each version of each file in the OS, and that instance is located in the WinSxS folder.   So looked at from that perspective, the WinSxS folder is really the entirety of the whole OS, referred to as a \"flat\" in down-level operating systems.  This also accounts for why you will no longer be prompted for media when running operations such as System File Checker (SFC), or when installing additional features and roles.</p>\\n  \\n  <p>That explains why the folder starts off big, but not why it gets larger over time \\u2013 the answer to that question is servicing.   In previous versions of Windows the atomic unit of servicing was the file, in Windows Vista it\\u2019s the component.  When we update a particular binary we release a new version of the whole component, and that new version is stored alongside the original one in the component store.  The higher version of the component is projected onto the system, but the older version in the store isn\\u2019t touched.  The reason for that is the third part of why the component store gets so large.</p>\\n</blockquote>\\n\\n<p>Lots of other people <a href=\"http://blog.tiensivu.com/aaron/archives/1306-Demystifying-the-WinSxS-directory-in-Windows-XP,-Vista-and-Server-20032008.html\">complaining about the size of the /winsxs folder, too</a>:</p>\\n\\n<blockquote>\\n  <p>A coworker recently received his every two year work laptop refresh and was in the middle of loading his new laptop with Vista. For some reason, his hard drive C: was partitioned to only 25GB and the rest of the space reserved for a much larger drive D:.</p>\\n  \\n  <p>Anyway, after loading many Windows Updates, he was left with hardly any drive space left on C:, and for some reason, the WinSxS directory had ballooned to over 8GB.</p>\\n  \\n  <p>While I knew what the WinSxS (Windows Side-by-Side) directory was for, I wasn\\'t quite sure why that directory would explode in size so fast with normal operating system updates.</p>\\n</blockquote>\\n\\n<p>I don\\'t really care about having all these duplicate files for safety, but I <em>do</em> care about the VM exploding due to an out of disk space error. So.. <strong>can /winsxs be safely pared down in any way?</strong> <a href=\"http://blogs.msdn.com/jonwis/archive/2007/01/02/deleting-from-the-winsxs-directory.aspx\">It doesn\\'t seem that it can be</a>.. </p>\\n\\n<blockquote>\\n  <p><strong>Administrators should not, for any reason, take it upon themselves to clean out the /winsxs directory</strong> - doing so may prevent Windows Update and MSI from functioning properly afterwards.  Preventing accidental deletion from the directory is accomplished by putting a strong security descriptor on the directory that inherits to its children.</p>\\n</blockquote>\\n\\n<p>If this /winsxs folder gets any larger, I\\'m going to have to re-image this virtual machine.. which I <em>really</em> don\\'t want to do!</p>\\n'"
      ]
     },
     "execution_count": 51,
     "metadata": {},
     "output_type": "execute_result"
    },
    {
     "name": "stdout",
     "output_type": "stream",
     "text": [
      "time: 529 ms\n"
     ]
    }
   ],
   "source": [
    "posts_df.irow(0).Body"
   ]
  },
  {
   "cell_type": "code",
   "execution_count": 52,
   "metadata": {
    "collapsed": false,
    "scrolled": true
   },
   "outputs": [
    {
     "data": {
      "text/html": [
       "<div>\n",
       "<table border=\"1\" class=\"dataframe\">\n",
       "  <thead>\n",
       "    <tr style=\"text-align: right;\">\n",
       "      <th></th>\n",
       "      <th>AcceptedAnswerId</th>\n",
       "      <th>AnswerCount</th>\n",
       "      <th>Body</th>\n",
       "      <th>ClosedDate</th>\n",
       "      <th>CommentCount</th>\n",
       "      <th>CommunityOwnedDate</th>\n",
       "      <th>CreationDate</th>\n",
       "      <th>FavoriteCount</th>\n",
       "      <th>Id</th>\n",
       "      <th>LastActivityDate</th>\n",
       "      <th>...</th>\n",
       "      <th>LastEditorDisplayName</th>\n",
       "      <th>LastEditorUserId</th>\n",
       "      <th>OwnerDisplayName</th>\n",
       "      <th>OwnerUserId</th>\n",
       "      <th>ParentId</th>\n",
       "      <th>PostTypeId</th>\n",
       "      <th>Score</th>\n",
       "      <th>Tags</th>\n",
       "      <th>Title</th>\n",
       "      <th>ViewCount</th>\n",
       "    </tr>\n",
       "  </thead>\n",
       "  <tbody>\n",
       "    <tr>\n",
       "      <th>0</th>\n",
       "      <td>727273</td>\n",
       "      <td>10</td>\n",
       "      <td>&lt;p&gt;A Vista virtual machine I use only has a 10...</td>\n",
       "      <td>NaN</td>\n",
       "      <td>9</td>\n",
       "      <td>NaN</td>\n",
       "      <td>2009-07-15T06:27:46.723</td>\n",
       "      <td>69</td>\n",
       "      <td>1</td>\n",
       "      <td>2014-10-18T07:23:25.843</td>\n",
       "      <td>...</td>\n",
       "      <td>NaN</td>\n",
       "      <td>73637</td>\n",
       "      <td>NaN</td>\n",
       "      <td>1</td>\n",
       "      <td>NaN</td>\n",
       "      <td>1</td>\n",
       "      <td>132</td>\n",
       "      <td>&lt;windows&gt;&lt;disk-space&gt;&lt;winsxs&gt;</td>\n",
       "      <td>Why does the /winsxs folder grow so large, and...</td>\n",
       "      <td>70584</td>\n",
       "    </tr>\n",
       "    <tr>\n",
       "      <th>1</th>\n",
       "      <td>NaN</td>\n",
       "      <td>6</td>\n",
       "      <td>&lt;p&gt;I used to record important technical meetin...</td>\n",
       "      <td>NaN</td>\n",
       "      <td>0</td>\n",
       "      <td>NaN</td>\n",
       "      <td>2009-07-08T16:32:47.817</td>\n",
       "      <td>3</td>\n",
       "      <td>24</td>\n",
       "      <td>2012-08-08T21:06:48.087</td>\n",
       "      <td>...</td>\n",
       "      <td>NaN</td>\n",
       "      <td>36744</td>\n",
       "      <td>essamSALAH</td>\n",
       "      <td>NaN</td>\n",
       "      <td>NaN</td>\n",
       "      <td>1</td>\n",
       "      <td>5</td>\n",
       "      <td>&lt;audio&gt;&lt;audio-recording&gt;&lt;camtasia&gt;</td>\n",
       "      <td>How can I remove noise from an audio recording?</td>\n",
       "      <td>3654</td>\n",
       "    </tr>\n",
       "    <tr>\n",
       "      <th>2</th>\n",
       "      <td>NaN</td>\n",
       "      <td>NaN</td>\n",
       "      <td>&lt;p&gt;You could use a filter on the recording. If...</td>\n",
       "      <td>NaN</td>\n",
       "      <td>0</td>\n",
       "      <td>NaN</td>\n",
       "      <td>2009-07-08T16:34:52.867</td>\n",
       "      <td>NaN</td>\n",
       "      <td>25</td>\n",
       "      <td>2009-07-15T06:48:44.300</td>\n",
       "      <td>...</td>\n",
       "      <td>NaN</td>\n",
       "      <td>NaN</td>\n",
       "      <td>Burkhard</td>\n",
       "      <td>9637</td>\n",
       "      <td>24</td>\n",
       "      <td>2</td>\n",
       "      <td>0</td>\n",
       "      <td>NaN</td>\n",
       "      <td>NaN</td>\n",
       "      <td>NaN</td>\n",
       "    </tr>\n",
       "    <tr>\n",
       "      <th>3</th>\n",
       "      <td>NaN</td>\n",
       "      <td>NaN</td>\n",
       "      <td>&lt;p&gt;try out something like:&lt;/p&gt;\\n\\n&lt;p&gt;audible (...</td>\n",
       "      <td>NaN</td>\n",
       "      <td>0</td>\n",
       "      <td>NaN</td>\n",
       "      <td>2009-07-08T16:59:00.587</td>\n",
       "      <td>NaN</td>\n",
       "      <td>26</td>\n",
       "      <td>2009-07-15T06:48:44.300</td>\n",
       "      <td>...</td>\n",
       "      <td>NaN</td>\n",
       "      <td>NaN</td>\n",
       "      <td>Jas Panesar</td>\n",
       "      <td>23242</td>\n",
       "      <td>24</td>\n",
       "      <td>2</td>\n",
       "      <td>0</td>\n",
       "      <td>NaN</td>\n",
       "      <td>NaN</td>\n",
       "      <td>NaN</td>\n",
       "    </tr>\n",
       "    <tr>\n",
       "      <th>4</th>\n",
       "      <td>NaN</td>\n",
       "      <td>NaN</td>\n",
       "      <td>&lt;p&gt;You definitely need some sort of software t...</td>\n",
       "      <td>NaN</td>\n",
       "      <td>1</td>\n",
       "      <td>NaN</td>\n",
       "      <td>2009-07-08T17:15:59.477</td>\n",
       "      <td>NaN</td>\n",
       "      <td>27</td>\n",
       "      <td>2009-07-15T06:48:44.300</td>\n",
       "      <td>...</td>\n",
       "      <td>NaN</td>\n",
       "      <td>NaN</td>\n",
       "      <td>T Pops</td>\n",
       "      <td>45675</td>\n",
       "      <td>24</td>\n",
       "      <td>2</td>\n",
       "      <td>0</td>\n",
       "      <td>NaN</td>\n",
       "      <td>NaN</td>\n",
       "      <td>NaN</td>\n",
       "    </tr>\n",
       "  </tbody>\n",
       "</table>\n",
       "<p>5 rows × 21 columns</p>\n",
       "</div>"
      ],
      "text/plain": [
       "  AcceptedAnswerId AnswerCount  \\\n",
       "0           727273          10   \n",
       "1              NaN           6   \n",
       "2              NaN         NaN   \n",
       "3              NaN         NaN   \n",
       "4              NaN         NaN   \n",
       "\n",
       "                                                Body ClosedDate CommentCount  \\\n",
       "0  <p>A Vista virtual machine I use only has a 10...        NaN            9   \n",
       "1  <p>I used to record important technical meetin...        NaN            0   \n",
       "2  <p>You could use a filter on the recording. If...        NaN            0   \n",
       "3  <p>try out something like:</p>\\n\\n<p>audible (...        NaN            0   \n",
       "4  <p>You definitely need some sort of software t...        NaN            1   \n",
       "\n",
       "  CommunityOwnedDate             CreationDate FavoriteCount  Id  \\\n",
       "0                NaN  2009-07-15T06:27:46.723            69   1   \n",
       "1                NaN  2009-07-08T16:32:47.817             3  24   \n",
       "2                NaN  2009-07-08T16:34:52.867           NaN  25   \n",
       "3                NaN  2009-07-08T16:59:00.587           NaN  26   \n",
       "4                NaN  2009-07-08T17:15:59.477           NaN  27   \n",
       "\n",
       "          LastActivityDate    ...    LastEditorDisplayName LastEditorUserId  \\\n",
       "0  2014-10-18T07:23:25.843    ...                      NaN            73637   \n",
       "1  2012-08-08T21:06:48.087    ...                      NaN            36744   \n",
       "2  2009-07-15T06:48:44.300    ...                      NaN              NaN   \n",
       "3  2009-07-15T06:48:44.300    ...                      NaN              NaN   \n",
       "4  2009-07-15T06:48:44.300    ...                      NaN              NaN   \n",
       "\n",
       "  OwnerDisplayName OwnerUserId ParentId PostTypeId Score  \\\n",
       "0              NaN           1      NaN          1   132   \n",
       "1       essamSALAH         NaN      NaN          1     5   \n",
       "2         Burkhard        9637       24          2     0   \n",
       "3      Jas Panesar       23242       24          2     0   \n",
       "4           T Pops       45675       24          2     0   \n",
       "\n",
       "                                 Tags  \\\n",
       "0       <windows><disk-space><winsxs>   \n",
       "1  <audio><audio-recording><camtasia>   \n",
       "2                                 NaN   \n",
       "3                                 NaN   \n",
       "4                                 NaN   \n",
       "\n",
       "                                               Title ViewCount  \n",
       "0  Why does the /winsxs folder grow so large, and...     70584  \n",
       "1    How can I remove noise from an audio recording?      3654  \n",
       "2                                                NaN       NaN  \n",
       "3                                                NaN       NaN  \n",
       "4                                                NaN       NaN  \n",
       "\n",
       "[5 rows x 21 columns]"
      ]
     },
     "execution_count": 52,
     "metadata": {},
     "output_type": "execute_result"
    },
    {
     "name": "stdout",
     "output_type": "stream",
     "text": [
      "time: 718 ms\n"
     ]
    }
   ],
   "source": [
    "posts_df.head()"
   ]
  },
  {
   "cell_type": "markdown",
   "metadata": {},
   "source": [
    "Only interested in questions"
   ]
  },
  {
   "cell_type": "code",
   "execution_count": 53,
   "metadata": {
    "collapsed": false
   },
   "outputs": [
    {
     "name": "stdout",
     "output_type": "stream",
     "text": [
      "There are 5001 posts\n",
      "There are 1293 question posts\n",
      "time: 517 ms\n"
     ]
    }
   ],
   "source": [
    "print(\"There are %s posts\"%(len(posts_df)))\n",
    "posts_df=posts_df[posts_df.PostTypeId==\"1\"]\n",
    "print(\"There are %s question posts\"%(len(posts_df)))"
   ]
  },
  {
   "cell_type": "markdown",
   "metadata": {},
   "source": [
    "## Process Text"
   ]
  },
  {
   "cell_type": "code",
   "execution_count": 54,
   "metadata": {
    "collapsed": false
   },
   "outputs": [
    {
     "name": "stdout",
     "output_type": "stream",
     "text": [
      "time: 4.96 s\n"
     ]
    }
   ],
   "source": [
    "# strip html tags\n",
    "posts_df['BodyCleaned']=posts_df['Body'].apply(lambda x : helper.strip_tags(x))\n",
    "# tokenize text\n",
    "posts_df['BodyCleaned']=posts_df['BodyCleaned'].apply(lambda x : helper.tokenize_and_stem(x,None))\n",
    "\n",
    "# remove stop words\n",
    "posts_df['BodyCleaned']=posts_df['BodyCleaned'].apply(lambda x : helper.remove_stopwords(x))\n",
    "\n"
   ]
  },
  {
   "cell_type": "code",
   "execution_count": 55,
   "metadata": {
    "collapsed": false
   },
   "outputs": [
    {
     "data": {
      "text/html": [
       "<div>\n",
       "<table border=\"1\" class=\"dataframe\">\n",
       "  <thead>\n",
       "    <tr style=\"text-align: right;\">\n",
       "      <th></th>\n",
       "      <th>AcceptedAnswerId</th>\n",
       "      <th>AnswerCount</th>\n",
       "      <th>Body</th>\n",
       "      <th>ClosedDate</th>\n",
       "      <th>CommentCount</th>\n",
       "      <th>CommunityOwnedDate</th>\n",
       "      <th>CreationDate</th>\n",
       "      <th>FavoriteCount</th>\n",
       "      <th>Id</th>\n",
       "      <th>LastActivityDate</th>\n",
       "      <th>...</th>\n",
       "      <th>LastEditorUserId</th>\n",
       "      <th>OwnerDisplayName</th>\n",
       "      <th>OwnerUserId</th>\n",
       "      <th>ParentId</th>\n",
       "      <th>PostTypeId</th>\n",
       "      <th>Score</th>\n",
       "      <th>Tags</th>\n",
       "      <th>Title</th>\n",
       "      <th>ViewCount</th>\n",
       "      <th>BodyCleaned</th>\n",
       "    </tr>\n",
       "  </thead>\n",
       "  <tbody>\n",
       "    <tr>\n",
       "      <th>0</th>\n",
       "      <td>727273</td>\n",
       "      <td>10</td>\n",
       "      <td>&lt;p&gt;A Vista virtual machine I use only has a 10...</td>\n",
       "      <td>NaN</td>\n",
       "      <td>9</td>\n",
       "      <td>NaN</td>\n",
       "      <td>2009-07-15T06:27:46.723</td>\n",
       "      <td>69</td>\n",
       "      <td>1</td>\n",
       "      <td>2014-10-18T07:23:25.843</td>\n",
       "      <td>...</td>\n",
       "      <td>73637</td>\n",
       "      <td>NaN</td>\n",
       "      <td>1</td>\n",
       "      <td>NaN</td>\n",
       "      <td>1</td>\n",
       "      <td>132</td>\n",
       "      <td>&lt;windows&gt;&lt;disk-space&gt;&lt;winsxs&gt;</td>\n",
       "      <td>Why does the /winsxs folder grow so large, and...</td>\n",
       "      <td>70584</td>\n",
       "      <td>[A, Vista, virtual, machine, I, use, GB, virtu...</td>\n",
       "    </tr>\n",
       "    <tr>\n",
       "      <th>1</th>\n",
       "      <td>NaN</td>\n",
       "      <td>6</td>\n",
       "      <td>&lt;p&gt;I used to record important technical meetin...</td>\n",
       "      <td>NaN</td>\n",
       "      <td>0</td>\n",
       "      <td>NaN</td>\n",
       "      <td>2009-07-08T16:32:47.817</td>\n",
       "      <td>3</td>\n",
       "      <td>24</td>\n",
       "      <td>2012-08-08T21:06:48.087</td>\n",
       "      <td>...</td>\n",
       "      <td>36744</td>\n",
       "      <td>essamSALAH</td>\n",
       "      <td>NaN</td>\n",
       "      <td>NaN</td>\n",
       "      <td>1</td>\n",
       "      <td>5</td>\n",
       "      <td>&lt;audio&gt;&lt;audio-recording&gt;&lt;camtasia&gt;</td>\n",
       "      <td>How can I remove noise from an audio recording?</td>\n",
       "      <td>3654</td>\n",
       "      <td>[I, used, record, important, technical, meetin...</td>\n",
       "    </tr>\n",
       "    <tr>\n",
       "      <th>5</th>\n",
       "      <td>42</td>\n",
       "      <td>9</td>\n",
       "      <td>&lt;p&gt;What is the difference between the two supe...</td>\n",
       "      <td>NaN</td>\n",
       "      <td>0</td>\n",
       "      <td>NaN</td>\n",
       "      <td>2009-07-15T07:11:46.370</td>\n",
       "      <td>1</td>\n",
       "      <td>29</td>\n",
       "      <td>2011-11-25T19:11:50.960</td>\n",
       "      <td>...</td>\n",
       "      <td>48078</td>\n",
       "      <td>NaN</td>\n",
       "      <td>13</td>\n",
       "      <td>NaN</td>\n",
       "      <td>1</td>\n",
       "      <td>17</td>\n",
       "      <td>&lt;linux&gt;&lt;unix&gt;&lt;sudo&gt;</td>\n",
       "      <td>What's the difference between the commands \"su...</td>\n",
       "      <td>14700</td>\n",
       "      <td>[What, difference, two, super, user, commands,...</td>\n",
       "    </tr>\n",
       "    <tr>\n",
       "      <th>7</th>\n",
       "      <td>3841</td>\n",
       "      <td>3</td>\n",
       "      <td>&lt;p&gt;My late 2008, Macbook Pro Unibody machine h...</td>\n",
       "      <td>NaN</td>\n",
       "      <td>2</td>\n",
       "      <td>NaN</td>\n",
       "      <td>2009-07-15T07:17:13.970</td>\n",
       "      <td>1</td>\n",
       "      <td>37</td>\n",
       "      <td>2009-07-15T21:15:21.323</td>\n",
       "      <td>...</td>\n",
       "      <td>NaN</td>\n",
       "      <td>NaN</td>\n",
       "      <td>26</td>\n",
       "      <td>NaN</td>\n",
       "      <td>1</td>\n",
       "      <td>4</td>\n",
       "      <td>&lt;mac&gt;&lt;crash&gt;&lt;boot-camp&gt;</td>\n",
       "      <td>Why does the Macbook Pro Unibody crash on hibe...</td>\n",
       "      <td>1169</td>\n",
       "      <td>[My, late, Macbook, Pro, Unibody, machine, num...</td>\n",
       "    </tr>\n",
       "    <tr>\n",
       "      <th>13</th>\n",
       "      <td>92</td>\n",
       "      <td>2</td>\n",
       "      <td>&lt;p&gt;Is there any way to configure application t...</td>\n",
       "      <td>NaN</td>\n",
       "      <td>0</td>\n",
       "      <td>NaN</td>\n",
       "      <td>2009-07-15T07:20:00.717</td>\n",
       "      <td>1</td>\n",
       "      <td>46</td>\n",
       "      <td>2014-07-26T13:37:09.967</td>\n",
       "      <td>...</td>\n",
       "      <td>81403</td>\n",
       "      <td>NaN</td>\n",
       "      <td>21</td>\n",
       "      <td>NaN</td>\n",
       "      <td>1</td>\n",
       "      <td>9</td>\n",
       "      <td>&lt;windows-vista&gt;&lt;boot&gt;&lt;uac&gt;&lt;privileges&gt;&lt;elevation&gt;</td>\n",
       "      <td>Elevated Priviliges for Startup Applications i...</td>\n",
       "      <td>7997</td>\n",
       "      <td>[Is, way, configure, application, requires, ad...</td>\n",
       "    </tr>\n",
       "  </tbody>\n",
       "</table>\n",
       "<p>5 rows × 22 columns</p>\n",
       "</div>"
      ],
      "text/plain": [
       "   AcceptedAnswerId AnswerCount  \\\n",
       "0            727273          10   \n",
       "1               NaN           6   \n",
       "5                42           9   \n",
       "7              3841           3   \n",
       "13               92           2   \n",
       "\n",
       "                                                 Body ClosedDate CommentCount  \\\n",
       "0   <p>A Vista virtual machine I use only has a 10...        NaN            9   \n",
       "1   <p>I used to record important technical meetin...        NaN            0   \n",
       "5   <p>What is the difference between the two supe...        NaN            0   \n",
       "7   <p>My late 2008, Macbook Pro Unibody machine h...        NaN            2   \n",
       "13  <p>Is there any way to configure application t...        NaN            0   \n",
       "\n",
       "   CommunityOwnedDate             CreationDate FavoriteCount  Id  \\\n",
       "0                 NaN  2009-07-15T06:27:46.723            69   1   \n",
       "1                 NaN  2009-07-08T16:32:47.817             3  24   \n",
       "5                 NaN  2009-07-15T07:11:46.370             1  29   \n",
       "7                 NaN  2009-07-15T07:17:13.970             1  37   \n",
       "13                NaN  2009-07-15T07:20:00.717             1  46   \n",
       "\n",
       "           LastActivityDate  \\\n",
       "0   2014-10-18T07:23:25.843   \n",
       "1   2012-08-08T21:06:48.087   \n",
       "5   2011-11-25T19:11:50.960   \n",
       "7   2009-07-15T21:15:21.323   \n",
       "13  2014-07-26T13:37:09.967   \n",
       "\n",
       "                          ...                         LastEditorUserId  \\\n",
       "0                         ...                                    73637   \n",
       "1                         ...                                    36744   \n",
       "5                         ...                                    48078   \n",
       "7                         ...                                      NaN   \n",
       "13                        ...                                    81403   \n",
       "\n",
       "   OwnerDisplayName OwnerUserId ParentId PostTypeId Score  \\\n",
       "0               NaN           1      NaN          1   132   \n",
       "1        essamSALAH         NaN      NaN          1     5   \n",
       "5               NaN          13      NaN          1    17   \n",
       "7               NaN          26      NaN          1     4   \n",
       "13              NaN          21      NaN          1     9   \n",
       "\n",
       "                                                 Tags  \\\n",
       "0                       <windows><disk-space><winsxs>   \n",
       "1                  <audio><audio-recording><camtasia>   \n",
       "5                                 <linux><unix><sudo>   \n",
       "7                             <mac><crash><boot-camp>   \n",
       "13  <windows-vista><boot><uac><privileges><elevation>   \n",
       "\n",
       "                                                Title ViewCount  \\\n",
       "0   Why does the /winsxs folder grow so large, and...     70584   \n",
       "1     How can I remove noise from an audio recording?      3654   \n",
       "5   What's the difference between the commands \"su...     14700   \n",
       "7   Why does the Macbook Pro Unibody crash on hibe...      1169   \n",
       "13  Elevated Priviliges for Startup Applications i...      7997   \n",
       "\n",
       "                                          BodyCleaned  \n",
       "0   [A, Vista, virtual, machine, I, use, GB, virtu...  \n",
       "1   [I, used, record, important, technical, meetin...  \n",
       "5   [What, difference, two, super, user, commands,...  \n",
       "7   [My, late, Macbook, Pro, Unibody, machine, num...  \n",
       "13  [Is, way, configure, application, requires, ad...  \n",
       "\n",
       "[5 rows x 22 columns]"
      ]
     },
     "execution_count": 55,
     "metadata": {},
     "output_type": "execute_result"
    },
    {
     "name": "stdout",
     "output_type": "stream",
     "text": [
      "time: 36.7 ms\n"
     ]
    }
   ],
   "source": [
    "posts_df.head()"
   ]
  },
  {
   "cell_type": "code",
   "execution_count": 56,
   "metadata": {
    "collapsed": false
   },
   "outputs": [
    {
     "data": {
      "text/plain": [
       "1293"
      ]
     },
     "execution_count": 56,
     "metadata": {},
     "output_type": "execute_result"
    },
    {
     "name": "stdout",
     "output_type": "stream",
     "text": [
      "time: 557 ms\n"
     ]
    }
   ],
   "source": [
    "len(posts_df)"
   ]
  },
  {
   "cell_type": "code",
   "execution_count": 57,
   "metadata": {
    "collapsed": false
   },
   "outputs": [
    {
     "name": "stdout",
     "output_type": "stream",
     "text": [
      "time: 736 ms\n"
     ]
    }
   ],
   "source": [
    "texts = posts_df['BodyCleaned']"
   ]
  },
  {
   "cell_type": "code",
   "execution_count": 58,
   "metadata": {
    "collapsed": false
   },
   "outputs": [
    {
     "name": "stdout",
     "output_type": "stream",
     "text": [
      "time: 877 ms\n"
     ]
    }
   ],
   "source": [
    "#create a Gensim dictionary from the texts\n",
    "dictionary = gensim.corpora.Dictionary(texts)\n",
    "\n",
    "#remove extremes (similar to the min/max df step used when creating the tf-idf matrix)\n",
    "dictionary.filter_extremes(no_below=1, no_above=0.8)\n",
    "\n",
    "#convert the dictionary to a bag of words corpus for reference\n",
    "corpus = [dictionary.doc2bow(text) for text in texts]"
   ]
  },
  {
   "cell_type": "code",
   "execution_count": 59,
   "metadata": {
    "collapsed": false
   },
   "outputs": [
    {
     "data": {
      "text/plain": [
       "[(94, 1),\n",
       " (101, 1),\n",
       " (152, 1),\n",
       " (158, 1),\n",
       " (165, 2),\n",
       " (199, 1),\n",
       " (361, 1),\n",
       " (364, 1),\n",
       " (383, 1),\n",
       " (437, 1)]"
      ]
     },
     "execution_count": 59,
     "metadata": {},
     "output_type": "execute_result"
    },
    {
     "name": "stdout",
     "output_type": "stream",
     "text": [
      "time: 417 ms\n"
     ]
    }
   ],
   "source": [
    "corpus[0][:10]"
   ]
  },
  {
   "cell_type": "code",
   "execution_count": 60,
   "metadata": {
    "collapsed": false
   },
   "outputs": [
    {
     "name": "stdout",
     "output_type": "stream",
     "text": [
      "time: 47.3 s\n"
     ]
    }
   ],
   "source": [
    "#gensim.models.LdaMulticore\n",
    "lda = gensim.models.LdaMulticore(corpus, num_topics=10, passes=10,\n",
    "                            id2word=dictionary)"
   ]
  },
  {
   "cell_type": "code",
   "execution_count": 61,
   "metadata": {
    "collapsed": false
   },
   "outputs": [
    {
     "data": {
      "text/plain": [
       "[u\"0.009*would + 0.007*like + 0.007*Windows + 0.007*n't + 0.007*use + 0.005*problem + 0.005*good + 0.005*'s + 0.005*What + 0.004*one + 0.004*This + 0.004*network + 0.004*files + 0.003*How + 0.003*'ve + 0.003*'m + 0.003*computer + 0.003*open + 0.003*Microsoft + 0.003*user\",\n",
       " u\"0.013*n't + 0.012*Windows + 0.009*Is + 0.006*use + 0.006*would + 0.006*way + 0.006*'m + 0.005*know + 0.005*folder + 0.005*The + 0.005*XP + 0.005*windows + 0.005*using + 0.004*like + 0.004*What + 0.004*get + 0.004*files + 0.004*new + 0.004*need + 0.004*password\",\n",
       " u\"0.028*r + 0.027*None + 0.014*dc + 0.014*y + 0.013*tc + 0.013*PM + 0.013*0x0-0x1316315 + 0.013*.com.google.Chrome + 0.004*gt + 0.004*lt + 0.003*system + 0.003*GoogleSoftwareUpdateAgent + 0.003*Section + 0.003*using + 0.003*EndSection + 0.003*n't + 0.003*92673/0xb00a1000 + 0.003*lvl=2 + 0.003*Option + 0.003*Identifier\",\n",
       " u\"0.013*'m + 0.013*Windows + 0.012*'s + 0.010*n't + 0.009*use + 0.008*Is + 0.007*would + 0.007*like + 0.006*one + 0.006*The + 0.006*way + 0.005*time + 0.005*computer + 0.005*monitor + 0.005*get + 0.005*'ve + 0.005*What + 0.005*work + 0.004*XP + 0.004*want\",\n",
       " u\"0.011*n't + 0.011*'m + 0.008*drive + 0.008*like + 0.008*use + 0.008*Windows + 0.007*'s + 0.006*'ve + 0.005*Is + 0.005*iPhone + 0.005*The + 0.004*What + 0.004*Vista + 0.004*using + 0.004*It + 0.004*computer + 0.004*could + 0.004*video + 0.003*one + 0.003*would\",\n",
       " u\"0.011*n't + 0.008*would + 0.008*Windows + 0.007*file + 0.007*'s + 0.007*get + 0.006*work + 0.006*like + 0.005*It + 0.005*Is + 0.005*one + 0.005*r-xp + 0.005*use + 0.005*The + 0.004*files + 0.004*using + 0.004*rwxp + 0.004*What + 0.004*computer + 0.004*'ve\",\n",
       " u\"0.007*Windows + 0.007*using + 0.007*'ve + 0.006*n't + 0.005*The + 0.005*'m + 0.005*problem + 0.005*use + 0.005*would + 0.004*time + 0.004*get + 0.004*like + 0.004*network + 0.004*computer + 0.003*'s + 0.003*mouse + 0.003*know + 0.003*What + 0.003*Vista + 0.003*How\",\n",
       " u\"0.007*using + 0.007*n't + 0.005*router + 0.005*computer + 0.005*This + 0.005*'s + 0.005*way + 0.004*Flash + 0.004*anyone + 0.004*one + 0.004*Is + 0.004*network + 0.004*know + 0.004*files + 0.004*set + 0.004*work + 0.004*use + 0.003*'m + 0.003*It + 0.003*video\",\n",
       " u\"0.010*n't + 0.009*drive + 0.009*get + 0.008*like + 0.007*'s + 0.007*'m + 0.007*'ve + 0.006*computer + 0.005*work + 0.005*use + 0.005*would + 0.005*know + 0.004*using + 0.004*Windows + 0.004*What + 0.004*new + 0.004*The + 0.004*file + 0.004*want + 0.003*My\",\n",
       " u\"0.017*Windows + 0.011*n't + 0.008*'s + 0.007*way + 0.006*'ve + 0.006*'m + 0.006*using + 0.006*would + 0.006*use + 0.005*OS + 0.005*Is + 0.005*want + 0.005*Vista + 0.004*know + 0.004*running + 0.004*What + 0.004*get + 0.004*like + 0.004*one + 0.004*machine\"]"
      ]
     },
     "execution_count": 61,
     "metadata": {},
     "output_type": "execute_result"
    },
    {
     "name": "stdout",
     "output_type": "stream",
     "text": [
      "time: 6.13 ms\n"
     ]
    }
   ],
   "source": [
    "lda.show_topics(num_words=20)\n"
   ]
  },
  {
   "cell_type": "code",
   "execution_count": 62,
   "metadata": {
    "collapsed": false
   },
   "outputs": [
    {
     "name": "stdout",
     "output_type": "stream",
     "text": [
      "['would', 'like', 'Windows', \"n't\", 'use', 'problem', 'good', \"'s\", 'What', 'one', 'This', 'network', 'files', 'How', \"'ve\", \"'m\", 'computer', 'open', 'Microsoft', 'user']\n",
      "()\n",
      "[\"n't\", 'Windows', 'Is', 'use', 'would', 'way', \"'m\", 'know', 'folder', 'The', 'XP', 'windows', 'using', 'like', 'What', 'get', 'files', 'new', 'need', 'password']\n",
      "()\n",
      "['r', 'None', 'dc', 'y', 'tc', 'PM', '0x0-0x1316315', '.com.google.Chrome', 'gt', 'lt', 'system', 'GoogleSoftwareUpdateAgent', 'Section', 'using', 'EndSection', \"n't\", '92673/0xb00a1000', 'lvl=2', 'Option', 'Identifier']\n",
      "()\n",
      "[\"'m\", 'Windows', \"'s\", \"n't\", 'use', 'Is', 'would', 'like', 'one', 'The', 'way', 'time', 'computer', 'monitor', 'get', \"'ve\", 'What', 'work', 'XP', 'want']\n",
      "()\n",
      "[\"n't\", \"'m\", 'drive', 'like', 'use', 'Windows', \"'s\", \"'ve\", 'Is', 'iPhone', 'The', 'What', 'Vista', 'using', 'It', 'computer', 'could', 'video', 'one', 'would']\n",
      "()\n",
      "[\"n't\", 'would', 'Windows', 'file', \"'s\", 'get', 'work', 'like', 'It', 'Is', 'one', 'r-xp', 'use', 'The', 'files', 'using', 'rwxp', 'What', 'computer', \"'ve\"]\n",
      "()\n",
      "['Windows', 'using', \"'ve\", \"n't\", 'The', \"'m\", 'problem', 'use', 'would', 'time', 'get', 'like', 'network', 'computer', \"'s\", 'mouse', 'know', 'What', 'Vista', 'How']\n",
      "()\n",
      "['using', \"n't\", 'router', 'computer', 'This', \"'s\", 'way', 'Flash', 'anyone', 'one', 'Is', 'network', 'know', 'files', 'set', 'work', 'use', \"'m\", 'It', 'video']\n",
      "()\n",
      "[\"n't\", 'drive', 'get', 'like', \"'s\", \"'m\", \"'ve\", 'computer', 'work', 'use', 'would', 'know', 'using', 'Windows', 'What', 'new', 'The', 'file', 'want', 'My']\n",
      "()\n",
      "['Windows', \"n't\", \"'s\", 'way', \"'ve\", \"'m\", 'using', 'would', 'use', 'OS', 'Is', 'want', 'Vista', 'know', 'running', 'What', 'get', 'like', 'one', 'machine']\n",
      "()\n",
      "time: 362 ms\n"
     ]
    }
   ],
   "source": [
    "topics_matrix = lda.show_topics(formatted=False, num_words=20)\n",
    "topics_matrix = np.array(topics_matrix)\n",
    "\n",
    "topic_words = topics_matrix[:,:,1]\n",
    "for i in topic_words:\n",
    "    print([str(word) for word in i])\n",
    "    print()"
   ]
  },
  {
   "cell_type": "code",
   "execution_count": null,
   "metadata": {
    "collapsed": true
   },
   "outputs": [],
   "source": []
  },
  {
   "cell_type": "code",
   "execution_count": null,
   "metadata": {
    "collapsed": true
   },
   "outputs": [],
   "source": []
  }
 ],
 "metadata": {
  "kernelspec": {
   "display_name": "Python 2",
   "language": "python",
   "name": "python2"
  },
  "language_info": {
   "codemirror_mode": {
    "name": "ipython",
    "version": 2
   },
   "file_extension": ".py",
   "mimetype": "text/x-python",
   "name": "python",
   "nbconvert_exporter": "python",
   "pygments_lexer": "ipython2",
   "version": "2.7.6"
  }
 },
 "nbformat": 4,
 "nbformat_minor": 0
}
