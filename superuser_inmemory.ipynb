{
 "cells": [
  {
   "cell_type": "code",
   "execution_count": 25,
   "metadata": {
    "collapsed": false
   },
   "outputs": [
    {
     "name": "stdout",
     "output_type": "stream",
     "text": [
      "time: 2.56 ms\n"
     ]
    }
   ],
   "source": [
    "import io\n",
    "import xml.etree.ElementTree as ET\n",
    "import pandas as pd\n",
    "import helper\n",
    "from sklearn.feature_extraction.text import CountVectorizer\n",
    "import gensim\n",
    "import numpy as np\n",
    "import os\n",
    "#from gensim import corpora, models, similarities "
   ]
  },
  {
   "cell_type": "code",
   "execution_count": 26,
   "metadata": {
    "collapsed": false
   },
   "outputs": [
    {
     "name": "stdout",
     "output_type": "stream",
     "text": [
      "The autoreload extension is already loaded. To reload it, use:\n",
      "  %reload_ext autoreload\n",
      "time: 517 ms\n"
     ]
    }
   ],
   "source": [
    "%load_ext autoreload\n",
    "%autoreload 2"
   ]
  },
  {
   "cell_type": "code",
   "execution_count": 27,
   "metadata": {
    "collapsed": false
   },
   "outputs": [
    {
     "name": "stdout",
     "output_type": "stream",
     "text": [
      "Installed autotime.py. To use it, type:\n",
      "  %load_ext autotime\n",
      "The autotime extension is already loaded. To reload it, use:\n",
      "  %reload_ext autotime\n",
      "time: 778 ms\n"
     ]
    }
   ],
   "source": [
    "%install_ext https://raw.github.com/cpcloud/ipython-autotime/master/autotime.py\n",
    "%load_ext autotime"
   ]
  },
  {
   "cell_type": "code",
   "execution_count": 28,
   "metadata": {
    "collapsed": false
   },
   "outputs": [
    {
     "name": "stdout",
     "output_type": "stream",
     "text": [
      "time: 1.12 ms\n"
     ]
    },
    {
     "name": "stderr",
     "output_type": "stream",
     "text": [
      "[autoreload of autotime failed: Traceback (most recent call last):\n",
      "  File \"/home/jshoun01/.virtualenvs/py27/local/lib/python2.7/site-packages/IPython/extensions/autoreload.py\", line 247, in check\n",
      "    superreload(m, reload, self.old_objects)\n",
      "ImportError: No module named autotime\n",
      "]\n"
     ]
    }
   ],
   "source": [
    "import logging\n",
    "logging.basicConfig(format='%(asctime)s : %(levelname)s : %(message)s', level=logging.INFO)"
   ]
  },
  {
   "cell_type": "code",
   "execution_count": 29,
   "metadata": {
    "collapsed": false,
    "scrolled": true
   },
   "outputs": [
    {
     "name": "stdout",
     "output_type": "stream",
     "text": [
      "\u001b[0m\u001b[01;36mdata\u001b[0m@\n",
      "time: 860 ms\n"
     ]
    }
   ],
   "source": [
    "ls data"
   ]
  },
  {
   "cell_type": "code",
   "execution_count": 30,
   "metadata": {
    "collapsed": false
   },
   "outputs": [
    {
     "name": "stdout",
     "output_type": "stream",
     "text": [
      "time: 186 ms\n"
     ]
    }
   ],
   "source": [
    "data_dir='data'"
   ]
  },
  {
   "cell_type": "code",
   "execution_count": 31,
   "metadata": {
    "collapsed": false
   },
   "outputs": [
    {
     "name": "stdout",
     "output_type": "stream",
     "text": [
      "time: 52.8 s\n"
     ]
    }
   ],
   "source": [
    "\n",
    "posts_df = helper.get_xml_file_as_df(os.path.join(data_dir,'Posts.xml'),max_num_children=5000)\n",
    "\n",
    "#posts_df = helper.get_xml_file_as_df(os.path.join(data_dir,'Posts.xml'))"
   ]
  },
  {
   "cell_type": "code",
   "execution_count": 32,
   "metadata": {
    "collapsed": false
   },
   "outputs": [
    {
     "data": {
      "text/plain": [
       "Index([u'AcceptedAnswerId', u'AnswerCount', u'Body', u'ClosedDate',\n",
       "       u'CommentCount', u'CommunityOwnedDate', u'CreationDate',\n",
       "       u'FavoriteCount', u'Id', u'LastActivityDate', u'LastEditDate',\n",
       "       u'LastEditorDisplayName', u'LastEditorUserId', u'OwnerDisplayName',\n",
       "       u'OwnerUserId', u'ParentId', u'PostTypeId', u'Score', u'Tags', u'Title',\n",
       "       u'ViewCount'],\n",
       "      dtype='object')"
      ]
     },
     "execution_count": 32,
     "metadata": {},
     "output_type": "execute_result"
    },
    {
     "name": "stdout",
     "output_type": "stream",
     "text": [
      "time: 2.42 ms\n"
     ]
    }
   ],
   "source": [
    "posts_df.columns"
   ]
  },
  {
   "cell_type": "code",
   "execution_count": 33,
   "metadata": {
    "collapsed": false
   },
   "outputs": [
    {
     "data": {
      "text/plain": [
       "u'<p>A Vista virtual machine I use only has a 10 GB virtual hard disk -- and I\\'m worried about it running out of space over time.</p>\\n\\n<p>I used <a href=\"http://www.jam-software.com/treesize_free/\">TreeSize</a> to check for the culprits..</p>\\n\\n<p><img src=\"http://i.stack.imgur.com/uGfhQ.png\" alt=\"enter image description here\"></p>\\n\\n<p>And the primary culprit is that <strong><code>/winsxs</code> or \"Windows Side-By-Side\" folder</strong>.</p>\\n\\n<p><img src=\"http://i.stack.imgur.com/DWYOo.png\" alt=\"enter image description here\"></p>\\n\\n<p>What is the Windows Side By Side folder? Well, that\\'s <a href=\"http://blogs.technet.com/askcore/archive/2008/09/17/what-is-the-winsxs-directory-in-windows-2008-and-windows-vista-and-why-is-it-so-large.aspx\">explained pretty well here</a>.</p>\\n\\n<blockquote>\\n  <p>All of the components in the operating system are found in the WinSxS folder \\u2013 in fact we call this location the component store.  Each component has a unique name that includes the version, language, and processor architecture that it was built for.  The WinSxS folder is the only location that the component is found on the system, all other instances of the files that you see on the system are \\u201cprojected\\u201d by hard linking from the component store.  Let me repeat that last point \\u2013 there is only one instance (or full data copy) of each version of each file in the OS, and that instance is located in the WinSxS folder.   So looked at from that perspective, the WinSxS folder is really the entirety of the whole OS, referred to as a \"flat\" in down-level operating systems.  This also accounts for why you will no longer be prompted for media when running operations such as System File Checker (SFC), or when installing additional features and roles.</p>\\n  \\n  <p>That explains why the folder starts off big, but not why it gets larger over time \\u2013 the answer to that question is servicing.   In previous versions of Windows the atomic unit of servicing was the file, in Windows Vista it\\u2019s the component.  When we update a particular binary we release a new version of the whole component, and that new version is stored alongside the original one in the component store.  The higher version of the component is projected onto the system, but the older version in the store isn\\u2019t touched.  The reason for that is the third part of why the component store gets so large.</p>\\n</blockquote>\\n\\n<p>Lots of other people <a href=\"http://blog.tiensivu.com/aaron/archives/1306-Demystifying-the-WinSxS-directory-in-Windows-XP,-Vista-and-Server-20032008.html\">complaining about the size of the /winsxs folder, too</a>:</p>\\n\\n<blockquote>\\n  <p>A coworker recently received his every two year work laptop refresh and was in the middle of loading his new laptop with Vista. For some reason, his hard drive C: was partitioned to only 25GB and the rest of the space reserved for a much larger drive D:.</p>\\n  \\n  <p>Anyway, after loading many Windows Updates, he was left with hardly any drive space left on C:, and for some reason, the WinSxS directory had ballooned to over 8GB.</p>\\n  \\n  <p>While I knew what the WinSxS (Windows Side-by-Side) directory was for, I wasn\\'t quite sure why that directory would explode in size so fast with normal operating system updates.</p>\\n</blockquote>\\n\\n<p>I don\\'t really care about having all these duplicate files for safety, but I <em>do</em> care about the VM exploding due to an out of disk space error. So.. <strong>can /winsxs be safely pared down in any way?</strong> <a href=\"http://blogs.msdn.com/jonwis/archive/2007/01/02/deleting-from-the-winsxs-directory.aspx\">It doesn\\'t seem that it can be</a>.. </p>\\n\\n<blockquote>\\n  <p><strong>Administrators should not, for any reason, take it upon themselves to clean out the /winsxs directory</strong> - doing so may prevent Windows Update and MSI from functioning properly afterwards.  Preventing accidental deletion from the directory is accomplished by putting a strong security descriptor on the directory that inherits to its children.</p>\\n</blockquote>\\n\\n<p>If this /winsxs folder gets any larger, I\\'m going to have to re-image this virtual machine.. which I <em>really</em> don\\'t want to do!</p>\\n'"
      ]
     },
     "execution_count": 33,
     "metadata": {},
     "output_type": "execute_result"
    },
    {
     "name": "stdout",
     "output_type": "stream",
     "text": [
      "time: 710 ms\n"
     ]
    }
   ],
   "source": [
    "posts_df.irow(0).Body"
   ]
  },
  {
   "cell_type": "code",
   "execution_count": 34,
   "metadata": {
    "collapsed": false,
    "scrolled": true
   },
   "outputs": [
    {
     "data": {
      "text/html": [
       "<div>\n",
       "<table border=\"1\" class=\"dataframe\">\n",
       "  <thead>\n",
       "    <tr style=\"text-align: right;\">\n",
       "      <th></th>\n",
       "      <th>AcceptedAnswerId</th>\n",
       "      <th>AnswerCount</th>\n",
       "      <th>Body</th>\n",
       "      <th>ClosedDate</th>\n",
       "      <th>CommentCount</th>\n",
       "      <th>CommunityOwnedDate</th>\n",
       "      <th>CreationDate</th>\n",
       "      <th>FavoriteCount</th>\n",
       "      <th>Id</th>\n",
       "      <th>LastActivityDate</th>\n",
       "      <th>...</th>\n",
       "      <th>LastEditorDisplayName</th>\n",
       "      <th>LastEditorUserId</th>\n",
       "      <th>OwnerDisplayName</th>\n",
       "      <th>OwnerUserId</th>\n",
       "      <th>ParentId</th>\n",
       "      <th>PostTypeId</th>\n",
       "      <th>Score</th>\n",
       "      <th>Tags</th>\n",
       "      <th>Title</th>\n",
       "      <th>ViewCount</th>\n",
       "    </tr>\n",
       "  </thead>\n",
       "  <tbody>\n",
       "    <tr>\n",
       "      <th>0</th>\n",
       "      <td>727273</td>\n",
       "      <td>10</td>\n",
       "      <td>&lt;p&gt;A Vista virtual machine I use only has a 10...</td>\n",
       "      <td>NaN</td>\n",
       "      <td>9</td>\n",
       "      <td>NaN</td>\n",
       "      <td>2009-07-15T06:27:46.723</td>\n",
       "      <td>69</td>\n",
       "      <td>1</td>\n",
       "      <td>2014-10-18T07:23:25.843</td>\n",
       "      <td>...</td>\n",
       "      <td>NaN</td>\n",
       "      <td>73637</td>\n",
       "      <td>NaN</td>\n",
       "      <td>1</td>\n",
       "      <td>NaN</td>\n",
       "      <td>1</td>\n",
       "      <td>132</td>\n",
       "      <td>&lt;windows&gt;&lt;disk-space&gt;&lt;winsxs&gt;</td>\n",
       "      <td>Why does the /winsxs folder grow so large, and...</td>\n",
       "      <td>70584</td>\n",
       "    </tr>\n",
       "    <tr>\n",
       "      <th>1</th>\n",
       "      <td>NaN</td>\n",
       "      <td>6</td>\n",
       "      <td>&lt;p&gt;I used to record important technical meetin...</td>\n",
       "      <td>NaN</td>\n",
       "      <td>0</td>\n",
       "      <td>NaN</td>\n",
       "      <td>2009-07-08T16:32:47.817</td>\n",
       "      <td>3</td>\n",
       "      <td>24</td>\n",
       "      <td>2012-08-08T21:06:48.087</td>\n",
       "      <td>...</td>\n",
       "      <td>NaN</td>\n",
       "      <td>36744</td>\n",
       "      <td>essamSALAH</td>\n",
       "      <td>NaN</td>\n",
       "      <td>NaN</td>\n",
       "      <td>1</td>\n",
       "      <td>5</td>\n",
       "      <td>&lt;audio&gt;&lt;audio-recording&gt;&lt;camtasia&gt;</td>\n",
       "      <td>How can I remove noise from an audio recording?</td>\n",
       "      <td>3654</td>\n",
       "    </tr>\n",
       "    <tr>\n",
       "      <th>2</th>\n",
       "      <td>NaN</td>\n",
       "      <td>NaN</td>\n",
       "      <td>&lt;p&gt;You could use a filter on the recording. If...</td>\n",
       "      <td>NaN</td>\n",
       "      <td>0</td>\n",
       "      <td>NaN</td>\n",
       "      <td>2009-07-08T16:34:52.867</td>\n",
       "      <td>NaN</td>\n",
       "      <td>25</td>\n",
       "      <td>2009-07-15T06:48:44.300</td>\n",
       "      <td>...</td>\n",
       "      <td>NaN</td>\n",
       "      <td>NaN</td>\n",
       "      <td>Burkhard</td>\n",
       "      <td>9637</td>\n",
       "      <td>24</td>\n",
       "      <td>2</td>\n",
       "      <td>0</td>\n",
       "      <td>NaN</td>\n",
       "      <td>NaN</td>\n",
       "      <td>NaN</td>\n",
       "    </tr>\n",
       "    <tr>\n",
       "      <th>3</th>\n",
       "      <td>NaN</td>\n",
       "      <td>NaN</td>\n",
       "      <td>&lt;p&gt;try out something like:&lt;/p&gt;\\n\\n&lt;p&gt;audible (...</td>\n",
       "      <td>NaN</td>\n",
       "      <td>0</td>\n",
       "      <td>NaN</td>\n",
       "      <td>2009-07-08T16:59:00.587</td>\n",
       "      <td>NaN</td>\n",
       "      <td>26</td>\n",
       "      <td>2009-07-15T06:48:44.300</td>\n",
       "      <td>...</td>\n",
       "      <td>NaN</td>\n",
       "      <td>NaN</td>\n",
       "      <td>Jas Panesar</td>\n",
       "      <td>23242</td>\n",
       "      <td>24</td>\n",
       "      <td>2</td>\n",
       "      <td>0</td>\n",
       "      <td>NaN</td>\n",
       "      <td>NaN</td>\n",
       "      <td>NaN</td>\n",
       "    </tr>\n",
       "    <tr>\n",
       "      <th>4</th>\n",
       "      <td>NaN</td>\n",
       "      <td>NaN</td>\n",
       "      <td>&lt;p&gt;You definitely need some sort of software t...</td>\n",
       "      <td>NaN</td>\n",
       "      <td>1</td>\n",
       "      <td>NaN</td>\n",
       "      <td>2009-07-08T17:15:59.477</td>\n",
       "      <td>NaN</td>\n",
       "      <td>27</td>\n",
       "      <td>2009-07-15T06:48:44.300</td>\n",
       "      <td>...</td>\n",
       "      <td>NaN</td>\n",
       "      <td>NaN</td>\n",
       "      <td>T Pops</td>\n",
       "      <td>45675</td>\n",
       "      <td>24</td>\n",
       "      <td>2</td>\n",
       "      <td>0</td>\n",
       "      <td>NaN</td>\n",
       "      <td>NaN</td>\n",
       "      <td>NaN</td>\n",
       "    </tr>\n",
       "  </tbody>\n",
       "</table>\n",
       "<p>5 rows × 21 columns</p>\n",
       "</div>"
      ],
      "text/plain": [
       "  AcceptedAnswerId AnswerCount  \\\n",
       "0           727273          10   \n",
       "1              NaN           6   \n",
       "2              NaN         NaN   \n",
       "3              NaN         NaN   \n",
       "4              NaN         NaN   \n",
       "\n",
       "                                                Body ClosedDate CommentCount  \\\n",
       "0  <p>A Vista virtual machine I use only has a 10...        NaN            9   \n",
       "1  <p>I used to record important technical meetin...        NaN            0   \n",
       "2  <p>You could use a filter on the recording. If...        NaN            0   \n",
       "3  <p>try out something like:</p>\\n\\n<p>audible (...        NaN            0   \n",
       "4  <p>You definitely need some sort of software t...        NaN            1   \n",
       "\n",
       "  CommunityOwnedDate             CreationDate FavoriteCount  Id  \\\n",
       "0                NaN  2009-07-15T06:27:46.723            69   1   \n",
       "1                NaN  2009-07-08T16:32:47.817             3  24   \n",
       "2                NaN  2009-07-08T16:34:52.867           NaN  25   \n",
       "3                NaN  2009-07-08T16:59:00.587           NaN  26   \n",
       "4                NaN  2009-07-08T17:15:59.477           NaN  27   \n",
       "\n",
       "          LastActivityDate    ...    LastEditorDisplayName LastEditorUserId  \\\n",
       "0  2014-10-18T07:23:25.843    ...                      NaN            73637   \n",
       "1  2012-08-08T21:06:48.087    ...                      NaN            36744   \n",
       "2  2009-07-15T06:48:44.300    ...                      NaN              NaN   \n",
       "3  2009-07-15T06:48:44.300    ...                      NaN              NaN   \n",
       "4  2009-07-15T06:48:44.300    ...                      NaN              NaN   \n",
       "\n",
       "  OwnerDisplayName OwnerUserId ParentId PostTypeId Score  \\\n",
       "0              NaN           1      NaN          1   132   \n",
       "1       essamSALAH         NaN      NaN          1     5   \n",
       "2         Burkhard        9637       24          2     0   \n",
       "3      Jas Panesar       23242       24          2     0   \n",
       "4           T Pops       45675       24          2     0   \n",
       "\n",
       "                                 Tags  \\\n",
       "0       <windows><disk-space><winsxs>   \n",
       "1  <audio><audio-recording><camtasia>   \n",
       "2                                 NaN   \n",
       "3                                 NaN   \n",
       "4                                 NaN   \n",
       "\n",
       "                                               Title ViewCount  \n",
       "0  Why does the /winsxs folder grow so large, and...     70584  \n",
       "1    How can I remove noise from an audio recording?      3654  \n",
       "2                                                NaN       NaN  \n",
       "3                                                NaN       NaN  \n",
       "4                                                NaN       NaN  \n",
       "\n",
       "[5 rows x 21 columns]"
      ]
     },
     "execution_count": 34,
     "metadata": {},
     "output_type": "execute_result"
    },
    {
     "name": "stdout",
     "output_type": "stream",
     "text": [
      "time: 571 ms\n"
     ]
    }
   ],
   "source": [
    "posts_df.head()"
   ]
  },
  {
   "cell_type": "markdown",
   "metadata": {},
   "source": [
    "Only interested in questions"
   ]
  },
  {
   "cell_type": "code",
   "execution_count": 35,
   "metadata": {
    "collapsed": false
   },
   "outputs": [
    {
     "name": "stdout",
     "output_type": "stream",
     "text": [
      "There are 5001 posts\n",
      "There are 1293 question posts\n",
      "time: 257 ms\n"
     ]
    }
   ],
   "source": [
    "print(\"There are %s posts\"%(len(posts_df)))\n",
    "posts_df=posts_df[posts_df.PostTypeId==\"1\"]\n",
    "print(\"There are %s question posts\"%(len(posts_df)))"
   ]
  },
  {
   "cell_type": "markdown",
   "metadata": {},
   "source": [
    "## Process Text"
   ]
  },
  {
   "cell_type": "code",
   "execution_count": 36,
   "metadata": {
    "collapsed": false
   },
   "outputs": [
    {
     "name": "stdout",
     "output_type": "stream",
     "text": [
      "time: 336 ms\n"
     ]
    }
   ],
   "source": [
    "valid_pos= [\"FW\",\"NN\",\"NNS\",\"NNP\",\"NNPS\",\"VB\",\"VBZ\",\"VBP\",\"VBD\",\"VBN\",\"VBG\"]\n",
    "\n",
    "vali_pos_set=set(valid_pos)"
   ]
  },
  {
   "cell_type": "code",
   "execution_count": 48,
   "metadata": {
    "collapsed": false
   },
   "outputs": [
    {
     "name": "stdout",
     "output_type": "stream",
     "text": [
      "time: 3.21 s\n"
     ]
    }
   ],
   "source": [
    "#pos tagging\n",
    "posts_df['BodyCleaned']=posts_df['Body'].apply(lambda x : helper.filter_parts_of_speech(x,vali_pos_set))\n",
    "\n",
    "# strip html tags\n",
    "posts_df['BodyCleaned']=posts_df['BodyCleaned'].apply(lambda x : helper.strip_tags(x))\n",
    "# tokenize text\n",
    "posts_df['BodyCleaned']=posts_df['BodyCleaned'].apply(lambda x : helper.tokenize_and_stem(x,None))\n",
    "\n",
    "# remove stop words\n",
    "posts_df['BodyCleaned']=posts_df['BodyCleaned'].apply(lambda x : helper.remove_stopwords(x))\n",
    "\n"
   ]
  },
  {
   "cell_type": "code",
   "execution_count": 49,
   "metadata": {
    "collapsed": false
   },
   "outputs": [
    {
     "data": {
      "text/html": [
       "<div>\n",
       "<table border=\"1\" class=\"dataframe\">\n",
       "  <thead>\n",
       "    <tr style=\"text-align: right;\">\n",
       "      <th></th>\n",
       "      <th>AcceptedAnswerId</th>\n",
       "      <th>AnswerCount</th>\n",
       "      <th>Body</th>\n",
       "      <th>ClosedDate</th>\n",
       "      <th>CommentCount</th>\n",
       "      <th>CommunityOwnedDate</th>\n",
       "      <th>CreationDate</th>\n",
       "      <th>FavoriteCount</th>\n",
       "      <th>Id</th>\n",
       "      <th>LastActivityDate</th>\n",
       "      <th>...</th>\n",
       "      <th>LastEditorUserId</th>\n",
       "      <th>OwnerDisplayName</th>\n",
       "      <th>OwnerUserId</th>\n",
       "      <th>ParentId</th>\n",
       "      <th>PostTypeId</th>\n",
       "      <th>Score</th>\n",
       "      <th>Tags</th>\n",
       "      <th>Title</th>\n",
       "      <th>ViewCount</th>\n",
       "      <th>BodyCleaned</th>\n",
       "    </tr>\n",
       "  </thead>\n",
       "  <tbody>\n",
       "    <tr>\n",
       "      <th>0</th>\n",
       "      <td>727273</td>\n",
       "      <td>10</td>\n",
       "      <td>&lt;p&gt;A Vista virtual machine I use only has a 10...</td>\n",
       "      <td>NaN</td>\n",
       "      <td>9</td>\n",
       "      <td>NaN</td>\n",
       "      <td>2009-07-15T06:27:46.723</td>\n",
       "      <td>69</td>\n",
       "      <td>1</td>\n",
       "      <td>2014-10-18T07:23:25.843</td>\n",
       "      <td>...</td>\n",
       "      <td>73637</td>\n",
       "      <td>NaN</td>\n",
       "      <td>1</td>\n",
       "      <td>NaN</td>\n",
       "      <td>1</td>\n",
       "      <td>132</td>\n",
       "      <td>&lt;windows&gt;&lt;disk-space&gt;&lt;winsxs&gt;</td>\n",
       "      <td>Why does the /winsxs folder grow so large, and...</td>\n",
       "      <td>70584</td>\n",
       "      <td>[A, Vista, machine, use, GB, disk, m, worried,...</td>\n",
       "    </tr>\n",
       "    <tr>\n",
       "      <th>1</th>\n",
       "      <td>NaN</td>\n",
       "      <td>6</td>\n",
       "      <td>&lt;p&gt;I used to record important technical meetin...</td>\n",
       "      <td>NaN</td>\n",
       "      <td>0</td>\n",
       "      <td>NaN</td>\n",
       "      <td>2009-07-08T16:32:47.817</td>\n",
       "      <td>3</td>\n",
       "      <td>24</td>\n",
       "      <td>2012-08-08T21:06:48.087</td>\n",
       "      <td>...</td>\n",
       "      <td>36744</td>\n",
       "      <td>essamSALAH</td>\n",
       "      <td>NaN</td>\n",
       "      <td>NaN</td>\n",
       "      <td>1</td>\n",
       "      <td>5</td>\n",
       "      <td>&lt;audio&gt;&lt;audio-recording&gt;&lt;camtasia&gt;</td>\n",
       "      <td>How can I remove noise from an audio recording?</td>\n",
       "      <td>3654</td>\n",
       "      <td>[I, used, record, meetings, demos, using, Camt...</td>\n",
       "    </tr>\n",
       "    <tr>\n",
       "      <th>5</th>\n",
       "      <td>42</td>\n",
       "      <td>9</td>\n",
       "      <td>&lt;p&gt;What is the difference between the two supe...</td>\n",
       "      <td>NaN</td>\n",
       "      <td>0</td>\n",
       "      <td>NaN</td>\n",
       "      <td>2009-07-15T07:11:46.370</td>\n",
       "      <td>1</td>\n",
       "      <td>29</td>\n",
       "      <td>2011-11-25T19:11:50.960</td>\n",
       "      <td>...</td>\n",
       "      <td>48078</td>\n",
       "      <td>NaN</td>\n",
       "      <td>13</td>\n",
       "      <td>NaN</td>\n",
       "      <td>1</td>\n",
       "      <td>17</td>\n",
       "      <td>&lt;linux&gt;&lt;unix&gt;&lt;sudo&gt;</td>\n",
       "      <td>What's the difference between the commands \"su...</td>\n",
       "      <td>14700</td>\n",
       "      <td>[What, difference, user, commands, su, sudo, T...</td>\n",
       "    </tr>\n",
       "    <tr>\n",
       "      <th>7</th>\n",
       "      <td>3841</td>\n",
       "      <td>3</td>\n",
       "      <td>&lt;p&gt;My late 2008, Macbook Pro Unibody machine h...</td>\n",
       "      <td>NaN</td>\n",
       "      <td>2</td>\n",
       "      <td>NaN</td>\n",
       "      <td>2009-07-15T07:17:13.970</td>\n",
       "      <td>1</td>\n",
       "      <td>37</td>\n",
       "      <td>2009-07-15T21:15:21.323</td>\n",
       "      <td>...</td>\n",
       "      <td>NaN</td>\n",
       "      <td>NaN</td>\n",
       "      <td>26</td>\n",
       "      <td>NaN</td>\n",
       "      <td>1</td>\n",
       "      <td>4</td>\n",
       "      <td>&lt;mac&gt;&lt;crash&gt;&lt;boot-camp&gt;</td>\n",
       "      <td>Why does the Macbook Pro Unibody crash on hibe...</td>\n",
       "      <td>1169</td>\n",
       "      <td>[My, Macbook, Pro, Unibody, machine, number, f...</td>\n",
       "    </tr>\n",
       "    <tr>\n",
       "      <th>13</th>\n",
       "      <td>92</td>\n",
       "      <td>2</td>\n",
       "      <td>&lt;p&gt;Is there any way to configure application t...</td>\n",
       "      <td>NaN</td>\n",
       "      <td>0</td>\n",
       "      <td>NaN</td>\n",
       "      <td>2009-07-15T07:20:00.717</td>\n",
       "      <td>1</td>\n",
       "      <td>46</td>\n",
       "      <td>2014-07-26T13:37:09.967</td>\n",
       "      <td>...</td>\n",
       "      <td>81403</td>\n",
       "      <td>NaN</td>\n",
       "      <td>21</td>\n",
       "      <td>NaN</td>\n",
       "      <td>1</td>\n",
       "      <td>9</td>\n",
       "      <td>&lt;windows-vista&gt;&lt;boot&gt;&lt;uac&gt;&lt;privileges&gt;&lt;elevation&gt;</td>\n",
       "      <td>Elevated Priviliges for Startup Applications i...</td>\n",
       "      <td>7997</td>\n",
       "      <td>[Is, way, configure, application, requires, ad...</td>\n",
       "    </tr>\n",
       "  </tbody>\n",
       "</table>\n",
       "<p>5 rows × 22 columns</p>\n",
       "</div>"
      ],
      "text/plain": [
       "   AcceptedAnswerId AnswerCount  \\\n",
       "0            727273          10   \n",
       "1               NaN           6   \n",
       "5                42           9   \n",
       "7              3841           3   \n",
       "13               92           2   \n",
       "\n",
       "                                                 Body ClosedDate CommentCount  \\\n",
       "0   <p>A Vista virtual machine I use only has a 10...        NaN            9   \n",
       "1   <p>I used to record important technical meetin...        NaN            0   \n",
       "5   <p>What is the difference between the two supe...        NaN            0   \n",
       "7   <p>My late 2008, Macbook Pro Unibody machine h...        NaN            2   \n",
       "13  <p>Is there any way to configure application t...        NaN            0   \n",
       "\n",
       "   CommunityOwnedDate             CreationDate FavoriteCount  Id  \\\n",
       "0                 NaN  2009-07-15T06:27:46.723            69   1   \n",
       "1                 NaN  2009-07-08T16:32:47.817             3  24   \n",
       "5                 NaN  2009-07-15T07:11:46.370             1  29   \n",
       "7                 NaN  2009-07-15T07:17:13.970             1  37   \n",
       "13                NaN  2009-07-15T07:20:00.717             1  46   \n",
       "\n",
       "           LastActivityDate  \\\n",
       "0   2014-10-18T07:23:25.843   \n",
       "1   2012-08-08T21:06:48.087   \n",
       "5   2011-11-25T19:11:50.960   \n",
       "7   2009-07-15T21:15:21.323   \n",
       "13  2014-07-26T13:37:09.967   \n",
       "\n",
       "                          ...                         LastEditorUserId  \\\n",
       "0                         ...                                    73637   \n",
       "1                         ...                                    36744   \n",
       "5                         ...                                    48078   \n",
       "7                         ...                                      NaN   \n",
       "13                        ...                                    81403   \n",
       "\n",
       "   OwnerDisplayName OwnerUserId ParentId PostTypeId Score  \\\n",
       "0               NaN           1      NaN          1   132   \n",
       "1        essamSALAH         NaN      NaN          1     5   \n",
       "5               NaN          13      NaN          1    17   \n",
       "7               NaN          26      NaN          1     4   \n",
       "13              NaN          21      NaN          1     9   \n",
       "\n",
       "                                                 Tags  \\\n",
       "0                       <windows><disk-space><winsxs>   \n",
       "1                  <audio><audio-recording><camtasia>   \n",
       "5                                 <linux><unix><sudo>   \n",
       "7                             <mac><crash><boot-camp>   \n",
       "13  <windows-vista><boot><uac><privileges><elevation>   \n",
       "\n",
       "                                                Title ViewCount  \\\n",
       "0   Why does the /winsxs folder grow so large, and...     70584   \n",
       "1     How can I remove noise from an audio recording?      3654   \n",
       "5   What's the difference between the commands \"su...     14700   \n",
       "7   Why does the Macbook Pro Unibody crash on hibe...      1169   \n",
       "13  Elevated Priviliges for Startup Applications i...      7997   \n",
       "\n",
       "                                          BodyCleaned  \n",
       "0   [A, Vista, machine, use, GB, disk, m, worried,...  \n",
       "1   [I, used, record, meetings, demos, using, Camt...  \n",
       "5   [What, difference, user, commands, su, sudo, T...  \n",
       "7   [My, Macbook, Pro, Unibody, machine, number, f...  \n",
       "13  [Is, way, configure, application, requires, ad...  \n",
       "\n",
       "[5 rows x 22 columns]"
      ]
     },
     "execution_count": 49,
     "metadata": {},
     "output_type": "execute_result"
    },
    {
     "name": "stdout",
     "output_type": "stream",
     "text": [
      "time: 33.5 ms\n"
     ]
    }
   ],
   "source": [
    "posts_df.head()"
   ]
  },
  {
   "cell_type": "code",
   "execution_count": 50,
   "metadata": {
    "collapsed": false
   },
   "outputs": [
    {
     "data": {
      "text/plain": [
       "u'<p>A Vista virtual machine I use only has a 10 GB virtual hard disk -- and I\\'m worried about it running out of space over time.</p>\\n\\n<p>I used <a href=\"http://www.jam-software.com/treesize_free/\">TreeSize</a> to check for the culprits..</p>\\n\\n<p><img src=\"http://i.stack.imgur.com/uGfhQ.png\" alt=\"enter image description here\"></p>\\n\\n<p>And the primary culprit is that <strong><code>/winsxs</code> or \"Windows Side-By-Side\" folder</strong>.</p>\\n\\n<p><img src=\"http://i.stack.imgur.com/DWYOo.png\" alt=\"enter image description here\"></p>\\n\\n<p>What is the Windows Side By Side folder? Well, that\\'s <a href=\"http://blogs.technet.com/askcore/archive/2008/09/17/what-is-the-winsxs-directory-in-windows-2008-and-windows-vista-and-why-is-it-so-large.aspx\">explained pretty well here</a>.</p>\\n\\n<blockquote>\\n  <p>All of the components in the operating system are found in the WinSxS folder \\u2013 in fact we call this location the component store.  Each component has a unique name that includes the version, language, and processor architecture that it was built for.  The WinSxS folder is the only location that the component is found on the system, all other instances of the files that you see on the system are \\u201cprojected\\u201d by hard linking from the component store.  Let me repeat that last point \\u2013 there is only one instance (or full data copy) of each version of each file in the OS, and that instance is located in the WinSxS folder.   So looked at from that perspective, the WinSxS folder is really the entirety of the whole OS, referred to as a \"flat\" in down-level operating systems.  This also accounts for why you will no longer be prompted for media when running operations such as System File Checker (SFC), or when installing additional features and roles.</p>\\n  \\n  <p>That explains why the folder starts off big, but not why it gets larger over time \\u2013 the answer to that question is servicing.   In previous versions of Windows the atomic unit of servicing was the file, in Windows Vista it\\u2019s the component.  When we update a particular binary we release a new version of the whole component, and that new version is stored alongside the original one in the component store.  The higher version of the component is projected onto the system, but the older version in the store isn\\u2019t touched.  The reason for that is the third part of why the component store gets so large.</p>\\n</blockquote>\\n\\n<p>Lots of other people <a href=\"http://blog.tiensivu.com/aaron/archives/1306-Demystifying-the-WinSxS-directory-in-Windows-XP,-Vista-and-Server-20032008.html\">complaining about the size of the /winsxs folder, too</a>:</p>\\n\\n<blockquote>\\n  <p>A coworker recently received his every two year work laptop refresh and was in the middle of loading his new laptop with Vista. For some reason, his hard drive C: was partitioned to only 25GB and the rest of the space reserved for a much larger drive D:.</p>\\n  \\n  <p>Anyway, after loading many Windows Updates, he was left with hardly any drive space left on C:, and for some reason, the WinSxS directory had ballooned to over 8GB.</p>\\n  \\n  <p>While I knew what the WinSxS (Windows Side-by-Side) directory was for, I wasn\\'t quite sure why that directory would explode in size so fast with normal operating system updates.</p>\\n</blockquote>\\n\\n<p>I don\\'t really care about having all these duplicate files for safety, but I <em>do</em> care about the VM exploding due to an out of disk space error. So.. <strong>can /winsxs be safely pared down in any way?</strong> <a href=\"http://blogs.msdn.com/jonwis/archive/2007/01/02/deleting-from-the-winsxs-directory.aspx\">It doesn\\'t seem that it can be</a>.. </p>\\n\\n<blockquote>\\n  <p><strong>Administrators should not, for any reason, take it upon themselves to clean out the /winsxs directory</strong> - doing so may prevent Windows Update and MSI from functioning properly afterwards.  Preventing accidental deletion from the directory is accomplished by putting a strong security descriptor on the directory that inherits to its children.</p>\\n</blockquote>\\n\\n<p>If this /winsxs folder gets any larger, I\\'m going to have to re-image this virtual machine.. which I <em>really</em> don\\'t want to do!</p>\\n'"
      ]
     },
     "execution_count": 50,
     "metadata": {},
     "output_type": "execute_result"
    },
    {
     "name": "stdout",
     "output_type": "stream",
     "text": [
      "time: 575 ms\n"
     ]
    }
   ],
   "source": [
    "posts_df.irow(0)['Body']"
   ]
  },
  {
   "cell_type": "code",
   "execution_count": 51,
   "metadata": {
    "collapsed": false
   },
   "outputs": [
    {
     "data": {
      "text/plain": [
       "[u'A',\n",
       " u'Vista',\n",
       " u'machine',\n",
       " u'use',\n",
       " u'GB',\n",
       " u'disk',\n",
       " u'm',\n",
       " u'worried',\n",
       " u'running',\n",
       " u'space',\n",
       " u'time',\n",
       " u'I',\n",
       " u'used',\n",
       " u'TreeSize',\n",
       " u'check',\n",
       " u'culprits..',\n",
       " u'And',\n",
       " u'culprit',\n",
       " u'/winsxs',\n",
       " u'Windows',\n",
       " u'Side-By-Side',\n",
       " u'folder',\n",
       " u'What',\n",
       " u'Windows',\n",
       " u'Side',\n",
       " u'Side',\n",
       " u'folder',\n",
       " u'explained',\n",
       " u'All',\n",
       " u'components',\n",
       " u'operating',\n",
       " u'system',\n",
       " u'found',\n",
       " u'WinSxS',\n",
       " u'folder',\n",
       " u'fact',\n",
       " u'call',\n",
       " u'location',\n",
       " u'component',\n",
       " u'store',\n",
       " u'component',\n",
       " u'name',\n",
       " u'includes',\n",
       " u'version',\n",
       " u'language',\n",
       " u'processor',\n",
       " u'architecture',\n",
       " u'built',\n",
       " u'WinSxS',\n",
       " u'folder',\n",
       " u'location',\n",
       " u'component',\n",
       " u'found',\n",
       " u'system',\n",
       " u'instances',\n",
       " u'files',\n",
       " u'see',\n",
       " u'system',\n",
       " u'projected',\n",
       " u'linking',\n",
       " u'component',\n",
       " u'store',\n",
       " u'Let',\n",
       " u'repeat',\n",
       " u'point',\n",
       " u'instance',\n",
       " u'data',\n",
       " u'copy',\n",
       " u'version',\n",
       " u'file',\n",
       " u'OS',\n",
       " u'instance',\n",
       " u'located',\n",
       " u'WinSxS',\n",
       " u'folder',\n",
       " u'looked',\n",
       " u'perspective',\n",
       " u'WinSxS',\n",
       " u'folder',\n",
       " u'entirety',\n",
       " u'OS',\n",
       " u'referred',\n",
       " u'operating',\n",
       " u'systems',\n",
       " u'accounts',\n",
       " u'prompted',\n",
       " u'media',\n",
       " u'running',\n",
       " u'operations',\n",
       " u'System',\n",
       " u'File',\n",
       " u'Checker',\n",
       " u'SFC',\n",
       " u'installing',\n",
       " u'features',\n",
       " u'roles',\n",
       " u'That',\n",
       " u'explains',\n",
       " u'folder',\n",
       " u'starts',\n",
       " u'gets',\n",
       " u'time',\n",
       " u'answer',\n",
       " u'question',\n",
       " u'servicing',\n",
       " u'versions',\n",
       " u'Windows',\n",
       " u'unit',\n",
       " u'servicing',\n",
       " u'file',\n",
       " u'Windows',\n",
       " u'Vista',\n",
       " u'component',\n",
       " u'update',\n",
       " u'release',\n",
       " u'version',\n",
       " u'component',\n",
       " u'version',\n",
       " u'stored',\n",
       " u'component',\n",
       " u'store',\n",
       " u'version',\n",
       " u'component',\n",
       " u'projected',\n",
       " u'system',\n",
       " u'version',\n",
       " u'store',\n",
       " u'isn',\n",
       " u'touched',\n",
       " u'reason',\n",
       " u'part',\n",
       " u'component',\n",
       " u'store',\n",
       " u'gets',\n",
       " u'large',\n",
       " u'Lots',\n",
       " u'people',\n",
       " u'complaining',\n",
       " u'size',\n",
       " u'/winsxs',\n",
       " u'folder',\n",
       " u'A',\n",
       " u'coworker',\n",
       " u'received',\n",
       " u'year',\n",
       " u'work',\n",
       " u'laptop',\n",
       " u'refresh',\n",
       " u'middle',\n",
       " u'loading',\n",
       " u'laptop',\n",
       " u'Vista',\n",
       " u'reason',\n",
       " u'drive',\n",
       " u'C',\n",
       " u'partitioned',\n",
       " u'25GB',\n",
       " u'rest',\n",
       " u'space',\n",
       " u'reserved',\n",
       " u'drive',\n",
       " u'D',\n",
       " u'Anyway',\n",
       " u'loading',\n",
       " u'Windows',\n",
       " u'Updates',\n",
       " u'left',\n",
       " u'drive',\n",
       " u'space',\n",
       " u'left',\n",
       " u'C',\n",
       " u'reason',\n",
       " u'WinSxS',\n",
       " u'directory',\n",
       " u'ballooned',\n",
       " u'8GB',\n",
       " u'While',\n",
       " u'knew',\n",
       " u'WinSxS',\n",
       " u'Windows',\n",
       " u'directory',\n",
       " u'n',\n",
       " u'directory',\n",
       " u'explode',\n",
       " u'size',\n",
       " u'operating',\n",
       " u'system',\n",
       " u'updates',\n",
       " u'I',\n",
       " u'n',\n",
       " u'care',\n",
       " u'duplicate',\n",
       " u'files',\n",
       " u'safety',\n",
       " u'care',\n",
       " u'VM',\n",
       " u'exploding',\n",
       " u'disk',\n",
       " u'space',\n",
       " u'error',\n",
       " u'/winsxs',\n",
       " u'pared',\n",
       " u'way',\n",
       " u'It',\n",
       " u'n',\n",
       " u'seem',\n",
       " u'Administrators',\n",
       " u'reason',\n",
       " u'take',\n",
       " u'/winsxs',\n",
       " u'directory',\n",
       " u'prevent',\n",
       " u'Windows',\n",
       " u'Update',\n",
       " u'MSI',\n",
       " u'functioning',\n",
       " u'Preventing',\n",
       " u'deletion',\n",
       " u'directory',\n",
       " u'accomplished',\n",
       " u'putting',\n",
       " u'security',\n",
       " u'descriptor',\n",
       " u'directory',\n",
       " u'inherits',\n",
       " u'children',\n",
       " u'If',\n",
       " u'/winsxs',\n",
       " u'folder',\n",
       " u'gets',\n",
       " u'm',\n",
       " u'going',\n",
       " u'machine',\n",
       " u'really',\n",
       " u'n',\n",
       " u'want']"
      ]
     },
     "execution_count": 51,
     "metadata": {},
     "output_type": "execute_result"
    },
    {
     "name": "stdout",
     "output_type": "stream",
     "text": [
      "time: 558 ms\n"
     ]
    }
   ],
   "source": [
    "posts_df.irow(0)['BodyCleaned']"
   ]
  },
  {
   "cell_type": "code",
   "execution_count": 52,
   "metadata": {
    "collapsed": false
   },
   "outputs": [
    {
     "data": {
      "text/plain": [
       "1293"
      ]
     },
     "execution_count": 52,
     "metadata": {},
     "output_type": "execute_result"
    },
    {
     "name": "stdout",
     "output_type": "stream",
     "text": [
      "time: 567 ms\n"
     ]
    }
   ],
   "source": [
    "len(posts_df)"
   ]
  },
  {
   "cell_type": "code",
   "execution_count": 53,
   "metadata": {
    "collapsed": false
   },
   "outputs": [
    {
     "name": "stdout",
     "output_type": "stream",
     "text": [
      "time: 628 ms\n"
     ]
    }
   ],
   "source": [
    "texts = posts_df['BodyCleaned']"
   ]
  },
  {
   "cell_type": "code",
   "execution_count": 54,
   "metadata": {
    "collapsed": false
   },
   "outputs": [
    {
     "name": "stdout",
     "output_type": "stream",
     "text": [
      "time: 478 ms\n"
     ]
    }
   ],
   "source": [
    "#create a Gensim dictionary from the texts\n",
    "dictionary = gensim.corpora.Dictionary(texts)\n",
    "\n",
    "#remove extremes (similar to the min/max df step used when creating the tf-idf matrix)\n",
    "dictionary.filter_extremes(no_below=1, no_above=0.8)\n",
    "\n",
    "#convert the dictionary to a bag of words corpus for reference\n",
    "corpus = [dictionary.doc2bow(text) for text in texts]"
   ]
  },
  {
   "cell_type": "code",
   "execution_count": 55,
   "metadata": {
    "collapsed": false
   },
   "outputs": [
    {
     "data": {
      "text/plain": [
       "[(51, 1),\n",
       " (72, 1),\n",
       " (78, 1),\n",
       " (122, 1),\n",
       " (128, 2),\n",
       " (135, 2),\n",
       " (299, 1),\n",
       " (304, 1),\n",
       " (318, 1),\n",
       " (443, 1)]"
      ]
     },
     "execution_count": 55,
     "metadata": {},
     "output_type": "execute_result"
    },
    {
     "name": "stdout",
     "output_type": "stream",
     "text": [
      "time: 423 ms\n"
     ]
    }
   ],
   "source": [
    "corpus[0][:10]"
   ]
  },
  {
   "cell_type": "code",
   "execution_count": 56,
   "metadata": {
    "collapsed": false
   },
   "outputs": [
    {
     "name": "stdout",
     "output_type": "stream",
     "text": [
      "time: 40.1 s\n"
     ]
    }
   ],
   "source": [
    "#gensim.models.LdaMulticore\n",
    "lda = gensim.models.LdaMulticore(corpus, num_topics=10, passes=10,\n",
    "                            id2word=dictionary)"
   ]
  },
  {
   "cell_type": "code",
   "execution_count": 57,
   "metadata": {
    "collapsed": false
   },
   "outputs": [
    {
     "data": {
      "text/plain": [
       "[u'0.025*I + 0.018*drive + 0.018*n + 0.017*m + 0.013*use + 0.008*want + 0.008*Windows + 0.008*Is + 0.008*computer + 0.007*ve + 0.007*something + 0.006*file + 0.006*get + 0.006*looking + 0.005*way + 0.005*using + 0.004*window + 0.004*time + 0.004*d + 0.004*know',\n",
       " u'0.021*r + 0.021*None + 0.016*I + 0.012*Windows + 0.010*y + 0.010*dc + 0.010*tc + 0.008*n + 0.007*Is + 0.006*ve + 0.005*work + 0.005*computer + 0.005*m + 0.005*using + 0.004*know + 0.004*get + 0.004*OS + 0.004*Firefox + 0.004*use + 0.004*version',\n",
       " u'0.020*I + 0.013*use + 0.008*m + 0.008*Windows + 0.007*monitor + 0.007*n + 0.006*ve + 0.006*work + 0.005*How + 0.005*using + 0.005*get + 0.005*laptop + 0.005*d + 0.005*XP + 0.005*know + 0.004*anyone + 0.004*time + 0.004*keyboard + 0.004*OS + 0.004*windows',\n",
       " u'0.019*I + 0.011*n + 0.011*get + 0.008*m + 0.007*iTunes + 0.006*ve + 0.006*way + 0.006*power + 0.005*work + 0.005*Is + 0.005*iPhone + 0.004*problem + 0.004*time + 0.004*keyboard + 0.004*using + 0.004*got + 0.004*What + 0.004*find + 0.004*know + 0.004*system',\n",
       " u'0.019*I + 0.015*n + 0.011*Windows + 0.009*video + 0.009*Vista + 0.009*ve + 0.008*card + 0.007*laptop + 0.007*m + 0.006*work + 0.006*running + 0.006*monitor + 0.005*The + 0.005*problem + 0.005*computer + 0.005*files + 0.005*using + 0.005*Is + 0.005*XP + 0.004*way',\n",
       " u'0.020*I + 0.017*Windows + 0.010*n + 0.010*network + 0.008*PM + 0.007*m + 0.007*Vista + 0.006*XP + 0.006*computer + 0.006*Is + 0.006*using + 0.006*use + 0.005*rwxp + 0.005*system + 0.005*ve + 0.005*want + 0.005*time + 0.005*running + 0.005*Ubuntu + 0.005*way',\n",
       " u'0.013*Flash + 0.010*I + 0.005*cookies + 0.005*PCI + 0.005*folders + 0.005*know + 0.005*want + 0.004*Is + 0.004*n + 0.004*SharedObjects + 0.004*modem + 0.004*way + 0.004*sites + 0.004*USB + 0.004*m + 0.004*drive + 0.004*MacBook + 0.004*mode + 0.004*data + 0.003*device',\n",
       " u'0.022*I + 0.017*Windows + 0.014*n + 0.010*use + 0.009*using + 0.009*files + 0.008*m + 0.008*get + 0.007*Is + 0.007*way + 0.006*ve + 0.006*file + 0.005*computer + 0.005*What + 0.005*folder + 0.005*time + 0.005*know + 0.004*something + 0.004*need + 0.004*problem',\n",
       " u'0.025*I + 0.012*Is + 0.010*way + 0.009*use + 0.008*Windows + 0.007*m + 0.007*tab + 0.006*Google + 0.006*n + 0.005*file + 0.005*run + 0.005*sync + 0.005*get + 0.005*How + 0.004*What + 0.004*ve + 0.004*phone + 0.004*Mac + 0.004*install + 0.004*find',\n",
       " u'0.012*Windows + 0.012*n + 0.011*I + 0.010*get + 0.007*cable + 0.005*Outlook + 0.005*work + 0.005*know + 0.005*email + 0.005*problem + 0.005*What + 0.004*way + 0.004*search + 0.004*use + 0.004*need + 0.004*How + 0.004*Is + 0.004*using + 0.003*reference + 0.003*password']"
      ]
     },
     "execution_count": 57,
     "metadata": {},
     "output_type": "execute_result"
    },
    {
     "name": "stdout",
     "output_type": "stream",
     "text": [
      "time: 5.12 ms\n"
     ]
    }
   ],
   "source": [
    "lda.show_topics(num_words=20)\n"
   ]
  },
  {
   "cell_type": "code",
   "execution_count": 58,
   "metadata": {
    "collapsed": false
   },
   "outputs": [
    {
     "name": "stdout",
     "output_type": "stream",
     "text": [
      "['I', 'drive', 'n', 'm', 'use', 'want', 'Windows', 'Is', 'computer', 've', 'something', 'file', 'get', 'looking', 'way', 'using', 'window', 'time', 'd', 'know']\n",
      "()\n",
      "['r', 'None', 'I', 'Windows', 'y', 'dc', 'tc', 'n', 'Is', 've', 'work', 'computer', 'm', 'using', 'know', 'get', 'OS', 'Firefox', 'use', 'version']\n",
      "()\n",
      "['I', 'use', 'm', 'Windows', 'monitor', 'n', 've', 'work', 'How', 'using', 'get', 'laptop', 'd', 'XP', 'know', 'anyone', 'time', 'keyboard', 'OS', 'windows']\n",
      "()\n",
      "['I', 'n', 'get', 'm', 'iTunes', 've', 'way', 'power', 'work', 'Is', 'iPhone', 'problem', 'time', 'keyboard', 'using', 'got', 'What', 'find', 'know', 'system']\n",
      "()\n",
      "['I', 'n', 'Windows', 'video', 'Vista', 've', 'card', 'laptop', 'm', 'work', 'running', 'monitor', 'The', 'problem', 'computer', 'files', 'using', 'Is', 'XP', 'way']\n",
      "()\n",
      "['I', 'Windows', 'n', 'network', 'PM', 'm', 'Vista', 'XP', 'computer', 'Is', 'using', 'use', 'rwxp', 'system', 've', 'want', 'time', 'running', 'Ubuntu', 'way']\n",
      "()\n",
      "['Flash', 'I', 'cookies', 'PCI', 'folders', 'know', 'want', 'Is', 'n', 'SharedObjects', 'modem', 'way', 'sites', 'USB', 'm', 'drive', 'MacBook', 'mode', 'data', 'device']\n",
      "()\n",
      "['I', 'Windows', 'n', 'use', 'using', 'files', 'm', 'get', 'Is', 'way', 've', 'file', 'computer', 'What', 'folder', 'time', 'know', 'something', 'need', 'problem']\n",
      "()\n",
      "['I', 'Is', 'way', 'use', 'Windows', 'm', 'tab', 'Google', 'n', 'file', 'run', 'sync', 'get', 'How', 'What', 've', 'phone', 'Mac', 'install', 'find']\n",
      "()\n",
      "['Windows', 'n', 'I', 'get', 'cable', 'Outlook', 'work', 'know', 'email', 'problem', 'What', 'way', 'search', 'use', 'need', 'How', 'Is', 'using', 'reference', 'password']\n",
      "()\n",
      "time: 416 ms\n"
     ]
    }
   ],
   "source": [
    "topics_matrix = lda.show_topics(formatted=False, num_words=20)\n",
    "topics_matrix = np.array(topics_matrix)\n",
    "\n",
    "topic_words = topics_matrix[:,:,1]\n",
    "for i in topic_words:\n",
    "    print([str(word) for word in i])\n",
    "    print()"
   ]
  },
  {
   "cell_type": "code",
   "execution_count": null,
   "metadata": {
    "collapsed": true
   },
   "outputs": [],
   "source": []
  },
  {
   "cell_type": "code",
   "execution_count": null,
   "metadata": {
    "collapsed": true
   },
   "outputs": [],
   "source": []
  },
  {
   "cell_type": "code",
   "execution_count": null,
   "metadata": {
    "collapsed": true
   },
   "outputs": [],
   "source": []
  }
 ],
 "metadata": {
  "kernelspec": {
   "display_name": "Python 2",
   "language": "python",
   "name": "python2"
  },
  "language_info": {
   "codemirror_mode": {
    "name": "ipython",
    "version": 2
   },
   "file_extension": ".py",
   "mimetype": "text/x-python",
   "name": "python",
   "nbconvert_exporter": "python",
   "pygments_lexer": "ipython2",
   "version": "2.7.6"
  }
 },
 "nbformat": 4,
 "nbformat_minor": 0
}
