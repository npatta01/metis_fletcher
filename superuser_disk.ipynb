{
 "cells": [
  {
   "cell_type": "code",
   "execution_count": 39,
   "metadata": {
    "collapsed": false
   },
   "outputs": [
    {
     "name": "stdout",
     "output_type": "stream",
     "text": [
      "time: 2.97 ms\n"
     ]
    }
   ],
   "source": [
    "import io\n",
    "import xml.etree.ElementTree as ET\n",
    "import pandas as pd\n",
    "import helper\n",
    "from sklearn.feature_extraction.text import CountVectorizer\n",
    "import gensim\n",
    "import numpy as np\n",
    "import os\n",
    "from gensim import corpora, models, similarities \n",
    "from gensim.corpora.mmcorpus import MmCorpus"
   ]
  },
  {
   "cell_type": "code",
   "execution_count": 40,
   "metadata": {
    "collapsed": false
   },
   "outputs": [
    {
     "name": "stdout",
     "output_type": "stream",
     "text": [
      "The autoreload extension is already loaded. To reload it, use:\n",
      "  %reload_ext autoreload\n",
      "time: 692 ms\n"
     ]
    }
   ],
   "source": [
    "%load_ext autoreload\n",
    "%autoreload 2"
   ]
  },
  {
   "cell_type": "code",
   "execution_count": 41,
   "metadata": {
    "collapsed": false
   },
   "outputs": [
    {
     "name": "stdout",
     "output_type": "stream",
     "text": [
      "Installed autotime.py. To use it, type:\n",
      "  %load_ext autotime\n",
      "The autotime extension is already loaded. To reload it, use:\n",
      "  %reload_ext autotime\n",
      "time: 783 ms\n"
     ]
    }
   ],
   "source": [
    "%install_ext https://raw.github.com/cpcloud/ipython-autotime/master/autotime.py\n",
    "%load_ext autotime"
   ]
  },
  {
   "cell_type": "code",
   "execution_count": 42,
   "metadata": {
    "collapsed": false
   },
   "outputs": [
    {
     "name": "stdout",
     "output_type": "stream",
     "text": [
      "time: 393 ms\n"
     ]
    },
    {
     "name": "stderr",
     "output_type": "stream",
     "text": [
      "[autoreload of autotime failed: Traceback (most recent call last):\n",
      "  File \"/home/jshoun01/.virtualenvs/py27/local/lib/python2.7/site-packages/IPython/extensions/autoreload.py\", line 247, in check\n",
      "    superreload(m, reload, self.old_objects)\n",
      "ImportError: No module named autotime\n",
      "]\n"
     ]
    }
   ],
   "source": [
    "#%unload_ext autotime"
   ]
  },
  {
   "cell_type": "code",
   "execution_count": 43,
   "metadata": {
    "collapsed": false
   },
   "outputs": [
    {
     "name": "stdout",
     "output_type": "stream",
     "text": [
      "time: 456 ms\n"
     ]
    }
   ],
   "source": [
    "import logging\n",
    "logging.basicConfig(format='%(asctime)s : %(levelname)s : %(message)s', level=logging.INFO)"
   ]
  },
  {
   "cell_type": "code",
   "execution_count": 44,
   "metadata": {
    "collapsed": false,
    "scrolled": true
   },
   "outputs": [
    {
     "name": "stdout",
     "output_type": "stream",
     "text": [
      "\u001b[0m\u001b[01;36mdata\u001b[0m@\n",
      "time: 722 ms\n"
     ]
    }
   ],
   "source": [
    "ls data"
   ]
  },
  {
   "cell_type": "code",
   "execution_count": 45,
   "metadata": {
    "collapsed": false
   },
   "outputs": [
    {
     "name": "stdout",
     "output_type": "stream",
     "text": [
      "time: 222 ms\n"
     ]
    }
   ],
   "source": [
    "data_dir='data'"
   ]
  },
  {
   "cell_type": "markdown",
   "metadata": {},
   "source": [
    "## Normalizer"
   ]
  },
  {
   "cell_type": "code",
   "execution_count": 46,
   "metadata": {
    "collapsed": false
   },
   "outputs": [
    {
     "name": "stdout",
     "output_type": "stream",
     "text": [
      "time: 426 ms\n"
     ]
    }
   ],
   "source": [
    "ag_preprocesser = helper.Normalizer(stem=False\\\n",
    "                                 ,stopword_removal=True\\\n",
    "                                 ,strip_html_tags=True\n",
    "                                   ,filter_parts_of_speech=True\n",
    "                                    ,min_word_length=1\n",
    "                                   )"
   ]
  },
  {
   "cell_type": "markdown",
   "metadata": {},
   "source": [
    "## Loading Streaming"
   ]
  },
  {
   "cell_type": "code",
   "execution_count": 47,
   "metadata": {
    "collapsed": false
   },
   "outputs": [
    {
     "name": "stdout",
     "output_type": "stream",
     "text": [
      "time: 4min 6s\n"
     ]
    }
   ],
   "source": [
    "post_file=os.path.join(data_dir,'Posts.xml')\n",
    "posts_corpus = helper.XmlCorpus(post_file\n",
    "                                ,clip_docs=100000\n",
    "                                #,clip_docs=1000\n",
    "                                ,body_field='Body'\n",
    "                                ,normalizer=ag_preprocesser)\n",
    "posts_corpus.finalize_dictionary()\n"
   ]
  },
  {
   "cell_type": "code",
   "execution_count": null,
   "metadata": {
    "collapsed": true
   },
   "outputs": [],
   "source": [
    "posts_corpus."
   ]
  },
  {
   "cell_type": "code",
   "execution_count": 29,
   "metadata": {
    "collapsed": false
   },
   "outputs": [
    {
     "data": {
      "text/plain": [
       "[u'Vista', u'virtual', u'machine', u'use', u'GB']"
      ]
     },
     "execution_count": 29,
     "metadata": {},
     "output_type": "execute_result"
    },
    {
     "name": "stdout",
     "output_type": "stream",
     "text": [
      "time: 17.9 ms\n"
     ]
    }
   ],
   "source": [
    "sample_msg='<p>A Vista virtual machine I use only has a 10 GB virtual hard disk -- and I\\'m worried about it running out of space over time.</p>\\n\\n<p>I used <a href=\"http://www.jam-software.com/treesize_free/\">TreeSize</a> to check for the culprits..</p>\\n\\n<p><img src=\"http://i.stack.imgur.com/uGfhQ.png\" alt=\"enter image description here\"></p>\\n\\n<p>And the primary culprit is that <strong><code>/winsxs</code> or \"Windows Side-By-Side\" folder</strong>.</p>\\n\\n<p><img src=\"http://i.stack.imgur.com/DWYOo.png\" alt=\"enter image description here\"></p>\\n\\n<p>What is the Windows Side By Side folder? Well, that\\'s <a href=\"http://blogs.technet.com/askcore/archive/2008/09/17/what-is-the-winsxs-directory-in-windows-2008-and-windows-vista-and-why-is-it-so-large.aspx\">explained pretty well here</a>.</p>\\n\\n<blockquote>\\n  <p>All of the components in the operating system are found in the WinSxS folder \\u2013 in fact we call this location the component store.  Each component has a unique name that includes the version, language, and processor architecture that it was built for.  The WinSxS folder is the only location that the component is found on the system, all other instances of the files that you see on the system are \\u201cprojected\\u201d by hard linking from the component store.  Let me repeat that last point \\u2013 there is only one instance (or full data copy) of each version of each file in the OS, and that instance is located in the WinSxS folder.   So looked at from that perspective, the WinSxS folder is really the entirety of the whole OS, referred to as a \"flat\" in down-level operating systems.  This also accounts for why you will no longer be prompted for media when running operations such as System File Checker (SFC), or when installing additional features and roles.</p>\\n  \\n  <p>That explains why the folder starts off big, but not why it gets larger over time \\u2013 the answer to that question is servicing.   In previous versions of Windows the atomic unit of servicing was the file, in Windows Vista it\\u2019s the component.  When we update a particular binary we release a new version of the whole component, and that new version is stored alongside the original one in the component store.  The higher version of the component is projected onto the system, but the older version in the store isn\\u2019t touched.  The reason for that is the third part of why the component store gets so large.</p>\\n</blockquote>\\n\\n<p>Lots of other people <a href=\"http://blog.tiensivu.com/aaron/archives/1306-Demystifying-the-WinSxS-directory-in-Windows-XP,-Vista-and-Server-20032008.html\">complaining about the size of the /winsxs folder, too</a>:</p>\\n\\n<blockquote>\\n  <p>A coworker recently received his every two year work laptop refresh and was in the middle of loading his new laptop with Vista. For some reason, his hard drive C: was partitioned to only 25GB and the rest of the space reserved for a much larger drive D:.</p>\\n  \\n  <p>Anyway, after loading many Windows Updates, he was left with hardly any drive space left on C:, and for some reason, the WinSxS directory had ballooned to over 8GB.</p>\\n  \\n  <p>While I knew what the WinSxS (Windows Side-by-Side) directory was for, I wasn\\'t quite sure why that directory would explode in size so fast with normal operating system updates.</p>\\n</blockquote>\\n\\n<p>I don\\'t really care about having all these duplicate files for safety, but I <em>do</em> care about the VM exploding due to an out of disk space error. So.. <strong>can /winsxs be safely pared down in any way?</strong> <a href=\"http://blogs.msdn.com/jonwis/archive/2007/01/02/deleting-from-the-winsxs-directory.aspx\">It doesn\\'t seem that it can be</a>.. </p>\\n\\n<blockquote>\\n  <p><strong>Administrators should not, for any reason, take it upon themselves to clean out the /winsxs directory</strong> - doing so may prevent Windows Update and MSI from functioning properly afterwards.  Preventing accidental deletion from the directory is accomplished by putting a strong security descriptor on the directory that inherits to its children.</p>\\n</blockquote>\\n\\n<p>If this /winsxs folder gets any larger, I\\'m going to have to re-image this virtual machine.. which I <em>really</em> don\\'t want to do!</p>\\n'\n",
    "\n",
    "ag_preprocesser.process(sample_msg)[0:5]"
   ]
  },
  {
   "cell_type": "code",
   "execution_count": 30,
   "metadata": {
    "collapsed": false
   },
   "outputs": [
    {
     "data": {
      "text/plain": [
       "'\\nnum_documents_processed=0\\ncounter=0\\nfor vector in posts_corpus: # load one vector into memory at a time\\n    print (\"Item %s\"%(counter))\\n    print(vector)\\n    print()\\n    counter=counter+1\\n'"
      ]
     },
     "execution_count": 30,
     "metadata": {},
     "output_type": "execute_result"
    },
    {
     "name": "stdout",
     "output_type": "stream",
     "text": [
      "time: 661 ms\n"
     ]
    }
   ],
   "source": [
    "\"\"\"\n",
    "num_documents_processed=0\n",
    "counter=0\n",
    "for vector in posts_corpus: # load one vector into memory at a time\n",
    "    print (\"Item %s\"%(counter))\n",
    "    print(vector)\n",
    "    print()\n",
    "    counter=counter+1\n",
    "\"\"\""
   ]
  },
  {
   "cell_type": "code",
   "execution_count": 31,
   "metadata": {
    "collapsed": false
   },
   "outputs": [
    {
     "name": "stdout",
     "output_type": "stream",
     "text": [
      "Number of docs in collection: 100001\n",
      "time: 911 ms\n"
     ]
    }
   ],
   "source": [
    "print (\"Number of docs in collection: %s\"%(len(posts_corpus)))"
   ]
  },
  {
   "cell_type": "code",
   "execution_count": 32,
   "metadata": {
    "collapsed": false
   },
   "outputs": [
    {
     "name": "stdout",
     "output_type": "stream",
     "text": [
      "100000\n",
      "100000\n",
      "100000\n",
      "time: 13min 16s\n"
     ]
    }
   ],
   "source": [
    "#gensim.models.LdaMulticore\n",
    "\"\"\"\n",
    "lda = gensim.models.LdaModel(corpus, num_topics=5, \n",
    "                            id2word=dictionary, \n",
    "                            update_every=5, \n",
    "                            chunksize=10000,\n",
    "                            passes=100)\n",
    "\"\"\"\n",
    "\n",
    "num_topics = 20\n",
    "\n",
    "#lda = gensim.models.LdaModel(posts_corpus, num_topics=5, \n",
    "#                            id2word=posts_corpus.dictionary\n",
    "#                                ,passes=2\n",
    "#                                )\n",
    "\n",
    "lda = gensim.models.LdaMulticore(posts_corpus, num_topics=num_topics, \n",
    "                            id2word=posts_corpus.dictionary\n",
    "                                 ,passes=3\n",
    "                                )"
   ]
  },
  {
   "cell_type": "code",
   "execution_count": 33,
   "metadata": {
    "collapsed": false
   },
   "outputs": [
    {
     "data": {
      "text/plain": [
       "[u'0.024*drive + 0.023*files + 0.023*file + 0.013*partition + 0.013*disk + 0.011*Windows + 0.010*boot + 0.008*hard + 0.008*system + 0.008*use',\n",
       " u'0.038*gt + 0.028*lt + 0.023*file + 0.010*directory + 0.008*use + 0.008*Firefox + 0.006*user + 0.006*like + 0.005*root + 0.005*set',\n",
       " u'0.029*command + 0.016*line + 0.016*use + 0.014*amp + 0.013*key + 0.012*script + 0.008*file + 0.008*like + 0.007*http + 0.007*set',\n",
       " u'0.015*Google + 0.012*search + 0.011*use + 0.009*http + 0.008*like + 0.007*would + 0.007*using + 0.007*one + 0.006*get + 0.005*work',\n",
       " u'0.013*machine + 0.012*Windows + 0.010*virtual + 0.009*laptop + 0.009*use + 0.009*PC + 0.008*would + 0.007*time + 0.007*running + 0.006*XP',\n",
       " u'0.016*user + 0.015*password + 0.013*computer + 0.011*router + 0.011*wireless + 0.010*access + 0.010*account + 0.010*network + 0.008*use + 0.008*server',\n",
       " u'0.050*Windows + 0.029*install + 0.017*version + 0.016*Ubuntu + 0.015*XP + 0.012*installed + 0.011*Linux + 0.009*Vista + 0.008*use + 0.008*package',\n",
       " u'0.011*Media + 0.010*page + 0.008*device + 0.007*print + 0.007*git + 0.006*Center + 0.006*Windows + 0.006*Version + 0.005*amp + 0.005*Address',\n",
       " u'0.031*Windows + 0.013*network + 0.009*XP + 0.008*computer + 0.007*Internet + 0.007*Explorer + 0.007*use + 0.006*machine + 0.006*connection + 0.005*running',\n",
       " u'0.027*card + 0.016*II + 0.013*video + 0.012*one + 0.012*cable + 0.010*cards + 0.009*sound + 0.008*fglrx + 0.008*USB + 0.008*output',\n",
       " u'0.010*way + 0.010*folder + 0.010*like + 0.009*open + 0.009*use + 0.008*would + 0.008*want + 0.008*email + 0.007*Outlook + 0.007*new',\n",
       " u'0.017*driver + 0.016*drivers + 0.009*Windows + 0.008*Intel + 0.007*hardware + 0.007*card + 0.007*get + 0.006*BIOS + 0.006*system + 0.006*laptop',\n",
       " u'0.021*power + 0.019*problem + 0.016*USB + 0.008*one + 0.008*see + 0.007*computer + 0.007*kernel + 0.006*device + 0.006*try + 0.006*case',\n",
       " u'0.015*memory + 0.012*drive + 0.011*would + 0.010*data + 0.009*RAM + 0.009*system + 0.007*time + 0.007*hard + 0.007*one + 0.007*drives',\n",
       " u'0.021*click + 0.012*select + 0.010*menu + 0.009*Click + 0.009*button + 0.008*want + 0.008*file + 0.008*tab + 0.007*text + 0.007*right',\n",
       " u'0.019*server + 0.015*address + 0.015*network + 0.015*IP + 0.012*router + 0.009*use + 0.009*port + 0.009*connection + 0.008*using + 0.007*DNS',\n",
       " u'0.015*window + 0.009*Windows + 0.008*use + 0.007*Option + 0.007*windows + 0.006*screen + 0.006*open + 0.005*application + 0.005*run + 0.005*Device',\n",
       " u'0.017*files + 0.014*use + 0.010*file + 0.009*like + 0.009*free + 0.009*video + 0.008*would + 0.008*iTunes + 0.007*want + 0.006*software',\n",
       " u'0.023*screen + 0.020*monitor + 0.010*image + 0.010*resolution + 0.010*display + 0.009*like + 0.008*using + 0.008*use + 0.007*color + 0.006*monitors',\n",
       " u'0.014*windows + 0.012*Windows + 0.011*work + 0.010*Mac + 0.010*OS + 0.009*using + 0.009*like + 0.008*way + 0.007*tried + 0.007*get']"
      ]
     },
     "execution_count": 33,
     "metadata": {},
     "output_type": "execute_result"
    },
    {
     "name": "stdout",
     "output_type": "stream",
     "text": [
      "time: 26.7 ms\n"
     ]
    }
   ],
   "source": [
    "lda.show_topics(num_topics)"
   ]
  },
  {
   "cell_type": "code",
   "execution_count": 34,
   "metadata": {
    "collapsed": false
   },
   "outputs": [
    {
     "name": "stdout",
     "output_type": "stream",
     "text": [
      "['card', 'II', 'video', 'one', 'cable', 'cards', 'sound', 'fglrx', 'USB', 'output', 'use', 'would', 'two', 'device', 'port', 'DVI', 'graphics', 'like', 'computer', 'VGA']\n",
      "()\n",
      "['user', 'password', 'computer', 'router', 'wireless', 'access', 'account', 'network', 'use', 'server', 'like', 'one', 'using', 'connect', 'get', 'would', 'want', 'log', 'remote', 'set']\n",
      "()\n",
      "['screen', 'monitor', 'image', 'resolution', 'display', 'like', 'using', 'use', 'color', 'monitors', 'one', 'size', 'would', 'want', 'need', 'also', 'background', 'nbsp', 'desktop', 'make']\n",
      "()\n",
      "['power', 'problem', 'USB', 'one', 'see', 'computer', 'kernel', 'device', 'try', 'case', 'could', 'get', 'may', 'fan', 'issue', 'would', 'supply', 'motherboard', 'like', 'drive']\n",
      "()\n",
      "['window', 'Windows', 'use', 'Option', 'windows', 'screen', 'open', 'application', 'run', 'Device', 'mouse', 'work', 'Manager', 'Screen', 'bit', 'using', 'Task', 'version', 'one', 'applications']\n",
      "()\n",
      "['Google', 'search', 'use', 'http', 'like', 'would', 'using', 'one', 'get', 'work', 'data', 'also', 'know', 'try', 'find', 'good', 'drive', 'used', 'Chrome', 'might']\n",
      "()\n",
      "['driver', 'drivers', 'Windows', 'Intel', 'hardware', 'card', 'get', 'BIOS', 'system', 'laptop', 'would', 'Dell', 'support', 'new', 'installed', 'problem', 'work', 'software', 'II', 'motherboard']\n",
      "()\n",
      "['Media', 'page', 'device', 'print', 'git', 'Center', 'Windows', 'Version', 'amp', 'Address', 'Unknown', 'one', 'printer', 'using', 'printing', 'Source', 'use', 'Name', 'TV', 'like']\n",
      "()\n",
      "['files', 'use', 'file', 'like', 'free', 'video', 'would', 'iTunes', 'want', 'software', 'program', 'using', 'one', 'also', 'PDF', 'music', 'tool', 'play', 'good', 'could']\n",
      "()\n",
      "['way', 'folder', 'like', 'open', 'use', 'would', 'want', 'email', 'Outlook', 'new', 'one', 'using', 'mail', 'folders', 'files', 'file', 'work', 'get', 'time', 'account']\n",
      "()\n",
      "time: 871 ms\n"
     ]
    }
   ],
   "source": [
    "topics_matrix = lda.show_topics(formatted=False, num_words=20)\n",
    "topics_matrix = np.array(topics_matrix)\n",
    "\n",
    "topic_words = topics_matrix[:,:,1]\n",
    "for i in topic_words:\n",
    "    print([str(word) for word in i])\n",
    "    print()"
   ]
  },
  {
   "cell_type": "code",
   "execution_count": null,
   "metadata": {
    "collapsed": true
   },
   "outputs": [],
   "source": []
  },
  {
   "cell_type": "code",
   "execution_count": null,
   "metadata": {
    "collapsed": true
   },
   "outputs": [],
   "source": []
  },
  {
   "cell_type": "code",
   "execution_count": 35,
   "metadata": {
    "collapsed": false
   },
   "outputs": [
    {
     "data": {
      "text/plain": [
       "[u'0.015*Google + 0.012*search + 0.011*use + 0.009*http + 0.008*like + 0.007*would + 0.007*using + 0.007*one + 0.006*get + 0.005*work',\n",
       " u'0.017*files + 0.014*use + 0.010*file + 0.009*like + 0.009*free + 0.009*video + 0.008*would + 0.008*iTunes + 0.007*want + 0.006*software',\n",
       " u'0.027*card + 0.016*II + 0.013*video + 0.012*one + 0.012*cable + 0.010*cards + 0.009*sound + 0.008*fglrx + 0.008*USB + 0.008*output',\n",
       " u'0.031*Windows + 0.013*network + 0.009*XP + 0.008*computer + 0.007*Internet + 0.007*Explorer + 0.007*use + 0.006*machine + 0.006*connection + 0.005*running',\n",
       " u'0.017*driver + 0.016*drivers + 0.009*Windows + 0.008*Intel + 0.007*hardware + 0.007*card + 0.007*get + 0.006*BIOS + 0.006*system + 0.006*laptop',\n",
       " u'0.038*gt + 0.028*lt + 0.023*file + 0.010*directory + 0.008*use + 0.008*Firefox + 0.006*user + 0.006*like + 0.005*root + 0.005*set',\n",
       " u'0.021*power + 0.019*problem + 0.016*USB + 0.008*one + 0.008*see + 0.007*computer + 0.007*kernel + 0.006*device + 0.006*try + 0.006*case',\n",
       " u'0.013*machine + 0.012*Windows + 0.010*virtual + 0.009*laptop + 0.009*use + 0.009*PC + 0.008*would + 0.007*time + 0.007*running + 0.006*XP',\n",
       " u'0.021*click + 0.012*select + 0.010*menu + 0.009*Click + 0.009*button + 0.008*want + 0.008*file + 0.008*tab + 0.007*text + 0.007*right',\n",
       " u'0.015*memory + 0.012*drive + 0.011*would + 0.010*data + 0.009*RAM + 0.009*system + 0.007*time + 0.007*hard + 0.007*one + 0.007*drives']"
      ]
     },
     "execution_count": 35,
     "metadata": {},
     "output_type": "execute_result"
    },
    {
     "name": "stdout",
     "output_type": "stream",
     "text": [
      "time: 618 ms\n"
     ]
    }
   ],
   "source": [
    "lda.show_topics()"
   ]
  },
  {
   "cell_type": "code",
   "execution_count": null,
   "metadata": {
    "collapsed": false
   },
   "outputs": [],
   "source": []
  },
  {
   "cell_type": "code",
   "execution_count": 36,
   "metadata": {
    "collapsed": false
   },
   "outputs": [
    {
     "name": "stdout",
     "output_type": "stream",
     "text": [
      "time: 777 ms\n"
     ]
    }
   ],
   "source": [
    "model_serialized_path='lda_topic_%s.lda'%(num_topics)\n",
    "lda.save(model_serialized_path) "
   ]
  },
  {
   "cell_type": "code",
   "execution_count": 37,
   "metadata": {
    "collapsed": false
   },
   "outputs": [
    {
     "name": "stdout",
     "output_type": "stream",
     "text": [
      "time: 594 ms\n"
     ]
    }
   ],
   "source": [
    "lda = gensim.models.LdaMulticore.load(model_serialized_path)"
   ]
  },
  {
   "cell_type": "code",
   "execution_count": 38,
   "metadata": {
    "collapsed": false
   },
   "outputs": [
    {
     "data": {
      "text/plain": [
       "[u'0.050*Windows + 0.029*install + 0.017*version + 0.016*Ubuntu + 0.015*XP + 0.012*installed + 0.011*Linux + 0.009*Vista + 0.008*use + 0.008*package',\n",
       " u'0.016*user + 0.015*password + 0.013*computer + 0.011*router + 0.011*wireless + 0.010*access + 0.010*account + 0.010*network + 0.008*use + 0.008*server',\n",
       " u'0.013*machine + 0.012*Windows + 0.010*virtual + 0.009*laptop + 0.009*use + 0.009*PC + 0.008*would + 0.007*time + 0.007*running + 0.006*XP',\n",
       " u'0.017*files + 0.014*use + 0.010*file + 0.009*like + 0.009*free + 0.009*video + 0.008*would + 0.008*iTunes + 0.007*want + 0.006*software',\n",
       " u'0.011*Media + 0.010*page + 0.008*device + 0.007*print + 0.007*git + 0.006*Center + 0.006*Windows + 0.006*Version + 0.005*amp + 0.005*Address',\n",
       " u'0.021*click + 0.012*select + 0.010*menu + 0.009*Click + 0.009*button + 0.008*want + 0.008*file + 0.008*tab + 0.007*text + 0.007*right',\n",
       " u'0.038*gt + 0.028*lt + 0.023*file + 0.010*directory + 0.008*use + 0.008*Firefox + 0.006*user + 0.006*like + 0.005*root + 0.005*set',\n",
       " u'0.019*server + 0.015*address + 0.015*network + 0.015*IP + 0.012*router + 0.009*use + 0.009*port + 0.009*connection + 0.008*using + 0.007*DNS',\n",
       " u'0.015*memory + 0.012*drive + 0.011*would + 0.010*data + 0.009*RAM + 0.009*system + 0.007*time + 0.007*hard + 0.007*one + 0.007*drives',\n",
       " u'0.023*screen + 0.020*monitor + 0.010*image + 0.010*resolution + 0.010*display + 0.009*like + 0.008*using + 0.008*use + 0.007*color + 0.006*monitors']"
      ]
     },
     "execution_count": 38,
     "metadata": {},
     "output_type": "execute_result"
    },
    {
     "name": "stdout",
     "output_type": "stream",
     "text": [
      "time: 900 ms\n"
     ]
    }
   ],
   "source": [
    "lda.show_topics()"
   ]
  },
  {
   "cell_type": "code",
   "execution_count": null,
   "metadata": {
    "collapsed": true
   },
   "outputs": [],
   "source": []
  }
 ],
 "metadata": {
  "kernelspec": {
   "display_name": "Python 2",
   "language": "python",
   "name": "python2"
  },
  "language_info": {
   "codemirror_mode": {
    "name": "ipython",
    "version": 2
   },
   "file_extension": ".py",
   "mimetype": "text/x-python",
   "name": "python",
   "nbconvert_exporter": "python",
   "pygments_lexer": "ipython2",
   "version": "2.7.6"
  }
 },
 "nbformat": 4,
 "nbformat_minor": 0
}
