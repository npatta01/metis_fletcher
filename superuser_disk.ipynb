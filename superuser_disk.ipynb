{
 "cells": [
  {
   "cell_type": "code",
   "execution_count": 1,
   "metadata": {
    "collapsed": false
   },
   "outputs": [],
   "source": [
    "import io\n",
    "import xml.etree.ElementTree as ET\n",
    "import pandas as pd\n",
    "import helper\n",
    "from sklearn.feature_extraction.text import CountVectorizer\n",
    "import gensim\n",
    "import numpy as np\n",
    "import os\n",
    "from gensim import corpora, models, similarities "
   ]
  },
  {
   "cell_type": "code",
   "execution_count": 2,
   "metadata": {
    "collapsed": false
   },
   "outputs": [],
   "source": [
    "%load_ext autoreload\n",
    "%autoreload 2"
   ]
  },
  {
   "cell_type": "code",
   "execution_count": 3,
   "metadata": {
    "collapsed": false
   },
   "outputs": [
    {
     "name": "stdout",
     "output_type": "stream",
     "text": [
      "Installed autotime.py. To use it, type:\n",
      "  %load_ext autotime\n"
     ]
    }
   ],
   "source": [
    "%install_ext https://raw.github.com/cpcloud/ipython-autotime/master/autotime.py\n",
    "%load_ext autotime"
   ]
  },
  {
   "cell_type": "code",
   "execution_count": 4,
   "metadata": {
    "collapsed": false
   },
   "outputs": [
    {
     "name": "stdout",
     "output_type": "stream",
     "text": [
      "time: 3 ms\n"
     ]
    }
   ],
   "source": [
    "import logging\n",
    "logging.basicConfig(format='%(asctime)s : %(levelname)s : %(message)s', level=logging.INFO)"
   ]
  },
  {
   "cell_type": "code",
   "execution_count": 5,
   "metadata": {
    "collapsed": false,
    "scrolled": true
   },
   "outputs": [
    {
     "name": "stdout",
     "output_type": "stream",
     "text": [
      " Volume in drive E has no label.\n",
      " Volume Serial Number is 19C7-A2B3\n",
      "\n",
      " Directory of E:\\metis\\ds4_fletcher\\data\n",
      "\n",
      "08/17/2015  12:55 PM    <DIR>          .\n",
      "08/17/2015  12:55 PM    <DIR>          ..\n",
      "03/09/2015  06:04 PM        60,201,826 Badges.xml\n",
      "03/09/2015  06:04 PM       238,716,194 Comments.xml\n",
      "03/09/2015  06:05 PM     1,144,804,160 PostHistory.xml\n",
      "03/09/2015  06:06 PM         6,192,845 PostLinks.xml\n",
      "03/09/2015  06:06 PM       736,314,717 Posts.xml\n",
      "03/09/2015  06:06 PM           367,147 Tags.xml\n",
      "03/09/2015  06:06 PM       100,081,558 Users.xml\n",
      "03/09/2015  06:07 PM       210,233,404 Votes.xml\n",
      "               8 File(s)  2,496,911,851 bytes\n",
      "               2 Dir(s)  638,569,201,664 bytes free\n",
      "time: 18 ms\n"
     ]
    }
   ],
   "source": [
    "ls data"
   ]
  },
  {
   "cell_type": "code",
   "execution_count": 6,
   "metadata": {
    "collapsed": false
   },
   "outputs": [
    {
     "name": "stdout",
     "output_type": "stream",
     "text": [
      "time: 2 ms\n"
     ]
    }
   ],
   "source": [
    "data_dir='data'"
   ]
  },
  {
   "cell_type": "markdown",
   "metadata": {},
   "source": [
    "## Normalizer"
   ]
  },
  {
   "cell_type": "code",
   "execution_count": 7,
   "metadata": {
    "collapsed": false
   },
   "outputs": [
    {
     "name": "stdout",
     "output_type": "stream",
     "text": [
      "time: 3 ms\n"
     ]
    }
   ],
   "source": [
    "ag_preprocesser = helper.Normalizer(stem=False\\\n",
    "                                 ,stopword_removal=True\\\n",
    "                                 ,strip_html_tags=True)"
   ]
  },
  {
   "cell_type": "markdown",
   "metadata": {},
   "source": [
    "## Loading Streaming"
   ]
  },
  {
   "cell_type": "code",
   "execution_count": 8,
   "metadata": {
    "collapsed": false
   },
   "outputs": [
    {
     "name": "stdout",
     "output_type": "stream",
     "text": [
      "time: 2 ms\n"
     ]
    }
   ],
   "source": [
    "post_file=os.path.join(data_dir,'Posts.xml')\n",
    "posts_corpus = helper.XmlCorpus(post_file\n",
    "                                ,clip_docs=10\n",
    "                                ,body_field='Body'\n",
    "                                ,normalizer=ag_preprocesser)"
   ]
  },
  {
   "cell_type": "code",
   "execution_count": 9,
   "metadata": {
    "collapsed": false
   },
   "outputs": [
    {
     "data": {
      "text/plain": [
       "[u'A',\n",
       " u'Vista',\n",
       " u'virtual',\n",
       " u'machine',\n",
       " u'I',\n",
       " u'use',\n",
       " u'GB',\n",
       " u'virtual',\n",
       " u'hard',\n",
       " u'disk',\n",
       " u'I',\n",
       " u\"'m\",\n",
       " u'worried',\n",
       " u'running',\n",
       " u'space',\n",
       " u'time',\n",
       " u'I',\n",
       " u'used',\n",
       " u'TreeSize',\n",
       " u'check',\n",
       " u'culprits..',\n",
       " u'And',\n",
       " u'primary',\n",
       " u'culprit',\n",
       " u'/winsxs',\n",
       " u'Windows',\n",
       " u'Side-By-Side',\n",
       " u'folder',\n",
       " u'What',\n",
       " u'Windows',\n",
       " u'Side',\n",
       " u'By',\n",
       " u'Side',\n",
       " u'folder',\n",
       " u'Well',\n",
       " u\"'s\",\n",
       " u'explained',\n",
       " u'pretty',\n",
       " u'well',\n",
       " u'All',\n",
       " u'components',\n",
       " u'operating',\n",
       " u'system',\n",
       " u'found',\n",
       " u'WinSxS',\n",
       " u'folder',\n",
       " u'\\\\u2013',\n",
       " u'fact',\n",
       " u'call',\n",
       " u'location',\n",
       " u'component',\n",
       " u'store',\n",
       " u'Each',\n",
       " u'component',\n",
       " u'unique',\n",
       " u'name',\n",
       " u'includes',\n",
       " u'version',\n",
       " u'language',\n",
       " u'processor',\n",
       " u'architecture',\n",
       " u'built',\n",
       " u'The',\n",
       " u'WinSxS',\n",
       " u'folder',\n",
       " u'location',\n",
       " u'component',\n",
       " u'found',\n",
       " u'system',\n",
       " u'instances',\n",
       " u'files',\n",
       " u'see',\n",
       " u'system',\n",
       " u'\\\\u201cprojected\\\\u201d',\n",
       " u'hard',\n",
       " u'linking',\n",
       " u'component',\n",
       " u'store',\n",
       " u'Let',\n",
       " u'repeat',\n",
       " u'last',\n",
       " u'point',\n",
       " u'\\\\u2013',\n",
       " u'one',\n",
       " u'instance',\n",
       " u'full',\n",
       " u'data',\n",
       " u'copy',\n",
       " u'version',\n",
       " u'file',\n",
       " u'OS',\n",
       " u'instance',\n",
       " u'located',\n",
       " u'WinSxS',\n",
       " u'folder',\n",
       " u'So',\n",
       " u'looked',\n",
       " u'perspective',\n",
       " u'WinSxS',\n",
       " u'folder',\n",
       " u'really',\n",
       " u'entirety',\n",
       " u'whole',\n",
       " u'OS',\n",
       " u'referred',\n",
       " u'flat',\n",
       " u'down-level',\n",
       " u'operating',\n",
       " u'systems',\n",
       " u'This',\n",
       " u'also',\n",
       " u'accounts',\n",
       " u'longer',\n",
       " u'prompted',\n",
       " u'media',\n",
       " u'running',\n",
       " u'operations',\n",
       " u'System',\n",
       " u'File',\n",
       " u'Checker',\n",
       " u'SFC',\n",
       " u'installing',\n",
       " u'additional',\n",
       " u'features',\n",
       " u'roles',\n",
       " u'That',\n",
       " u'explains',\n",
       " u'folder',\n",
       " u'starts',\n",
       " u'big',\n",
       " u'gets',\n",
       " u'larger',\n",
       " u'time',\n",
       " u'\\\\u2013',\n",
       " u'answer',\n",
       " u'question',\n",
       " u'servicing',\n",
       " u'In',\n",
       " u'previous',\n",
       " u'versions',\n",
       " u'Windows',\n",
       " u'atomic',\n",
       " u'unit',\n",
       " u'servicing',\n",
       " u'file',\n",
       " u'Windows',\n",
       " u'Vista',\n",
       " u'it\\\\u2019s',\n",
       " u'component',\n",
       " u'When',\n",
       " u'update',\n",
       " u'particular',\n",
       " u'binary',\n",
       " u'release',\n",
       " u'new',\n",
       " u'version',\n",
       " u'whole',\n",
       " u'component',\n",
       " u'new',\n",
       " u'version',\n",
       " u'stored',\n",
       " u'alongside',\n",
       " u'original',\n",
       " u'one',\n",
       " u'component',\n",
       " u'store',\n",
       " u'The',\n",
       " u'higher',\n",
       " u'version',\n",
       " u'component',\n",
       " u'projected',\n",
       " u'onto',\n",
       " u'system',\n",
       " u'older',\n",
       " u'version',\n",
       " u'store',\n",
       " u'isn\\\\u2019t',\n",
       " u'touched',\n",
       " u'The',\n",
       " u'reason',\n",
       " u'third',\n",
       " u'part',\n",
       " u'component',\n",
       " u'store',\n",
       " u'gets',\n",
       " u'large',\n",
       " u'Lots',\n",
       " u'people',\n",
       " u'complaining',\n",
       " u'size',\n",
       " u'/winsxs',\n",
       " u'folder',\n",
       " u'A',\n",
       " u'coworker',\n",
       " u'recently',\n",
       " u'received',\n",
       " u'every',\n",
       " u'two',\n",
       " u'year',\n",
       " u'work',\n",
       " u'laptop',\n",
       " u'refresh',\n",
       " u'middle',\n",
       " u'loading',\n",
       " u'new',\n",
       " u'laptop',\n",
       " u'Vista',\n",
       " u'For',\n",
       " u'reason',\n",
       " u'hard',\n",
       " u'drive',\n",
       " u'C',\n",
       " u'partitioned',\n",
       " u'25GB',\n",
       " u'rest',\n",
       " u'space',\n",
       " u'reserved',\n",
       " u'much',\n",
       " u'larger',\n",
       " u'drive',\n",
       " u'D',\n",
       " u'Anyway',\n",
       " u'loading',\n",
       " u'many',\n",
       " u'Windows',\n",
       " u'Updates',\n",
       " u'left',\n",
       " u'hardly',\n",
       " u'drive',\n",
       " u'space',\n",
       " u'left',\n",
       " u'C',\n",
       " u'reason',\n",
       " u'WinSxS',\n",
       " u'directory',\n",
       " u'ballooned',\n",
       " u'8GB',\n",
       " u'While',\n",
       " u'I',\n",
       " u'knew',\n",
       " u'WinSxS',\n",
       " u'Windows',\n",
       " u'Side-by-Side',\n",
       " u'directory',\n",
       " u'I',\n",
       " u\"n't\",\n",
       " u'quite',\n",
       " u'sure',\n",
       " u'directory',\n",
       " u'would',\n",
       " u'explode',\n",
       " u'size',\n",
       " u'fast',\n",
       " u'normal',\n",
       " u'operating',\n",
       " u'system',\n",
       " u'updates',\n",
       " u'I',\n",
       " u\"n't\",\n",
       " u'really',\n",
       " u'care',\n",
       " u'duplicate',\n",
       " u'files',\n",
       " u'safety',\n",
       " u'I',\n",
       " u'care',\n",
       " u'VM',\n",
       " u'exploding',\n",
       " u'due',\n",
       " u'disk',\n",
       " u'space',\n",
       " u'error',\n",
       " u'So..',\n",
       " u'/winsxs',\n",
       " u'safely',\n",
       " u'pared',\n",
       " u'way',\n",
       " u'It',\n",
       " u\"n't\",\n",
       " u'seem',\n",
       " u'be..',\n",
       " u'Administrators',\n",
       " u'reason',\n",
       " u'take',\n",
       " u'upon',\n",
       " u'clean',\n",
       " u'/winsxs',\n",
       " u'directory',\n",
       " u'may',\n",
       " u'prevent',\n",
       " u'Windows',\n",
       " u'Update',\n",
       " u'MSI',\n",
       " u'functioning',\n",
       " u'properly',\n",
       " u'afterwards',\n",
       " u'Preventing',\n",
       " u'accidental',\n",
       " u'deletion',\n",
       " u'directory',\n",
       " u'accomplished',\n",
       " u'putting',\n",
       " u'strong',\n",
       " u'security',\n",
       " u'descriptor',\n",
       " u'directory',\n",
       " u'inherits',\n",
       " u'children',\n",
       " u'If',\n",
       " u'/winsxs',\n",
       " u'folder',\n",
       " u'gets',\n",
       " u'larger',\n",
       " u'I',\n",
       " u\"'m\",\n",
       " u'going',\n",
       " u're-image',\n",
       " u'virtual',\n",
       " u'machine..',\n",
       " u'I',\n",
       " u'really',\n",
       " u\"n't\",\n",
       " u'want']"
      ]
     },
     "execution_count": 9,
     "metadata": {},
     "output_type": "execute_result"
    },
    {
     "name": "stdout",
     "output_type": "stream",
     "text": [
      "time: 289 ms\n"
     ]
    }
   ],
   "source": [
    "sample_msg='<p>A Vista virtual machine I use only has a 10 GB virtual hard disk -- and I\\'m worried about it running out of space over time.</p>\\n\\n<p>I used <a href=\"http://www.jam-software.com/treesize_free/\">TreeSize</a> to check for the culprits..</p>\\n\\n<p><img src=\"http://i.stack.imgur.com/uGfhQ.png\" alt=\"enter image description here\"></p>\\n\\n<p>And the primary culprit is that <strong><code>/winsxs</code> or \"Windows Side-By-Side\" folder</strong>.</p>\\n\\n<p><img src=\"http://i.stack.imgur.com/DWYOo.png\" alt=\"enter image description here\"></p>\\n\\n<p>What is the Windows Side By Side folder? Well, that\\'s <a href=\"http://blogs.technet.com/askcore/archive/2008/09/17/what-is-the-winsxs-directory-in-windows-2008-and-windows-vista-and-why-is-it-so-large.aspx\">explained pretty well here</a>.</p>\\n\\n<blockquote>\\n  <p>All of the components in the operating system are found in the WinSxS folder \\u2013 in fact we call this location the component store.  Each component has a unique name that includes the version, language, and processor architecture that it was built for.  The WinSxS folder is the only location that the component is found on the system, all other instances of the files that you see on the system are \\u201cprojected\\u201d by hard linking from the component store.  Let me repeat that last point \\u2013 there is only one instance (or full data copy) of each version of each file in the OS, and that instance is located in the WinSxS folder.   So looked at from that perspective, the WinSxS folder is really the entirety of the whole OS, referred to as a \"flat\" in down-level operating systems.  This also accounts for why you will no longer be prompted for media when running operations such as System File Checker (SFC), or when installing additional features and roles.</p>\\n  \\n  <p>That explains why the folder starts off big, but not why it gets larger over time \\u2013 the answer to that question is servicing.   In previous versions of Windows the atomic unit of servicing was the file, in Windows Vista it\\u2019s the component.  When we update a particular binary we release a new version of the whole component, and that new version is stored alongside the original one in the component store.  The higher version of the component is projected onto the system, but the older version in the store isn\\u2019t touched.  The reason for that is the third part of why the component store gets so large.</p>\\n</blockquote>\\n\\n<p>Lots of other people <a href=\"http://blog.tiensivu.com/aaron/archives/1306-Demystifying-the-WinSxS-directory-in-Windows-XP,-Vista-and-Server-20032008.html\">complaining about the size of the /winsxs folder, too</a>:</p>\\n\\n<blockquote>\\n  <p>A coworker recently received his every two year work laptop refresh and was in the middle of loading his new laptop with Vista. For some reason, his hard drive C: was partitioned to only 25GB and the rest of the space reserved for a much larger drive D:.</p>\\n  \\n  <p>Anyway, after loading many Windows Updates, he was left with hardly any drive space left on C:, and for some reason, the WinSxS directory had ballooned to over 8GB.</p>\\n  \\n  <p>While I knew what the WinSxS (Windows Side-by-Side) directory was for, I wasn\\'t quite sure why that directory would explode in size so fast with normal operating system updates.</p>\\n</blockquote>\\n\\n<p>I don\\'t really care about having all these duplicate files for safety, but I <em>do</em> care about the VM exploding due to an out of disk space error. So.. <strong>can /winsxs be safely pared down in any way?</strong> <a href=\"http://blogs.msdn.com/jonwis/archive/2007/01/02/deleting-from-the-winsxs-directory.aspx\">It doesn\\'t seem that it can be</a>.. </p>\\n\\n<blockquote>\\n  <p><strong>Administrators should not, for any reason, take it upon themselves to clean out the /winsxs directory</strong> - doing so may prevent Windows Update and MSI from functioning properly afterwards.  Preventing accidental deletion from the directory is accomplished by putting a strong security descriptor on the directory that inherits to its children.</p>\\n</blockquote>\\n\\n<p>If this /winsxs folder gets any larger, I\\'m going to have to re-image this virtual machine.. which I <em>really</em> don\\'t want to do!</p>\\n'\n",
    "\n",
    "ag_preprocesser.process(sample_msg)"
   ]
  },
  {
   "cell_type": "code",
   "execution_count": 10,
   "metadata": {
    "collapsed": false
   },
   "outputs": [
    {
     "name": "stdout",
     "output_type": "stream",
     "text": [
      "10\n",
      "[(0, 2), (1, 1), (2, 5), (3, 1), (4, 1), (5, 2), (6, 1), (7, 1), (8, 1), (9, 1), (10, 1), (11, 2), (12, 1), (13, 1), (14, 1), (15, 1), (16, 1), (17, 1), (18, 9), (19, 1), (20, 1), (21, 1), (22, 1), (23, 1), (24, 1), (25, 2), (26, 1), (27, 1), (28, 2), (29, 1), (30, 1), (31, 1), (32, 1), (33, 1), (34, 1), (35, 3), (36, 1), (37, 1), (38, 1), (39, 1), (40, 1), (41, 3), (42, 1), (43, 1), (44, 1), (45, 1), (46, 6), (47, 7), (48, 1), (49, 1), (50, 1), (51, 1), (52, 1), (53, 1), (54, 1), (55, 1), (56, 1), (57, 1), (58, 1), (59, 1), (60, 1), (61, 1), (62, 1), (63, 1), (64, 2), (65, 1), (66, 1), (67, 1), (68, 1), (69, 9), (70, 1), (71, 1), (72, 1), (73, 1), (74, 1), (75, 1), (76, 1), (77, 1), (78, 6), (79, 2), (80, 1), (81, 3), (82, 1), (83, 1), (84, 1), (85, 1), (86, 1), (87, 1), (88, 1), (89, 1), (90, 1), (91, 1), (92, 1), (93, 1), (94, 2), (95, 2), (96, 1), (97, 9), (98, 2), (99, 1), (100, 1), (101, 3), (102, 1), (103, 3), (104, 1), (105, 1), (106, 1), (107, 1), (108, 1), (109, 2), (110, 1), (111, 1), (112, 1), (113, 1), (114, 1), (115, 2), (116, 1), (117, 3), (118, 1), (119, 2), (120, 1), (121, 2), (122, 1), (123, 2), (124, 1), (125, 1), (126, 1), (127, 1), (128, 1), (129, 1), (130, 1), (131, 1), (132, 1), (133, 4), (134, 1), (135, 3), (136, 1), (137, 1), (138, 2), (139, 1), (140, 3), (141, 1), (142, 1), (143, 1), (144, 1), (145, 1), (146, 1), (147, 1), (148, 1), (149, 1), (150, 1), (151, 1), (152, 1), (153, 1), (154, 1), (155, 1), (156, 1), (157, 1), (158, 1), (159, 1), (160, 1), (161, 1), (162, 3), (163, 4), (164, 1), (165, 1), (166, 1), (167, 1), (168, 1), (169, 1), (170, 1), (171, 1), (172, 1), (173, 2), (174, 1), (175, 1), (176, 1), (177, 1), (178, 1), (179, 2), (180, 2), (181, 4), (182, 1), (183, 5), (184, 1), (185, 1), (186, 1), (187, 5), (188, 1), (189, 1), (190, 1), (191, 2), (192, 1), (193, 1), (194, 1), (195, 1), (196, 1), (197, 1), (198, 1), (199, 1), (200, 1), (201, 6), (202, 1), (203, 3), (204, 1), (205, 1), (206, 1), (207, 2), (208, 1), (209, 1), (210, 1), (211, 1), (212, 1)]\n",
      "1\n",
      "time: 1min 9s\n"
     ]
    }
   ],
   "source": [
    "for vector in posts_corpus: # load one vector into memory at a time\n",
    "    print(vector)\n"
   ]
  },
  {
   "cell_type": "code",
   "execution_count": 12,
   "metadata": {
    "collapsed": false
   },
   "outputs": [
    {
     "name": "stdout",
     "output_type": "stream",
     "text": [
      "Number of docs in collection: 10\n",
      "time: 2 ms\n"
     ]
    }
   ],
   "source": [
    "print (\"Number of docs in collection: %s\"%(posts_corpus.clip_docs))"
   ]
  },
  {
   "cell_type": "code",
   "execution_count": null,
   "metadata": {
    "collapsed": false
   },
   "outputs": [
    {
     "name": "stdout",
     "output_type": "stream",
     "text": [
      "time: 64 ms\n"
     ]
    }
   ],
   "source": [
    "?gensim.models.LdaModel"
   ]
  },
  {
   "cell_type": "code",
   "execution_count": null,
   "metadata": {
    "collapsed": false
   },
   "outputs": [
    {
     "name": "stderr",
     "output_type": "stream",
     "text": [
      "WARNING:gensim.models.ldamodel:too few updates, training might not converge; consider increasing the number of passes or iterations to improve accuracy\n"
     ]
    },
    {
     "name": "stdout",
     "output_type": "stream",
     "text": [
      "10\n",
      "2\n",
      "10"
     ]
    }
   ],
   "source": [
    "#gensim.models.LdaMulticore\n",
    "\"\"\"\n",
    "lda = gensim.models.LdaModel(corpus, num_topics=5, \n",
    "                            id2word=dictionary, \n",
    "                            update_every=5, \n",
    "                            chunksize=10000,\n",
    "                            passes=100)\n",
    "\"\"\"\n",
    "\n",
    "num_topics = 50\n",
    "\n",
    "lda = gensim.models.LdaModel(posts_corpus, num_topics=5, \n",
    "                            id2word=posts_corpus.dictionary\n",
    "                                ,passes=2\n",
    "                                )"
   ]
  },
  {
   "cell_type": "code",
   "execution_count": null,
   "metadata": {
    "collapsed": false
   },
   "outputs": [],
   "source": [
    "lda.show_topics(50)"
   ]
  },
  {
   "cell_type": "code",
   "execution_count": null,
   "metadata": {
    "collapsed": false
   },
   "outputs": [],
   "source": [
    "topics_matrix = lda.show_topics(formatted=False, num_words=20)\n",
    "topics_matrix = np.array(topics_matrix)\n",
    "\n",
    "topic_words = topics_matrix[:,:,1]\n",
    "for i in topic_words:\n",
    "    print([str(word) for word in i])\n",
    "    print()"
   ]
  },
  {
   "cell_type": "code",
   "execution_count": null,
   "metadata": {
    "collapsed": true
   },
   "outputs": [],
   "source": []
  },
  {
   "cell_type": "code",
   "execution_count": null,
   "metadata": {
    "collapsed": true
   },
   "outputs": [],
   "source": []
  },
  {
   "cell_type": "code",
   "execution_count": null,
   "metadata": {
    "collapsed": false
   },
   "outputs": [],
   "source": [
    "lda.show_topics()"
   ]
  },
  {
   "cell_type": "code",
   "execution_count": null,
   "metadata": {
    "collapsed": true
   },
   "outputs": [],
   "source": []
  }
 ],
 "metadata": {
  "kernelspec": {
   "display_name": "Python 2",
   "language": "python",
   "name": "python2"
  }
 },
 "nbformat": 4,
 "nbformat_minor": 0
}
