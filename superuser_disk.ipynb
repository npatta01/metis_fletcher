{
 "cells": [
  {
   "cell_type": "code",
   "execution_count": 1,
   "metadata": {
    "collapsed": false
   },
   "outputs": [],
   "source": [
    "import io\n",
    "import xml.etree.ElementTree as ET\n",
    "import pandas as pd\n",
    "import helper\n",
    "from sklearn.feature_extraction.text import CountVectorizer\n",
    "import gensim\n",
    "import numpy as np\n",
    "import os\n",
    "from gensim import corpora, models, similarities \n",
    "from gensim.corpora.mmcorpus import MmCorpus"
   ]
  },
  {
   "cell_type": "code",
   "execution_count": 2,
   "metadata": {
    "collapsed": false
   },
   "outputs": [],
   "source": [
    "%load_ext autoreload\n",
    "%autoreload 2"
   ]
  },
  {
   "cell_type": "code",
   "execution_count": 3,
   "metadata": {
    "collapsed": false
   },
   "outputs": [
    {
     "name": "stdout",
     "output_type": "stream",
     "text": [
      "Installed autotime.py. To use it, type:\n",
      "  %load_ext autotime\n"
     ]
    },
    {
     "name": "stderr",
     "output_type": "stream",
     "text": [
      "/home/jshoun01/.virtualenvs/py27/local/lib/python2.7/site-packages/IPython/core/magics/extension.py:47: UserWarning: %install_ext` is deprecated, please distribute your extension(s)as a python packages.\n",
      "  \"as a python packages.\", UserWarning)\n"
     ]
    }
   ],
   "source": [
    "%install_ext https://raw.github.com/cpcloud/ipython-autotime/master/autotime.py\n",
    "%load_ext autotime"
   ]
  },
  {
   "cell_type": "code",
   "execution_count": 4,
   "metadata": {
    "collapsed": false
   },
   "outputs": [
    {
     "name": "stdout",
     "output_type": "stream",
     "text": [
      "time: 305 ms\n"
     ]
    }
   ],
   "source": [
    "#%unload_ext autotime"
   ]
  },
  {
   "cell_type": "code",
   "execution_count": 5,
   "metadata": {
    "collapsed": false
   },
   "outputs": [
    {
     "name": "stdout",
     "output_type": "stream",
     "text": [
      "time: 651 ms\n"
     ]
    }
   ],
   "source": [
    "import logging\n",
    "logging.basicConfig(format='%(asctime)s : %(levelname)s : %(message)s', level=logging.INFO)"
   ]
  },
  {
   "cell_type": "code",
   "execution_count": 6,
   "metadata": {
    "collapsed": false,
    "scrolled": true
   },
   "outputs": [
    {
     "name": "stdout",
     "output_type": "stream",
     "text": [
      "\u001b[0m\u001b[01;36mdata\u001b[0m@\n",
      "time: 604 ms\n"
     ]
    }
   ],
   "source": [
    "ls data"
   ]
  },
  {
   "cell_type": "code",
   "execution_count": 7,
   "metadata": {
    "collapsed": false
   },
   "outputs": [
    {
     "name": "stdout",
     "output_type": "stream",
     "text": [
      "time: 306 ms\n"
     ]
    }
   ],
   "source": [
    "data_dir='data'"
   ]
  },
  {
   "cell_type": "markdown",
   "metadata": {},
   "source": [
    "## Normalizer"
   ]
  },
  {
   "cell_type": "code",
   "execution_count": 8,
   "metadata": {
    "collapsed": false
   },
   "outputs": [
    {
     "name": "stdout",
     "output_type": "stream",
     "text": [
      "time: 428 ms\n"
     ]
    }
   ],
   "source": [
    "ag_preprocesser = helper.Normalizer(stem=False\\\n",
    "                                 ,stopword_removal=True\\\n",
    "                                 ,strip_html_tags=True\n",
    "                                   ,filter_parts_of_speech=True\n",
    "                                    ,min_word_length=1\n",
    "                                   )"
   ]
  },
  {
   "cell_type": "markdown",
   "metadata": {},
   "source": [
    "## Loading Streaming"
   ]
  },
  {
   "cell_type": "code",
   "execution_count": 9,
   "metadata": {
    "collapsed": false
   },
   "outputs": [
    {
     "name": "stdout",
     "output_type": "stream",
     "text": [
      "time: 37.2 s\n"
     ]
    }
   ],
   "source": [
    "post_file=os.path.join(data_dir,'Posts.xml')\n",
    "posts_corpus = helper.XmlCorpus(post_file\n",
    "                                #,clip_docs=100000\n",
    "                                ,clip_docs=1000\n",
    "                                ,body_field='Body'\n",
    "                                ,normalizer=ag_preprocesser)\n",
    "posts_corpus.finalize_dictionary()"
   ]
  },
  {
   "cell_type": "code",
   "execution_count": 10,
   "metadata": {
    "collapsed": false
   },
   "outputs": [
    {
     "data": {
      "text/plain": [
       "[u'Vista', u'virtual', u'machine', u'use', u'GB']"
      ]
     },
     "execution_count": 10,
     "metadata": {},
     "output_type": "execute_result"
    },
    {
     "name": "stdout",
     "output_type": "stream",
     "text": [
      "time: 23.3 ms\n"
     ]
    }
   ],
   "source": [
    "sample_msg='<p>A Vista virtual machine I use only has a 10 GB virtual hard disk -- and I\\'m worried about it running out of space over time.</p>\\n\\n<p>I used <a href=\"http://www.jam-software.com/treesize_free/\">TreeSize</a> to check for the culprits..</p>\\n\\n<p><img src=\"http://i.stack.imgur.com/uGfhQ.png\" alt=\"enter image description here\"></p>\\n\\n<p>And the primary culprit is that <strong><code>/winsxs</code> or \"Windows Side-By-Side\" folder</strong>.</p>\\n\\n<p><img src=\"http://i.stack.imgur.com/DWYOo.png\" alt=\"enter image description here\"></p>\\n\\n<p>What is the Windows Side By Side folder? Well, that\\'s <a href=\"http://blogs.technet.com/askcore/archive/2008/09/17/what-is-the-winsxs-directory-in-windows-2008-and-windows-vista-and-why-is-it-so-large.aspx\">explained pretty well here</a>.</p>\\n\\n<blockquote>\\n  <p>All of the components in the operating system are found in the WinSxS folder \\u2013 in fact we call this location the component store.  Each component has a unique name that includes the version, language, and processor architecture that it was built for.  The WinSxS folder is the only location that the component is found on the system, all other instances of the files that you see on the system are \\u201cprojected\\u201d by hard linking from the component store.  Let me repeat that last point \\u2013 there is only one instance (or full data copy) of each version of each file in the OS, and that instance is located in the WinSxS folder.   So looked at from that perspective, the WinSxS folder is really the entirety of the whole OS, referred to as a \"flat\" in down-level operating systems.  This also accounts for why you will no longer be prompted for media when running operations such as System File Checker (SFC), or when installing additional features and roles.</p>\\n  \\n  <p>That explains why the folder starts off big, but not why it gets larger over time \\u2013 the answer to that question is servicing.   In previous versions of Windows the atomic unit of servicing was the file, in Windows Vista it\\u2019s the component.  When we update a particular binary we release a new version of the whole component, and that new version is stored alongside the original one in the component store.  The higher version of the component is projected onto the system, but the older version in the store isn\\u2019t touched.  The reason for that is the third part of why the component store gets so large.</p>\\n</blockquote>\\n\\n<p>Lots of other people <a href=\"http://blog.tiensivu.com/aaron/archives/1306-Demystifying-the-WinSxS-directory-in-Windows-XP,-Vista-and-Server-20032008.html\">complaining about the size of the /winsxs folder, too</a>:</p>\\n\\n<blockquote>\\n  <p>A coworker recently received his every two year work laptop refresh and was in the middle of loading his new laptop with Vista. For some reason, his hard drive C: was partitioned to only 25GB and the rest of the space reserved for a much larger drive D:.</p>\\n  \\n  <p>Anyway, after loading many Windows Updates, he was left with hardly any drive space left on C:, and for some reason, the WinSxS directory had ballooned to over 8GB.</p>\\n  \\n  <p>While I knew what the WinSxS (Windows Side-by-Side) directory was for, I wasn\\'t quite sure why that directory would explode in size so fast with normal operating system updates.</p>\\n</blockquote>\\n\\n<p>I don\\'t really care about having all these duplicate files for safety, but I <em>do</em> care about the VM exploding due to an out of disk space error. So.. <strong>can /winsxs be safely pared down in any way?</strong> <a href=\"http://blogs.msdn.com/jonwis/archive/2007/01/02/deleting-from-the-winsxs-directory.aspx\">It doesn\\'t seem that it can be</a>.. </p>\\n\\n<blockquote>\\n  <p><strong>Administrators should not, for any reason, take it upon themselves to clean out the /winsxs directory</strong> - doing so may prevent Windows Update and MSI from functioning properly afterwards.  Preventing accidental deletion from the directory is accomplished by putting a strong security descriptor on the directory that inherits to its children.</p>\\n</blockquote>\\n\\n<p>If this /winsxs folder gets any larger, I\\'m going to have to re-image this virtual machine.. which I <em>really</em> don\\'t want to do!</p>\\n'\n",
    "\n",
    "ag_preprocesser.process(sample_msg)[0:5]"
   ]
  },
  {
   "cell_type": "code",
   "execution_count": 11,
   "metadata": {
    "collapsed": false
   },
   "outputs": [
    {
     "data": {
      "text/plain": [
       "'\\nnum_documents_processed=0\\ncounter=0\\nfor vector in posts_corpus: # load one vector into memory at a time\\n    print (\"Item %s\"%(counter))\\n    print(vector)\\n    print()\\n    counter=counter+1\\n'"
      ]
     },
     "execution_count": 11,
     "metadata": {},
     "output_type": "execute_result"
    },
    {
     "name": "stdout",
     "output_type": "stream",
     "text": [
      "time: 736 ms\n"
     ]
    }
   ],
   "source": [
    "\"\"\"\n",
    "num_documents_processed=0\n",
    "counter=0\n",
    "for vector in posts_corpus: # load one vector into memory at a time\n",
    "    print (\"Item %s\"%(counter))\n",
    "    print(vector)\n",
    "    print()\n",
    "    counter=counter+1\n",
    "\"\"\""
   ]
  },
  {
   "cell_type": "code",
   "execution_count": 12,
   "metadata": {
    "collapsed": false
   },
   "outputs": [
    {
     "name": "stdout",
     "output_type": "stream",
     "text": [
      "Number of docs in collection: 1001\n",
      "time: 729 ms\n"
     ]
    }
   ],
   "source": [
    "print (\"Number of docs in collection: %s\"%(len(posts_corpus)))"
   ]
  },
  {
   "cell_type": "code",
   "execution_count": 13,
   "metadata": {
    "collapsed": false
   },
   "outputs": [
    {
     "name": "stderr",
     "output_type": "stream",
     "text": [
      "WARNING:gensim.models.ldamulticore:too few updates, training might not converge; consider increasing the number of passes or iterations to improve accuracy\n"
     ]
    },
    {
     "name": "stdout",
     "output_type": "stream",
     "text": [
      "1000\n",
      "1000\n",
      "1000\n",
      "time: 2min 4s\n"
     ]
    }
   ],
   "source": [
    "#gensim.models.LdaMulticore\n",
    "\"\"\"\n",
    "lda = gensim.models.LdaModel(corpus, num_topics=5, \n",
    "                            id2word=dictionary, \n",
    "                            update_every=5, \n",
    "                            chunksize=10000,\n",
    "                            passes=100)\n",
    "\"\"\"\n",
    "\n",
    "num_topics = 20\n",
    "\n",
    "#lda = gensim.models.LdaModel(posts_corpus, num_topics=5, \n",
    "#                            id2word=posts_corpus.dictionary\n",
    "#                                ,passes=2\n",
    "#                                )\n",
    "\n",
    "lda = gensim.models.LdaMulticore(posts_corpus, num_topics=num_topics, \n",
    "                            id2word=posts_corpus.dictionary\n",
    "                                 ,passes=3\n",
    "                                )"
   ]
  },
  {
   "cell_type": "code",
   "execution_count": 14,
   "metadata": {
    "collapsed": false
   },
   "outputs": [
    {
     "data": {
      "text/plain": [
       "[u'0.019*fan + 0.018*CPU + 0.012*use + 0.011*speed + 0.011*like + 0.010*lot + 0.010*tab + 0.009*drive + 0.008*much + 0.008*time',\n",
       " u'0.015*Windows + 0.013*file + 0.011*also + 0.011*work + 0.010*get + 0.009*system + 0.009*try + 0.009*network + 0.008*different + 0.008*USB',\n",
       " u'0.023*search + 0.019*use + 0.012*used + 0.010*network + 0.010*time + 0.009*system + 0.008*laptop + 0.008*Windows + 0.007*would + 0.007*server',\n",
       " u'0.052*Windows + 0.017*install + 0.014*version + 0.013*Vista + 0.013*like + 0.012*http + 0.010*folder + 0.010*RC + 0.010*clean + 0.010*disk',\n",
       " u'0.025*use + 0.021*screen + 0.014*also + 0.012*memory + 0.012*would + 0.011*like + 0.009*card + 0.008*email + 0.008*using + 0.007*one',\n",
       " u'0.021*Windows + 0.020*use + 0.018*Vista + 0.012*user + 0.012*need + 0.010*run + 0.010*like + 0.010*PC + 0.007*tried + 0.007*home',\n",
       " u'0.016*use + 0.010*Mac + 0.010*like + 0.010*software + 0.009*works + 0.009*computer + 0.009*monitor + 0.009*sync + 0.009*get + 0.008*one',\n",
       " u'0.016*drive + 0.014*use + 0.013*computer + 0.013*files + 0.012*like + 0.010*work + 0.010*system + 0.009*video + 0.009*one + 0.008*want',\n",
       " u'0.023*use + 0.020*Windows + 0.011*PDF + 0.011*Mac + 0.010*Google + 0.010*would + 0.010*like + 0.008*registry + 0.008*want + 0.007*using',\n",
       " u'0.017*use + 0.012*drive + 0.012*Ubuntu + 0.011*like + 0.011*Windows + 0.010*computer + 0.009*want + 0.009*Linux + 0.009*OS + 0.009*one',\n",
       " u'0.013*use + 0.011*option + 0.009*also + 0.009*Windows + 0.009*driver + 0.009*menu + 0.009*one + 0.009*install + 0.008*kernel + 0.008*could',\n",
       " u'0.015*Windows + 0.014*using + 0.014*Gmail + 0.014*better + 0.013*like + 0.012*power + 0.012*use + 0.012*application + 0.008*set + 0.008*settings',\n",
       " u'0.017*Windows + 0.011*like + 0.010*sure + 0.010*go + 0.009*make + 0.009*problem + 0.008*want + 0.008*look + 0.008*system + 0.008*use',\n",
       " u'0.017*would + 0.017*Flash + 0.013*use + 0.011*browser + 0.010*network + 0.010*using + 0.009*file + 0.009*third-party + 0.009*Center + 0.009*Media',\n",
       " u'0.027*Windows + 0.014*would + 0.011*need + 0.010*like + 0.009*iTunes + 0.009*files + 0.009*XP + 0.009*registry + 0.008*file + 0.008*top',\n",
       " u'0.024*use + 0.016*computer + 0.016*using + 0.015*work + 0.012*way + 0.012*want + 0.012*get + 0.010*one + 0.010*email + 0.009*web',\n",
       " u'0.023*USB + 0.022*drive + 0.015*use + 0.013*know + 0.011*work + 0.010*using + 0.010*usually + 0.010*Ubuntu + 0.009*boot + 0.009*like',\n",
       " u'0.015*would + 0.013*Windows + 0.013*new + 0.013*PC + 0.011*one + 0.010*could + 0.010*use + 0.009*drive + 0.008*data + 0.008*hard',\n",
       " u'0.019*get + 0.017*use + 0.016*like + 0.015*disk + 0.011*way + 0.011*free + 0.008*work + 0.008*good + 0.008*probably + 0.008*using',\n",
       " u'0.024*sudo + 0.016*su + 0.014*user + 0.014*root + 0.012*want + 0.012*shell + 0.010*using + 0.009*see + 0.009*new + 0.008*like']"
      ]
     },
     "execution_count": 14,
     "metadata": {},
     "output_type": "execute_result"
    },
    {
     "name": "stdout",
     "output_type": "stream",
     "text": [
      "time: 4.24 ms\n"
     ]
    }
   ],
   "source": [
    "lda.show_topics(num_topics)"
   ]
  },
  {
   "cell_type": "code",
   "execution_count": 15,
   "metadata": {
    "collapsed": false
   },
   "outputs": [
    {
     "name": "stdout",
     "output_type": "stream",
     "text": [
      "['USB', 'drive', 'use', 'know', 'work', 'using', 'usually', 'Ubuntu', 'boot', 'like', 'available', 'file', 'things', 'folder', 'DVD', 'problem', 'hard', 'partition', 'think', 'Windows']\n",
      "()\n",
      "['Windows', 'install', 'version', 'Vista', 'like', 'http', 'folder', 'RC', 'clean', 'disk', 'use', 'upgrade', 'backup', 'one', 'OS', 'first', 'need', 'would', 'want', 'see']\n",
      "()\n",
      "['Windows', 'using', 'Gmail', 'better', 'like', 'power', 'use', 'application', 'set', 'settings', 'need', 'manager', 'media', 'lose', 'see', 'cores', 'windows', 'computer', 'would', 'XP']\n",
      "()\n",
      "['use', 'Mac', 'like', 'software', 'works', 'computer', 'monitor', 'sync', 'get', 'one', 'Google', 'good', 'device', 'much', 'problem', 'video', 'time', 'working', 'new', 'would']\n",
      "()\n",
      "['use', 'screen', 'also', 'memory', 'would', 'like', 'card', 'email', 'using', 'one', 'server', 'used', 'Media', 'Center', 'version', 'different', 'http', 'IMAP', 'could', 'monitor']\n",
      "()\n",
      "['would', 'Flash', 'use', 'browser', 'network', 'using', 'file', 'third-party', 'Center', 'Media', 'folders', 'write', 'change', 'free', 'machine', 'like', 'read', 'access', 'software', 'browsers']\n",
      "()\n",
      "['Windows', 'file', 'also', 'work', 'get', 'system', 'try', 'network', 'different', 'USB', 'use', 'fans', 'good', 'case', 'like', 'wireless', 'probably', 'Ubuntu', 'many', 'really']\n",
      "()\n",
      "['would', 'Windows', 'new', 'PC', 'one', 'could', 'use', 'drive', 'data', 'hard', 'XP', 'router', 'using', 'Vista', 'also', 'computer', 'files', 'want', 'like', 'way']\n",
      "()\n",
      "['sudo', 'su', 'user', 'root', 'want', 'shell', 'using', 'see', 'new', 'like', 'email', 'would', 'login', 'DVI', 'run', 'one', 'get', 'settings', 'different', 'gt']\n",
      "()\n",
      "['drive', 'use', 'computer', 'files', 'like', 'work', 'system', 'video', 'one', 'want', 'hard', 'get', 'iTunes', 'using', 'would', 'backup', 'folder', 'OS', 'new', 'etc']\n",
      "()\n",
      "time: 384 ms\n"
     ]
    }
   ],
   "source": [
    "topics_matrix = lda.show_topics(formatted=False, num_words=20)\n",
    "topics_matrix = np.array(topics_matrix)\n",
    "\n",
    "topic_words = topics_matrix[:,:,1]\n",
    "for i in topic_words:\n",
    "    print([str(word) for word in i])\n",
    "    print()"
   ]
  },
  {
   "cell_type": "code",
   "execution_count": null,
   "metadata": {
    "collapsed": true
   },
   "outputs": [],
   "source": []
  },
  {
   "cell_type": "code",
   "execution_count": null,
   "metadata": {
    "collapsed": true
   },
   "outputs": [],
   "source": []
  },
  {
   "cell_type": "code",
   "execution_count": 16,
   "metadata": {
    "collapsed": false
   },
   "outputs": [
    {
     "data": {
      "text/plain": [
       "[u'0.025*use + 0.021*screen + 0.014*also + 0.012*memory + 0.012*would + 0.011*like + 0.009*card + 0.008*email + 0.008*using + 0.007*one',\n",
       " u'0.052*Windows + 0.017*install + 0.014*version + 0.013*Vista + 0.013*like + 0.012*http + 0.010*folder + 0.010*RC + 0.010*clean + 0.010*disk',\n",
       " u'0.017*use + 0.012*drive + 0.012*Ubuntu + 0.011*like + 0.011*Windows + 0.010*computer + 0.009*want + 0.009*Linux + 0.009*OS + 0.009*one',\n",
       " u'0.015*Windows + 0.013*file + 0.011*also + 0.011*work + 0.010*get + 0.009*system + 0.009*try + 0.009*network + 0.008*different + 0.008*USB',\n",
       " u'0.016*drive + 0.014*use + 0.013*computer + 0.013*files + 0.012*like + 0.010*work + 0.010*system + 0.009*video + 0.009*one + 0.008*want',\n",
       " u'0.019*fan + 0.018*CPU + 0.012*use + 0.011*speed + 0.011*like + 0.010*lot + 0.010*tab + 0.009*drive + 0.008*much + 0.008*time',\n",
       " u'0.016*use + 0.010*Mac + 0.010*like + 0.010*software + 0.009*works + 0.009*computer + 0.009*monitor + 0.009*sync + 0.009*get + 0.008*one',\n",
       " u'0.017*would + 0.017*Flash + 0.013*use + 0.011*browser + 0.010*network + 0.010*using + 0.009*file + 0.009*third-party + 0.009*Center + 0.009*Media',\n",
       " u'0.015*Windows + 0.014*using + 0.014*Gmail + 0.014*better + 0.013*like + 0.012*power + 0.012*use + 0.012*application + 0.008*set + 0.008*settings',\n",
       " u'0.023*search + 0.019*use + 0.012*used + 0.010*network + 0.010*time + 0.009*system + 0.008*laptop + 0.008*Windows + 0.007*would + 0.007*server']"
      ]
     },
     "execution_count": 16,
     "metadata": {},
     "output_type": "execute_result"
    },
    {
     "name": "stdout",
     "output_type": "stream",
     "text": [
      "time: 678 ms\n"
     ]
    }
   ],
   "source": [
    "lda.show_topics()"
   ]
  },
  {
   "cell_type": "code",
   "execution_count": null,
   "metadata": {
    "collapsed": false
   },
   "outputs": [],
   "source": []
  },
  {
   "cell_type": "code",
   "execution_count": 17,
   "metadata": {
    "collapsed": false
   },
   "outputs": [
    {
     "name": "stdout",
     "output_type": "stream",
     "text": [
      "time: 601 ms\n"
     ]
    }
   ],
   "source": [
    "model_serialized_path='lda_topic_%s.lda'%(num_topics)\n",
    "lda.save(model_serialized_path) "
   ]
  },
  {
   "cell_type": "code",
   "execution_count": 18,
   "metadata": {
    "collapsed": false
   },
   "outputs": [
    {
     "name": "stdout",
     "output_type": "stream",
     "text": [
      "time: 696 ms\n"
     ]
    }
   ],
   "source": [
    "lda = gensim.models.LdaMulticore.load(model_serialized_path)"
   ]
  },
  {
   "cell_type": "code",
   "execution_count": 19,
   "metadata": {
    "collapsed": false
   },
   "outputs": [
    {
     "data": {
      "text/plain": [
       "[u'0.017*use + 0.012*drive + 0.012*Ubuntu + 0.011*like + 0.011*Windows + 0.010*computer + 0.009*want + 0.009*Linux + 0.009*OS + 0.009*one',\n",
       " u'0.021*Windows + 0.020*use + 0.018*Vista + 0.012*user + 0.012*need + 0.010*run + 0.010*like + 0.010*PC + 0.007*tried + 0.007*home',\n",
       " u'0.015*would + 0.013*Windows + 0.013*new + 0.013*PC + 0.011*one + 0.010*could + 0.010*use + 0.009*drive + 0.008*data + 0.008*hard',\n",
       " u'0.023*search + 0.019*use + 0.012*used + 0.010*network + 0.010*time + 0.009*system + 0.008*laptop + 0.008*Windows + 0.007*would + 0.007*server',\n",
       " u'0.025*use + 0.021*screen + 0.014*also + 0.012*memory + 0.012*would + 0.011*like + 0.009*card + 0.008*email + 0.008*using + 0.007*one',\n",
       " u'0.013*use + 0.011*option + 0.009*also + 0.009*Windows + 0.009*driver + 0.009*menu + 0.009*one + 0.009*install + 0.008*kernel + 0.008*could',\n",
       " u'0.024*use + 0.016*computer + 0.016*using + 0.015*work + 0.012*way + 0.012*want + 0.012*get + 0.010*one + 0.010*email + 0.009*web',\n",
       " u'0.023*use + 0.020*Windows + 0.011*PDF + 0.011*Mac + 0.010*Google + 0.010*would + 0.010*like + 0.008*registry + 0.008*want + 0.007*using',\n",
       " u'0.052*Windows + 0.017*install + 0.014*version + 0.013*Vista + 0.013*like + 0.012*http + 0.010*folder + 0.010*RC + 0.010*clean + 0.010*disk',\n",
       " u'0.016*drive + 0.014*use + 0.013*computer + 0.013*files + 0.012*like + 0.010*work + 0.010*system + 0.009*video + 0.009*one + 0.008*want']"
      ]
     },
     "execution_count": 19,
     "metadata": {},
     "output_type": "execute_result"
    },
    {
     "name": "stdout",
     "output_type": "stream",
     "text": [
      "time: 2.98 ms\n"
     ]
    }
   ],
   "source": [
    "lda.show_topics()"
   ]
  },
  {
   "cell_type": "code",
   "execution_count": null,
   "metadata": {
    "collapsed": true
   },
   "outputs": [],
   "source": []
  }
 ],
 "metadata": {
  "kernelspec": {
   "display_name": "Python 2",
   "language": "python",
   "name": "python2"
  },
  "language_info": {
   "codemirror_mode": {
    "name": "ipython",
    "version": 2
   },
   "file_extension": ".py",
   "mimetype": "text/x-python",
   "name": "python",
   "nbconvert_exporter": "python",
   "pygments_lexer": "ipython2",
   "version": "2.7.6"
  }
 },
 "nbformat": 4,
 "nbformat_minor": 0
}
